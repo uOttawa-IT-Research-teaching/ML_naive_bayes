{
 "cells": [
  {
   "cell_type": "markdown",
   "id": "fc5f9b3a-732d-4af8-a98c-462b51a40177",
   "metadata": {},
   "source": [
    "# Bayes Naive Classifier\n",
    "This machine learning technique that is great at detecting patterns.\n",
    "\n",
    "It's a family of classifiers based on Bayes' Theorem.\n",
    "$$P(A|B) = \\frac{P(B|A)P(A)}{P(B)}$$\n",
    "What this says is that it can calculate the probability of event $A$ given that $B$ happened, i.e. $P(A|B)$. In the context of machne learning this means that it can find the probability for a certain label given the input data of the data point we are trying to predict.\n",
    "\n",
    "The right side of this equation is what we can find through training the model. The numerator is effectively the probability of $A$ and $B$ both happening. You can extend this to have many more events, so you get the probability of $A$ happening given $B$, $C$, $D$, etc., i.e. $P(A|B,C,D,...)$.\n",
    "\n",
    "Bringing this back to machine learning, it means that you can get the probability of something you want to predict based on the probabilities of features $x_1, x_2, x_3, ...$ in the dataset which you can calculate! However, this technically only holds if the features are all independent though.\n",
    "\n",
    "This almost never true, for example when your data is weather data like with the Ottawa biking, then temperature and rain and snow will surely be related. However, it works remarkably well even if there is a bit of dependence between the features.  That's why it's call **Naive** Bayes."
   ]
  },
  {
   "cell_type": "code",
   "execution_count": 1,
   "id": "cf9abc96-d62b-4255-8df3-56eeff2d3506",
   "metadata": {},
   "outputs": [],
   "source": [
    "from sklearn import datasets\n",
    "from sklearn.naive_bayes import GaussianNB\n",
    "from sklearn.metrics import accuracy_score, confusion_matrix\n",
    "from sklearn.model_selection import train_test_split\n",
    "from sklearn.preprocessing import MaxAbsScaler\n",
    "import pandas as pd"
   ]
  },
  {
   "cell_type": "markdown",
   "id": "03eb779e-dcd5-4a4d-84dd-1791346012a8",
   "metadata": {},
   "source": [
    "## Iris data set\n",
    "\n",
    "The classic Iris data set works very well with Bayes. This it the data set that has petal length and other physical properties linked to the type of iris.\n",
    "\n",
    "I'm using this dataset here just to show you the minimum amount of steps to use Naive Bayes."
   ]
  },
  {
   "cell_type": "code",
   "execution_count": 63,
   "id": "e4d7e444-c251-469d-b724-679c752b34de",
   "metadata": {},
   "outputs": [
    {
     "data": {
      "text/plain": [
       "array(['setosa', 'versicolor', 'virginica'], dtype='<U10')"
      ]
     },
     "execution_count": 63,
     "metadata": {},
     "output_type": "execute_result"
    }
   ],
   "source": [
    "# Load the iris dataset\n",
    "iris = datasets.load_iris()\n",
    "X = iris['data']  # features\n",
    "y = iris['target']  # labels\n",
    "iris.target_names"
   ]
  },
  {
   "cell_type": "code",
   "execution_count": 3,
   "id": "8a6dbb3e-9754-420d-8d1b-50a8c75b34a6",
   "metadata": {},
   "outputs": [],
   "source": [
    "# Split the data into training and testing sets\n",
    "X_train, X_test, y_train, y_test = train_test_split(X, y, test_size=0.2, random_state=42)"
   ]
  },
  {
   "cell_type": "code",
   "execution_count": 4,
   "id": "0e2a241c-305c-4a20-8bc6-72755b0c260c",
   "metadata": {},
   "outputs": [
    {
     "data": {
      "text/html": [
       "<style>#sk-container-id-1 {color: black;}#sk-container-id-1 pre{padding: 0;}#sk-container-id-1 div.sk-toggleable {background-color: white;}#sk-container-id-1 label.sk-toggleable__label {cursor: pointer;display: block;width: 100%;margin-bottom: 0;padding: 0.3em;box-sizing: border-box;text-align: center;}#sk-container-id-1 label.sk-toggleable__label-arrow:before {content: \"▸\";float: left;margin-right: 0.25em;color: #696969;}#sk-container-id-1 label.sk-toggleable__label-arrow:hover:before {color: black;}#sk-container-id-1 div.sk-estimator:hover label.sk-toggleable__label-arrow:before {color: black;}#sk-container-id-1 div.sk-toggleable__content {max-height: 0;max-width: 0;overflow: hidden;text-align: left;background-color: #f0f8ff;}#sk-container-id-1 div.sk-toggleable__content pre {margin: 0.2em;color: black;border-radius: 0.25em;background-color: #f0f8ff;}#sk-container-id-1 input.sk-toggleable__control:checked~div.sk-toggleable__content {max-height: 200px;max-width: 100%;overflow: auto;}#sk-container-id-1 input.sk-toggleable__control:checked~label.sk-toggleable__label-arrow:before {content: \"▾\";}#sk-container-id-1 div.sk-estimator input.sk-toggleable__control:checked~label.sk-toggleable__label {background-color: #d4ebff;}#sk-container-id-1 div.sk-label input.sk-toggleable__control:checked~label.sk-toggleable__label {background-color: #d4ebff;}#sk-container-id-1 input.sk-hidden--visually {border: 0;clip: rect(1px 1px 1px 1px);clip: rect(1px, 1px, 1px, 1px);height: 1px;margin: -1px;overflow: hidden;padding: 0;position: absolute;width: 1px;}#sk-container-id-1 div.sk-estimator {font-family: monospace;background-color: #f0f8ff;border: 1px dotted black;border-radius: 0.25em;box-sizing: border-box;margin-bottom: 0.5em;}#sk-container-id-1 div.sk-estimator:hover {background-color: #d4ebff;}#sk-container-id-1 div.sk-parallel-item::after {content: \"\";width: 100%;border-bottom: 1px solid gray;flex-grow: 1;}#sk-container-id-1 div.sk-label:hover label.sk-toggleable__label {background-color: #d4ebff;}#sk-container-id-1 div.sk-serial::before {content: \"\";position: absolute;border-left: 1px solid gray;box-sizing: border-box;top: 0;bottom: 0;left: 50%;z-index: 0;}#sk-container-id-1 div.sk-serial {display: flex;flex-direction: column;align-items: center;background-color: white;padding-right: 0.2em;padding-left: 0.2em;position: relative;}#sk-container-id-1 div.sk-item {position: relative;z-index: 1;}#sk-container-id-1 div.sk-parallel {display: flex;align-items: stretch;justify-content: center;background-color: white;position: relative;}#sk-container-id-1 div.sk-item::before, #sk-container-id-1 div.sk-parallel-item::before {content: \"\";position: absolute;border-left: 1px solid gray;box-sizing: border-box;top: 0;bottom: 0;left: 50%;z-index: -1;}#sk-container-id-1 div.sk-parallel-item {display: flex;flex-direction: column;z-index: 1;position: relative;background-color: white;}#sk-container-id-1 div.sk-parallel-item:first-child::after {align-self: flex-end;width: 50%;}#sk-container-id-1 div.sk-parallel-item:last-child::after {align-self: flex-start;width: 50%;}#sk-container-id-1 div.sk-parallel-item:only-child::after {width: 0;}#sk-container-id-1 div.sk-dashed-wrapped {border: 1px dashed gray;margin: 0 0.4em 0.5em 0.4em;box-sizing: border-box;padding-bottom: 0.4em;background-color: white;}#sk-container-id-1 div.sk-label label {font-family: monospace;font-weight: bold;display: inline-block;line-height: 1.2em;}#sk-container-id-1 div.sk-label-container {text-align: center;}#sk-container-id-1 div.sk-container {/* jupyter's `normalize.less` sets `[hidden] { display: none; }` but bootstrap.min.css set `[hidden] { display: none !important; }` so we also need the `!important` here to be able to override the default hidden behavior on the sphinx rendered scikit-learn.org. See: https://github.com/scikit-learn/scikit-learn/issues/21755 */display: inline-block !important;position: relative;}#sk-container-id-1 div.sk-text-repr-fallback {display: none;}</style><div id=\"sk-container-id-1\" class=\"sk-top-container\"><div class=\"sk-text-repr-fallback\"><pre>GaussianNB()</pre><b>In a Jupyter environment, please rerun this cell to show the HTML representation or trust the notebook. <br />On GitHub, the HTML representation is unable to render, please try loading this page with nbviewer.org.</b></div><div class=\"sk-container\" hidden><div class=\"sk-item\"><div class=\"sk-estimator sk-toggleable\"><input class=\"sk-toggleable__control sk-hidden--visually\" id=\"sk-estimator-id-1\" type=\"checkbox\" checked><label for=\"sk-estimator-id-1\" class=\"sk-toggleable__label sk-toggleable__label-arrow\">GaussianNB</label><div class=\"sk-toggleable__content\"><pre>GaussianNB()</pre></div></div></div></div></div>"
      ],
      "text/plain": [
       "GaussianNB()"
      ]
     },
     "execution_count": 4,
     "metadata": {},
     "output_type": "execute_result"
    }
   ],
   "source": [
    "# Train a Gaussian Naive Bayes classifier\n",
    "gnb = GaussianNB()\n",
    "gnb.fit(X_train, y_train)"
   ]
  },
  {
   "cell_type": "code",
   "execution_count": 5,
   "id": "de7ff774-2639-498d-8e2e-eed87842c12c",
   "metadata": {},
   "outputs": [],
   "source": [
    "# Make predictions on the test set\n",
    "y_pred = gnb.predict(X_test)"
   ]
  },
  {
   "cell_type": "code",
   "execution_count": 6,
   "id": "144c17a2-8a56-4160-bb05-9eaa26fa9631",
   "metadata": {},
   "outputs": [
    {
     "name": "stdout",
     "output_type": "stream",
     "text": [
      "Accuracy: 1.0\n"
     ]
    }
   ],
   "source": [
    "# Evaluate the performance of the classifier\n",
    "accuracy = accuracy_score(y_test, y_pred)\n",
    "print(\"Accuracy:\", accuracy)"
   ]
  },
  {
   "cell_type": "markdown",
   "id": "5ad45713-0e46-4673-b738-fa17d8b1deea",
   "metadata": {},
   "source": [
    "So, 100% accuracy. Boring!"
   ]
  },
  {
   "cell_type": "markdown",
   "id": "b43779c2-b993-4f77-9b1e-8834d5ca1b89",
   "metadata": {},
   "source": [
    "## SMS Spam\n",
    "\n",
    "One of the common applications of Naive Bayes is in detecting spam. It's a very fast method which is good since roughly 50% of all emails sent globally are spam! It's better for text messages since those cost a tiny bit of money to send. Either way, it's really annoying!\n",
    "\n",
    "One way of filtering spam is letting the filter look at words commonly used by spammers and words commonly used in real messages. Here is a dataset of text messages sent to phones.\n",
    "\n",
    "Almeida,Tiago and Hidalgo,Jos. (2012). SMS Spam Collection. UCI Machine Learning Repository. https://doi.org/10.24432/C5CC84."
   ]
  },
  {
   "cell_type": "code",
   "execution_count": 8,
   "id": "e7069659-4afe-4e1e-9cc3-5e9a929fd359",
   "metadata": {},
   "outputs": [
    {
     "data": {
      "text/html": [
       "<div>\n",
       "<style scoped>\n",
       "    .dataframe tbody tr th:only-of-type {\n",
       "        vertical-align: middle;\n",
       "    }\n",
       "\n",
       "    .dataframe tbody tr th {\n",
       "        vertical-align: top;\n",
       "    }\n",
       "\n",
       "    .dataframe thead th {\n",
       "        text-align: right;\n",
       "    }\n",
       "</style>\n",
       "<table border=\"1\" class=\"dataframe\">\n",
       "  <thead>\n",
       "    <tr style=\"text-align: right;\">\n",
       "      <th></th>\n",
       "      <th>spam_or_ham</th>\n",
       "      <th>text</th>\n",
       "    </tr>\n",
       "  </thead>\n",
       "  <tbody>\n",
       "    <tr>\n",
       "      <th>0</th>\n",
       "      <td>ham</td>\n",
       "      <td>Go until jurong point, crazy.. Available only ...</td>\n",
       "    </tr>\n",
       "    <tr>\n",
       "      <th>1</th>\n",
       "      <td>ham</td>\n",
       "      <td>Ok lar... Joking wif u oni...</td>\n",
       "    </tr>\n",
       "    <tr>\n",
       "      <th>2</th>\n",
       "      <td>spam</td>\n",
       "      <td>Free entry in 2 a wkly comp to win FA Cup fina...</td>\n",
       "    </tr>\n",
       "    <tr>\n",
       "      <th>3</th>\n",
       "      <td>ham</td>\n",
       "      <td>U dun say so early hor... U c already then say...</td>\n",
       "    </tr>\n",
       "    <tr>\n",
       "      <th>4</th>\n",
       "      <td>ham</td>\n",
       "      <td>Nah I don't think he goes to usf, he lives aro...</td>\n",
       "    </tr>\n",
       "    <tr>\n",
       "      <th>5</th>\n",
       "      <td>spam</td>\n",
       "      <td>FreeMsg Hey there darling it's been 3 week's n...</td>\n",
       "    </tr>\n",
       "    <tr>\n",
       "      <th>6</th>\n",
       "      <td>ham</td>\n",
       "      <td>Even my brother is not like to speak with me. ...</td>\n",
       "    </tr>\n",
       "    <tr>\n",
       "      <th>7</th>\n",
       "      <td>ham</td>\n",
       "      <td>As per your request 'Melle Melle (Oru Minnamin...</td>\n",
       "    </tr>\n",
       "    <tr>\n",
       "      <th>8</th>\n",
       "      <td>spam</td>\n",
       "      <td>WINNER!! As a valued network customer you have...</td>\n",
       "    </tr>\n",
       "    <tr>\n",
       "      <th>9</th>\n",
       "      <td>spam</td>\n",
       "      <td>Had your mobile 11 months or more? U R entitle...</td>\n",
       "    </tr>\n",
       "  </tbody>\n",
       "</table>\n",
       "</div>"
      ],
      "text/plain": [
       "  spam_or_ham                                               text\n",
       "0         ham  Go until jurong point, crazy.. Available only ...\n",
       "1         ham                      Ok lar... Joking wif u oni...\n",
       "2        spam  Free entry in 2 a wkly comp to win FA Cup fina...\n",
       "3         ham  U dun say so early hor... U c already then say...\n",
       "4         ham  Nah I don't think he goes to usf, he lives aro...\n",
       "5        spam  FreeMsg Hey there darling it's been 3 week's n...\n",
       "6         ham  Even my brother is not like to speak with me. ...\n",
       "7         ham  As per your request 'Melle Melle (Oru Minnamin...\n",
       "8        spam  WINNER!! As a valued network customer you have...\n",
       "9        spam  Had your mobile 11 months or more? U R entitle..."
      ]
     },
     "execution_count": 8,
     "metadata": {},
     "output_type": "execute_result"
    }
   ],
   "source": [
    "textmessages = pd.read_csv('data/SMSSpamCollection', sep='\\t', header=None, names=['spam_or_ham','text'])\n",
    "textmessages.head(10)"
   ]
  },
  {
   "cell_type": "markdown",
   "id": "1e1a48b9-e398-47a5-9137-2af1701c58e5",
   "metadata": {},
   "source": [
    "We would like to look at word frequencies. Messages that have a lot of \"bad\" words will be more likely to be spam, messages with a lot of \"good\" words are probably real. So we need to count words. Fortunately, Scikit-learn comes with a feature extractor exactly for that."
   ]
  },
  {
   "cell_type": "code",
   "execution_count": 9,
   "id": "4fc16ec7-3a57-4031-9b0c-a7e1be34e9db",
   "metadata": {},
   "outputs": [],
   "source": [
    "from sklearn.feature_extraction.text import CountVectorizer"
   ]
  },
  {
   "cell_type": "code",
   "execution_count": 10,
   "id": "f4be250d-f984-4433-8111-274cbb3c21a0",
   "metadata": {},
   "outputs": [],
   "source": [
    "count_vect = CountVectorizer()\n",
    "X = count_vect.fit_transform(textmessages.text)"
   ]
  },
  {
   "cell_type": "code",
   "execution_count": 11,
   "id": "b03e4239-a7ad-48fb-a04a-8999666e46db",
   "metadata": {},
   "outputs": [
    {
     "data": {
      "text/plain": [
       "<5572x8713 sparse matrix of type '<class 'numpy.int64'>'\n",
       "\twith 74169 stored elements in Compressed Sparse Row format>"
      ]
     },
     "execution_count": 11,
     "metadata": {},
     "output_type": "execute_result"
    }
   ],
   "source": [
    "X"
   ]
  },
  {
   "cell_type": "markdown",
   "id": "2cd45f99-8c1a-4726-96be-8273bbef416e",
   "metadata": {},
   "source": [
    "So there are 74,169 unique words in the complete dataset. Each word has a frequency which is the input for our model. That's a lot of features! Fortunately, that is one of the strong point of Naive Bayes.\n",
    "\n",
    "Then we just need the labels which is 'spam' or 'ham'. Then split the training set and feed the train data to the model to train on."
   ]
  },
  {
   "cell_type": "code",
   "execution_count": 12,
   "id": "13b2a2ec-a1fa-4ebc-85e0-a770a2e1ae0f",
   "metadata": {},
   "outputs": [],
   "source": [
    "y = textmessages['spam_or_ham']"
   ]
  },
  {
   "cell_type": "code",
   "execution_count": 13,
   "id": "07deee6d-c398-4d0e-bc6b-ec847217a23a",
   "metadata": {},
   "outputs": [],
   "source": [
    "# Split the data into training and testing sets\n",
    "X_train, X_test, y_train, y_test = train_test_split(X.toarray(), y, test_size=0.2, random_state=42)"
   ]
  },
  {
   "cell_type": "code",
   "execution_count": 14,
   "id": "ef01084c-19d5-4c98-bfeb-5be3c37d8b68",
   "metadata": {},
   "outputs": [
    {
     "data": {
      "text/html": [
       "<style>#sk-container-id-2 {color: black;}#sk-container-id-2 pre{padding: 0;}#sk-container-id-2 div.sk-toggleable {background-color: white;}#sk-container-id-2 label.sk-toggleable__label {cursor: pointer;display: block;width: 100%;margin-bottom: 0;padding: 0.3em;box-sizing: border-box;text-align: center;}#sk-container-id-2 label.sk-toggleable__label-arrow:before {content: \"▸\";float: left;margin-right: 0.25em;color: #696969;}#sk-container-id-2 label.sk-toggleable__label-arrow:hover:before {color: black;}#sk-container-id-2 div.sk-estimator:hover label.sk-toggleable__label-arrow:before {color: black;}#sk-container-id-2 div.sk-toggleable__content {max-height: 0;max-width: 0;overflow: hidden;text-align: left;background-color: #f0f8ff;}#sk-container-id-2 div.sk-toggleable__content pre {margin: 0.2em;color: black;border-radius: 0.25em;background-color: #f0f8ff;}#sk-container-id-2 input.sk-toggleable__control:checked~div.sk-toggleable__content {max-height: 200px;max-width: 100%;overflow: auto;}#sk-container-id-2 input.sk-toggleable__control:checked~label.sk-toggleable__label-arrow:before {content: \"▾\";}#sk-container-id-2 div.sk-estimator input.sk-toggleable__control:checked~label.sk-toggleable__label {background-color: #d4ebff;}#sk-container-id-2 div.sk-label input.sk-toggleable__control:checked~label.sk-toggleable__label {background-color: #d4ebff;}#sk-container-id-2 input.sk-hidden--visually {border: 0;clip: rect(1px 1px 1px 1px);clip: rect(1px, 1px, 1px, 1px);height: 1px;margin: -1px;overflow: hidden;padding: 0;position: absolute;width: 1px;}#sk-container-id-2 div.sk-estimator {font-family: monospace;background-color: #f0f8ff;border: 1px dotted black;border-radius: 0.25em;box-sizing: border-box;margin-bottom: 0.5em;}#sk-container-id-2 div.sk-estimator:hover {background-color: #d4ebff;}#sk-container-id-2 div.sk-parallel-item::after {content: \"\";width: 100%;border-bottom: 1px solid gray;flex-grow: 1;}#sk-container-id-2 div.sk-label:hover label.sk-toggleable__label {background-color: #d4ebff;}#sk-container-id-2 div.sk-serial::before {content: \"\";position: absolute;border-left: 1px solid gray;box-sizing: border-box;top: 0;bottom: 0;left: 50%;z-index: 0;}#sk-container-id-2 div.sk-serial {display: flex;flex-direction: column;align-items: center;background-color: white;padding-right: 0.2em;padding-left: 0.2em;position: relative;}#sk-container-id-2 div.sk-item {position: relative;z-index: 1;}#sk-container-id-2 div.sk-parallel {display: flex;align-items: stretch;justify-content: center;background-color: white;position: relative;}#sk-container-id-2 div.sk-item::before, #sk-container-id-2 div.sk-parallel-item::before {content: \"\";position: absolute;border-left: 1px solid gray;box-sizing: border-box;top: 0;bottom: 0;left: 50%;z-index: -1;}#sk-container-id-2 div.sk-parallel-item {display: flex;flex-direction: column;z-index: 1;position: relative;background-color: white;}#sk-container-id-2 div.sk-parallel-item:first-child::after {align-self: flex-end;width: 50%;}#sk-container-id-2 div.sk-parallel-item:last-child::after {align-self: flex-start;width: 50%;}#sk-container-id-2 div.sk-parallel-item:only-child::after {width: 0;}#sk-container-id-2 div.sk-dashed-wrapped {border: 1px dashed gray;margin: 0 0.4em 0.5em 0.4em;box-sizing: border-box;padding-bottom: 0.4em;background-color: white;}#sk-container-id-2 div.sk-label label {font-family: monospace;font-weight: bold;display: inline-block;line-height: 1.2em;}#sk-container-id-2 div.sk-label-container {text-align: center;}#sk-container-id-2 div.sk-container {/* jupyter's `normalize.less` sets `[hidden] { display: none; }` but bootstrap.min.css set `[hidden] { display: none !important; }` so we also need the `!important` here to be able to override the default hidden behavior on the sphinx rendered scikit-learn.org. See: https://github.com/scikit-learn/scikit-learn/issues/21755 */display: inline-block !important;position: relative;}#sk-container-id-2 div.sk-text-repr-fallback {display: none;}</style><div id=\"sk-container-id-2\" class=\"sk-top-container\"><div class=\"sk-text-repr-fallback\"><pre>GaussianNB()</pre><b>In a Jupyter environment, please rerun this cell to show the HTML representation or trust the notebook. <br />On GitHub, the HTML representation is unable to render, please try loading this page with nbviewer.org.</b></div><div class=\"sk-container\" hidden><div class=\"sk-item\"><div class=\"sk-estimator sk-toggleable\"><input class=\"sk-toggleable__control sk-hidden--visually\" id=\"sk-estimator-id-2\" type=\"checkbox\" checked><label for=\"sk-estimator-id-2\" class=\"sk-toggleable__label sk-toggleable__label-arrow\">GaussianNB</label><div class=\"sk-toggleable__content\"><pre>GaussianNB()</pre></div></div></div></div></div>"
      ],
      "text/plain": [
       "GaussianNB()"
      ]
     },
     "execution_count": 14,
     "metadata": {},
     "output_type": "execute_result"
    }
   ],
   "source": [
    "# Train a Gaussian Naive Bayes classifier\n",
    "gnb = GaussianNB()\n",
    "gnb.fit(X_train, y_train)"
   ]
  },
  {
   "cell_type": "markdown",
   "id": "48cadf4c-a1a3-45ed-810a-711545dac4ef",
   "metadata": {},
   "source": [
    "We now have a trained model. Let's see what the accuracy is."
   ]
  },
  {
   "cell_type": "code",
   "execution_count": 15,
   "id": "1feb0218-2b67-4aff-8556-498de26c7e5b",
   "metadata": {},
   "outputs": [],
   "source": [
    "# Make predictions on the test set\n",
    "y_pred = gnb.predict(X_test)"
   ]
  },
  {
   "cell_type": "code",
   "execution_count": 16,
   "id": "ee762982-2ac1-4a77-bbf6-54d1b971ee43",
   "metadata": {},
   "outputs": [
    {
     "name": "stdout",
     "output_type": "stream",
     "text": [
      "Accuracy: 0.9067264573991032\n"
     ]
    }
   ],
   "source": [
    "# Evaluate the performance of the classifier\n",
    "accuracy = accuracy_score(y_test, y_pred)\n",
    "print(\"Accuracy:\", accuracy)"
   ]
  },
  {
   "cell_type": "markdown",
   "id": "838019a1-9b8b-4c37-a7b2-6a265e519bdf",
   "metadata": {},
   "source": [
    "Roughtl 90% so that's pretty decent."
   ]
  },
  {
   "cell_type": "code",
   "execution_count": 17,
   "id": "3977ddbe-9fe0-4e6c-8e37-0588d39430e0",
   "metadata": {},
   "outputs": [
    {
     "data": {
      "text/plain": [
       "array([[873,  93],\n",
       "       [ 11, 138]])"
      ]
     },
     "execution_count": 17,
     "metadata": {},
     "output_type": "execute_result"
    }
   ],
   "source": [
    "confusion_matrix(y_test, y_pred)"
   ]
  },
  {
   "cell_type": "code",
   "execution_count": 18,
   "id": "35a7ed9d-9cbf-4d98-abd6-d70a10f12854",
   "metadata": {},
   "outputs": [],
   "source": [
    "from sklearn.metrics import ConfusionMatrixDisplay\n",
    "import matplotlib.pyplot as plt"
   ]
  },
  {
   "cell_type": "code",
   "execution_count": 19,
   "id": "4d277425-fb5e-448e-821e-8084d4050319",
   "metadata": {},
   "outputs": [
    {
     "data": {
      "text/plain": [
       "<sklearn.metrics._plot.confusion_matrix.ConfusionMatrixDisplay at 0x7f503b834640>"
      ]
     },
     "execution_count": 19,
     "metadata": {},
     "output_type": "execute_result"
    },
    {
     "data": {
      "image/png": "[encoded data removed]",
      "text/plain": [
       "<Figure size 640x480 with 2 Axes>"
      ]
     },
     "metadata": {},
     "output_type": "display_data"
    }
   ],
   "source": [
    "ConfusionMatrixDisplay.from_estimator(\n",
    "        gnb,\n",
    "        X_test,\n",
    "        y_test,\n",
    "        display_labels=[\"spam\",\"ham\"],\n",
    "        cmap=plt.cm.Blues,\n",
    "#        normalize=normalize,\n",
    "    )"
   ]
  },
  {
   "cell_type": "markdown",
   "id": "505a853c-50d3-4fd9-89c1-0e4daf77e1b0",
   "metadata": {},
   "source": [
    "## Book genres\n",
    "\n",
    "### Data\n",
    "Use the CMU Book Summary Dataset at https://www.cs.cmu.edu/~dbamman/booksummaries.html\n",
    "\n",
    "This dataset is tab separated without a header row. Column names comes from the accompying README."
   ]
  },
  {
   "cell_type": "code",
   "execution_count": 20,
   "id": "2e888dc3-5559-4df9-b938-d121e34d4faf",
   "metadata": {},
   "outputs": [],
   "source": [
    "books = pd.read_csv('data/booksummaries.txt', sep=\"\\t\", header=0, names=['wikipedia', 'freebase', 'title', 'author', 'publicationdate', 'genres', 'summary'])"
   ]
  },
  {
   "cell_type": "code",
   "execution_count": 21,
   "id": "d76b25c9-735f-4153-bb05-72ecbca42e12",
   "metadata": {},
   "outputs": [
    {
     "data": {
      "text/html": [
       "<div>\n",
       "<style scoped>\n",
       "    .dataframe tbody tr th:only-of-type {\n",
       "        vertical-align: middle;\n",
       "    }\n",
       "\n",
       "    .dataframe tbody tr th {\n",
       "        vertical-align: top;\n",
       "    }\n",
       "\n",
       "    .dataframe thead th {\n",
       "        text-align: right;\n",
       "    }\n",
       "</style>\n",
       "<table border=\"1\" class=\"dataframe\">\n",
       "  <thead>\n",
       "    <tr style=\"text-align: right;\">\n",
       "      <th></th>\n",
       "      <th>wikipedia</th>\n",
       "      <th>freebase</th>\n",
       "      <th>title</th>\n",
       "      <th>author</th>\n",
       "      <th>publicationdate</th>\n",
       "      <th>genres</th>\n",
       "      <th>summary</th>\n",
       "    </tr>\n",
       "  </thead>\n",
       "  <tbody>\n",
       "    <tr>\n",
       "      <th>0</th>\n",
       "      <td>843</td>\n",
       "      <td>/m/0k36</td>\n",
       "      <td>A Clockwork Orange</td>\n",
       "      <td>Anthony Burgess</td>\n",
       "      <td>1962</td>\n",
       "      <td>{\"/m/06n90\": \"Science Fiction\", \"/m/0l67h\": \"N...</td>\n",
       "      <td>Alex, a teenager living in near-future Englan...</td>\n",
       "    </tr>\n",
       "    <tr>\n",
       "      <th>1</th>\n",
       "      <td>986</td>\n",
       "      <td>/m/0ldx</td>\n",
       "      <td>The Plague</td>\n",
       "      <td>Albert Camus</td>\n",
       "      <td>1947</td>\n",
       "      <td>{\"/m/02m4t\": \"Existentialism\", \"/m/02xlf\": \"Fi...</td>\n",
       "      <td>The text of The Plague is divided into five p...</td>\n",
       "    </tr>\n",
       "    <tr>\n",
       "      <th>4</th>\n",
       "      <td>2152</td>\n",
       "      <td>/m/0x5g</td>\n",
       "      <td>All Quiet on the Western Front</td>\n",
       "      <td>Erich Maria Remarque</td>\n",
       "      <td>1929-01-29</td>\n",
       "      <td>{\"/m/098tmk\": \"War novel\", \"/m/016lj8\": \"Roman...</td>\n",
       "      <td>The book tells the story of Paul Bäumer, a Ge...</td>\n",
       "    </tr>\n",
       "    <tr>\n",
       "      <th>5</th>\n",
       "      <td>2890</td>\n",
       "      <td>/m/011zx</td>\n",
       "      <td>A Wizard of Earthsea</td>\n",
       "      <td>Ursula K. Le Guin</td>\n",
       "      <td>1968</td>\n",
       "      <td>{\"/m/0dwly\": \"Children's literature\", \"/m/01hm...</td>\n",
       "      <td>Ged is a young boy on Gont, one of the larger...</td>\n",
       "    </tr>\n",
       "    <tr>\n",
       "      <th>7</th>\n",
       "      <td>4081</td>\n",
       "      <td>/m/01b4w</td>\n",
       "      <td>Blade Runner 3: Replicant Night</td>\n",
       "      <td>K. W. Jeter</td>\n",
       "      <td>1996-10-01</td>\n",
       "      <td>{\"/m/06n90\": \"Science Fiction\", \"/m/014dfn\": \"...</td>\n",
       "      <td>Living on Mars, Deckard is acting as a consul...</td>\n",
       "    </tr>\n",
       "  </tbody>\n",
       "</table>\n",
       "</div>"
      ],
      "text/plain": [
       "   wikipedia  freebase                            title                author  \\\n",
       "0        843   /m/0k36               A Clockwork Orange       Anthony Burgess   \n",
       "1        986   /m/0ldx                       The Plague          Albert Camus   \n",
       "4       2152   /m/0x5g   All Quiet on the Western Front  Erich Maria Remarque   \n",
       "5       2890  /m/011zx             A Wizard of Earthsea     Ursula K. Le Guin   \n",
       "7       4081  /m/01b4w  Blade Runner 3: Replicant Night           K. W. Jeter   \n",
       "\n",
       "  publicationdate                                             genres  \\\n",
       "0            1962  {\"/m/06n90\": \"Science Fiction\", \"/m/0l67h\": \"N...   \n",
       "1            1947  {\"/m/02m4t\": \"Existentialism\", \"/m/02xlf\": \"Fi...   \n",
       "4      1929-01-29  {\"/m/098tmk\": \"War novel\", \"/m/016lj8\": \"Roman...   \n",
       "5            1968  {\"/m/0dwly\": \"Children's literature\", \"/m/01hm...   \n",
       "7      1996-10-01  {\"/m/06n90\": \"Science Fiction\", \"/m/014dfn\": \"...   \n",
       "\n",
       "                                             summary  \n",
       "0   Alex, a teenager living in near-future Englan...  \n",
       "1   The text of The Plague is divided into five p...  \n",
       "4   The book tells the story of Paul Bäumer, a Ge...  \n",
       "5   Ged is a young boy on Gont, one of the larger...  \n",
       "7   Living on Mars, Deckard is acting as a consul...  "
      ]
     },
     "execution_count": 21,
     "metadata": {},
     "output_type": "execute_result"
    }
   ],
   "source": [
    "# I don't feel like dealing with NaN\n",
    "books = books.dropna()\n",
    "books.head()"
   ]
  },
  {
   "cell_type": "markdown",
   "id": "66d30a86-3357-416f-bcea-f0dec08b3ed2",
   "metadata": {},
   "source": [
    "Genres are in a JSON format, so we will need the JSON package to extract those."
   ]
  },
  {
   "cell_type": "code",
   "execution_count": 22,
   "id": "571538dd-572d-4203-8763-9a86f3979163",
   "metadata": {},
   "outputs": [],
   "source": [
    "import json"
   ]
  },
  {
   "cell_type": "markdown",
   "id": "4db2432b-e252-4bab-8621-0b26c74151b5",
   "metadata": {},
   "source": [
    "Convert that JSON into a simple list. We don't care about the weird identifiers."
   ]
  },
  {
   "cell_type": "code",
   "execution_count": 23,
   "id": "451b3e9d-d247-4b23-8043-5c27da2001ac",
   "metadata": {},
   "outputs": [],
   "source": [
    "def genre(row):\n",
    "    g = json.loads(row.genres)\n",
    "    return list(g.values())\n",
    "\n",
    "genresperbook = books.apply(genre, axis=1)\n",
    "books = books.assign(genres=genresperbook)"
   ]
  },
  {
   "cell_type": "code",
   "execution_count": 24,
   "id": "345b4e87-12e1-4673-acca-4b9a117c3f3d",
   "metadata": {},
   "outputs": [
    {
     "data": {
      "text/html": [
       "<div>\n",
       "<style scoped>\n",
       "    .dataframe tbody tr th:only-of-type {\n",
       "        vertical-align: middle;\n",
       "    }\n",
       "\n",
       "    .dataframe tbody tr th {\n",
       "        vertical-align: top;\n",
       "    }\n",
       "\n",
       "    .dataframe thead th {\n",
       "        text-align: right;\n",
       "    }\n",
       "</style>\n",
       "<table border=\"1\" class=\"dataframe\">\n",
       "  <thead>\n",
       "    <tr style=\"text-align: right;\">\n",
       "      <th></th>\n",
       "      <th>wikipedia</th>\n",
       "      <th>freebase</th>\n",
       "      <th>title</th>\n",
       "      <th>author</th>\n",
       "      <th>publicationdate</th>\n",
       "      <th>genres</th>\n",
       "      <th>summary</th>\n",
       "    </tr>\n",
       "  </thead>\n",
       "  <tbody>\n",
       "    <tr>\n",
       "      <th>0</th>\n",
       "      <td>843</td>\n",
       "      <td>/m/0k36</td>\n",
       "      <td>A Clockwork Orange</td>\n",
       "      <td>Anthony Burgess</td>\n",
       "      <td>1962</td>\n",
       "      <td>[Science Fiction, Novella, Speculative fiction...</td>\n",
       "      <td>Alex, a teenager living in near-future Englan...</td>\n",
       "    </tr>\n",
       "    <tr>\n",
       "      <th>1</th>\n",
       "      <td>986</td>\n",
       "      <td>/m/0ldx</td>\n",
       "      <td>The Plague</td>\n",
       "      <td>Albert Camus</td>\n",
       "      <td>1947</td>\n",
       "      <td>[Existentialism, Fiction, Absurdist fiction, N...</td>\n",
       "      <td>The text of The Plague is divided into five p...</td>\n",
       "    </tr>\n",
       "    <tr>\n",
       "      <th>4</th>\n",
       "      <td>2152</td>\n",
       "      <td>/m/0x5g</td>\n",
       "      <td>All Quiet on the Western Front</td>\n",
       "      <td>Erich Maria Remarque</td>\n",
       "      <td>1929-01-29</td>\n",
       "      <td>[War novel, Roman à clef]</td>\n",
       "      <td>The book tells the story of Paul Bäumer, a Ge...</td>\n",
       "    </tr>\n",
       "    <tr>\n",
       "      <th>5</th>\n",
       "      <td>2890</td>\n",
       "      <td>/m/011zx</td>\n",
       "      <td>A Wizard of Earthsea</td>\n",
       "      <td>Ursula K. Le Guin</td>\n",
       "      <td>1968</td>\n",
       "      <td>[Children's literature, Fantasy, Speculative f...</td>\n",
       "      <td>Ged is a young boy on Gont, one of the larger...</td>\n",
       "    </tr>\n",
       "    <tr>\n",
       "      <th>7</th>\n",
       "      <td>4081</td>\n",
       "      <td>/m/01b4w</td>\n",
       "      <td>Blade Runner 3: Replicant Night</td>\n",
       "      <td>K. W. Jeter</td>\n",
       "      <td>1996-10-01</td>\n",
       "      <td>[Science Fiction, Speculative fiction]</td>\n",
       "      <td>Living on Mars, Deckard is acting as a consul...</td>\n",
       "    </tr>\n",
       "  </tbody>\n",
       "</table>\n",
       "</div>"
      ],
      "text/plain": [
       "   wikipedia  freebase                            title                author  \\\n",
       "0        843   /m/0k36               A Clockwork Orange       Anthony Burgess   \n",
       "1        986   /m/0ldx                       The Plague          Albert Camus   \n",
       "4       2152   /m/0x5g   All Quiet on the Western Front  Erich Maria Remarque   \n",
       "5       2890  /m/011zx             A Wizard of Earthsea     Ursula K. Le Guin   \n",
       "7       4081  /m/01b4w  Blade Runner 3: Replicant Night           K. W. Jeter   \n",
       "\n",
       "  publicationdate                                             genres  \\\n",
       "0            1962  [Science Fiction, Novella, Speculative fiction...   \n",
       "1            1947  [Existentialism, Fiction, Absurdist fiction, N...   \n",
       "4      1929-01-29                          [War novel, Roman à clef]   \n",
       "5            1968  [Children's literature, Fantasy, Speculative f...   \n",
       "7      1996-10-01             [Science Fiction, Speculative fiction]   \n",
       "\n",
       "                                             summary  \n",
       "0   Alex, a teenager living in near-future Englan...  \n",
       "1   The text of The Plague is divided into five p...  \n",
       "4   The book tells the story of Paul Bäumer, a Ge...  \n",
       "5   Ged is a young boy on Gont, one of the larger...  \n",
       "7   Living on Mars, Deckard is acting as a consul...  "
      ]
     },
     "execution_count": 24,
     "metadata": {},
     "output_type": "execute_result"
    }
   ],
   "source": [
    "books.head()"
   ]
  },
  {
   "cell_type": "markdown",
   "id": "45ebbd50-c2a7-4731-8502-67b12efdc09a",
   "metadata": {},
   "source": [
    "### Feature extraction\n",
    "Unlike the penguins, we now want to predict multiple labels. One way we can do this is by creating a dummy column like we did for the islands before. Now we need a dummy column for each genre.\n",
    "\n",
    "The following code does that. It's fairly dark magic and full transparency, I just copied it mostly from StackOverflow, but what it does is that it takes the lists in the genres column and converts them to a Pandas Series. Then it stacks them one on the other while keeping the main index but with a sub index for each genre per book. Then we get the dummies for that. The result of that is still a multi-index DataFrame but now with a column for every genre per book per listed genre for that book.\n",
    "\n",
    "We need to collapse that back into a single-index DataFrame again, so we group all that by the first index of our multi-index DataFrame which is the index for the books. We sum on that which means that per book we now have a single row that has a 1 if that book is part of a certain genre and 0 if not. Then we add a prefix to the column name."
   ]
  },
  {
   "cell_type": "code",
   "execution_count": 25,
   "id": "aa631db4-f6bd-4a13-ac26-a0cc05cc17b0",
   "metadata": {},
   "outputs": [],
   "source": [
    "dummies = books.genres.apply(pd.Series).stack().str.get_dummies().groupby(level=0).sum().add_prefix('genre_')\n",
    "books = books.join(dummies)"
   ]
  },
  {
   "cell_type": "code",
   "execution_count": 26,
   "id": "aa2683cd-be8a-46bc-b7c6-924d2f273a76",
   "metadata": {},
   "outputs": [
    {
     "data": {
      "text/html": [
       "<div>\n",
       "<style scoped>\n",
       "    .dataframe tbody tr th:only-of-type {\n",
       "        vertical-align: middle;\n",
       "    }\n",
       "\n",
       "    .dataframe tbody tr th {\n",
       "        vertical-align: top;\n",
       "    }\n",
       "\n",
       "    .dataframe thead th {\n",
       "        text-align: right;\n",
       "    }\n",
       "</style>\n",
       "<table border=\"1\" class=\"dataframe\">\n",
       "  <thead>\n",
       "    <tr style=\"text-align: right;\">\n",
       "      <th></th>\n",
       "      <th>wikipedia</th>\n",
       "      <th>freebase</th>\n",
       "      <th>title</th>\n",
       "      <th>author</th>\n",
       "      <th>publicationdate</th>\n",
       "      <th>genres</th>\n",
       "      <th>summary</th>\n",
       "      <th>genre_Absurdist fiction</th>\n",
       "      <th>genre_Adventure</th>\n",
       "      <th>genre_Adventure novel</th>\n",
       "      <th>...</th>\n",
       "      <th>genre_Utopian fiction</th>\n",
       "      <th>genre_Vampire fiction</th>\n",
       "      <th>genre_War novel</th>\n",
       "      <th>genre_Western</th>\n",
       "      <th>genre_Western fiction</th>\n",
       "      <th>genre_Whodunit</th>\n",
       "      <th>genre_Wuxia</th>\n",
       "      <th>genre_Young adult literature</th>\n",
       "      <th>genre_Zombie</th>\n",
       "      <th>genre_Zombies in popular culture</th>\n",
       "    </tr>\n",
       "  </thead>\n",
       "  <tbody>\n",
       "    <tr>\n",
       "      <th>0</th>\n",
       "      <td>843</td>\n",
       "      <td>/m/0k36</td>\n",
       "      <td>A Clockwork Orange</td>\n",
       "      <td>Anthony Burgess</td>\n",
       "      <td>1962</td>\n",
       "      <td>[Science Fiction, Novella, Speculative fiction...</td>\n",
       "      <td>Alex, a teenager living in near-future Englan...</td>\n",
       "      <td>0</td>\n",
       "      <td>0</td>\n",
       "      <td>0</td>\n",
       "      <td>...</td>\n",
       "      <td>0</td>\n",
       "      <td>0</td>\n",
       "      <td>0</td>\n",
       "      <td>0</td>\n",
       "      <td>0</td>\n",
       "      <td>0</td>\n",
       "      <td>0</td>\n",
       "      <td>0</td>\n",
       "      <td>0</td>\n",
       "      <td>0</td>\n",
       "    </tr>\n",
       "    <tr>\n",
       "      <th>1</th>\n",
       "      <td>986</td>\n",
       "      <td>/m/0ldx</td>\n",
       "      <td>The Plague</td>\n",
       "      <td>Albert Camus</td>\n",
       "      <td>1947</td>\n",
       "      <td>[Existentialism, Fiction, Absurdist fiction, N...</td>\n",
       "      <td>The text of The Plague is divided into five p...</td>\n",
       "      <td>1</td>\n",
       "      <td>0</td>\n",
       "      <td>0</td>\n",
       "      <td>...</td>\n",
       "      <td>0</td>\n",
       "      <td>0</td>\n",
       "      <td>0</td>\n",
       "      <td>0</td>\n",
       "      <td>0</td>\n",
       "      <td>0</td>\n",
       "      <td>0</td>\n",
       "      <td>0</td>\n",
       "      <td>0</td>\n",
       "      <td>0</td>\n",
       "    </tr>\n",
       "    <tr>\n",
       "      <th>4</th>\n",
       "      <td>2152</td>\n",
       "      <td>/m/0x5g</td>\n",
       "      <td>All Quiet on the Western Front</td>\n",
       "      <td>Erich Maria Remarque</td>\n",
       "      <td>1929-01-29</td>\n",
       "      <td>[War novel, Roman à clef]</td>\n",
       "      <td>The book tells the story of Paul Bäumer, a Ge...</td>\n",
       "      <td>0</td>\n",
       "      <td>0</td>\n",
       "      <td>0</td>\n",
       "      <td>...</td>\n",
       "      <td>0</td>\n",
       "      <td>0</td>\n",
       "      <td>1</td>\n",
       "      <td>0</td>\n",
       "      <td>0</td>\n",
       "      <td>0</td>\n",
       "      <td>0</td>\n",
       "      <td>0</td>\n",
       "      <td>0</td>\n",
       "      <td>0</td>\n",
       "    </tr>\n",
       "    <tr>\n",
       "      <th>5</th>\n",
       "      <td>2890</td>\n",
       "      <td>/m/011zx</td>\n",
       "      <td>A Wizard of Earthsea</td>\n",
       "      <td>Ursula K. Le Guin</td>\n",
       "      <td>1968</td>\n",
       "      <td>[Children's literature, Fantasy, Speculative f...</td>\n",
       "      <td>Ged is a young boy on Gont, one of the larger...</td>\n",
       "      <td>0</td>\n",
       "      <td>0</td>\n",
       "      <td>0</td>\n",
       "      <td>...</td>\n",
       "      <td>0</td>\n",
       "      <td>0</td>\n",
       "      <td>0</td>\n",
       "      <td>0</td>\n",
       "      <td>0</td>\n",
       "      <td>0</td>\n",
       "      <td>0</td>\n",
       "      <td>0</td>\n",
       "      <td>0</td>\n",
       "      <td>0</td>\n",
       "    </tr>\n",
       "    <tr>\n",
       "      <th>7</th>\n",
       "      <td>4081</td>\n",
       "      <td>/m/01b4w</td>\n",
       "      <td>Blade Runner 3: Replicant Night</td>\n",
       "      <td>K. W. Jeter</td>\n",
       "      <td>1996-10-01</td>\n",
       "      <td>[Science Fiction, Speculative fiction]</td>\n",
       "      <td>Living on Mars, Deckard is acting as a consul...</td>\n",
       "      <td>0</td>\n",
       "      <td>0</td>\n",
       "      <td>0</td>\n",
       "      <td>...</td>\n",
       "      <td>0</td>\n",
       "      <td>0</td>\n",
       "      <td>0</td>\n",
       "      <td>0</td>\n",
       "      <td>0</td>\n",
       "      <td>0</td>\n",
       "      <td>0</td>\n",
       "      <td>0</td>\n",
       "      <td>0</td>\n",
       "      <td>0</td>\n",
       "    </tr>\n",
       "    <tr>\n",
       "      <th>...</th>\n",
       "      <td>...</td>\n",
       "      <td>...</td>\n",
       "      <td>...</td>\n",
       "      <td>...</td>\n",
       "      <td>...</td>\n",
       "      <td>...</td>\n",
       "      <td>...</td>\n",
       "      <td>...</td>\n",
       "      <td>...</td>\n",
       "      <td>...</td>\n",
       "      <td>...</td>\n",
       "      <td>...</td>\n",
       "      <td>...</td>\n",
       "      <td>...</td>\n",
       "      <td>...</td>\n",
       "      <td>...</td>\n",
       "      <td>...</td>\n",
       "      <td>...</td>\n",
       "      <td>...</td>\n",
       "      <td>...</td>\n",
       "      <td>...</td>\n",
       "    </tr>\n",
       "    <tr>\n",
       "      <th>16548</th>\n",
       "      <td>36372465</td>\n",
       "      <td>/m/02vqwsp</td>\n",
       "      <td>The Third Lynx</td>\n",
       "      <td>Timothy Zahn</td>\n",
       "      <td>2007</td>\n",
       "      <td>[Science Fiction]</td>\n",
       "      <td>The story starts with former government agent...</td>\n",
       "      <td>0</td>\n",
       "      <td>0</td>\n",
       "      <td>0</td>\n",
       "      <td>...</td>\n",
       "      <td>0</td>\n",
       "      <td>0</td>\n",
       "      <td>0</td>\n",
       "      <td>0</td>\n",
       "      <td>0</td>\n",
       "      <td>0</td>\n",
       "      <td>0</td>\n",
       "      <td>0</td>\n",
       "      <td>0</td>\n",
       "      <td>0</td>\n",
       "    </tr>\n",
       "    <tr>\n",
       "      <th>16550</th>\n",
       "      <td>36534061</td>\n",
       "      <td>/m/072y44</td>\n",
       "      <td>Remote Control</td>\n",
       "      <td>Andy McNab</td>\n",
       "      <td>1997</td>\n",
       "      <td>[Thriller, Fiction, Suspense]</td>\n",
       "      <td>The series follows the character of Nick Ston...</td>\n",
       "      <td>0</td>\n",
       "      <td>0</td>\n",
       "      <td>0</td>\n",
       "      <td>...</td>\n",
       "      <td>0</td>\n",
       "      <td>0</td>\n",
       "      <td>0</td>\n",
       "      <td>0</td>\n",
       "      <td>0</td>\n",
       "      <td>0</td>\n",
       "      <td>0</td>\n",
       "      <td>0</td>\n",
       "      <td>0</td>\n",
       "      <td>0</td>\n",
       "    </tr>\n",
       "    <tr>\n",
       "      <th>16554</th>\n",
       "      <td>37054020</td>\n",
       "      <td>/m/04f1nbs</td>\n",
       "      <td>Transfer of Power</td>\n",
       "      <td>Vince Flynn</td>\n",
       "      <td>2000-06-01</td>\n",
       "      <td>[Thriller, Fiction]</td>\n",
       "      <td>The reader first meets Rapp while he is doing...</td>\n",
       "      <td>0</td>\n",
       "      <td>0</td>\n",
       "      <td>0</td>\n",
       "      <td>...</td>\n",
       "      <td>0</td>\n",
       "      <td>0</td>\n",
       "      <td>0</td>\n",
       "      <td>0</td>\n",
       "      <td>0</td>\n",
       "      <td>0</td>\n",
       "      <td>0</td>\n",
       "      <td>0</td>\n",
       "      <td>0</td>\n",
       "      <td>0</td>\n",
       "    </tr>\n",
       "    <tr>\n",
       "      <th>16555</th>\n",
       "      <td>37122323</td>\n",
       "      <td>/m/0n5236t</td>\n",
       "      <td>Decoded</td>\n",
       "      <td>Jay-Z</td>\n",
       "      <td>2010-11-16</td>\n",
       "      <td>[Autobiography]</td>\n",
       "      <td>The book follows very rough chronological ord...</td>\n",
       "      <td>0</td>\n",
       "      <td>0</td>\n",
       "      <td>0</td>\n",
       "      <td>...</td>\n",
       "      <td>0</td>\n",
       "      <td>0</td>\n",
       "      <td>0</td>\n",
       "      <td>0</td>\n",
       "      <td>0</td>\n",
       "      <td>0</td>\n",
       "      <td>0</td>\n",
       "      <td>0</td>\n",
       "      <td>0</td>\n",
       "      <td>0</td>\n",
       "    </tr>\n",
       "    <tr>\n",
       "      <th>16557</th>\n",
       "      <td>37159503</td>\n",
       "      <td>/m/073nkd</td>\n",
       "      <td>Poor Folk</td>\n",
       "      <td>Fyodor Dostoyevsky</td>\n",
       "      <td>1846</td>\n",
       "      <td>[Epistolary novel, Speculative fiction]</td>\n",
       "      <td>Makar Devushkin and Varvara Dobroselova are s...</td>\n",
       "      <td>0</td>\n",
       "      <td>0</td>\n",
       "      <td>0</td>\n",
       "      <td>...</td>\n",
       "      <td>0</td>\n",
       "      <td>0</td>\n",
       "      <td>0</td>\n",
       "      <td>0</td>\n",
       "      <td>0</td>\n",
       "      <td>0</td>\n",
       "      <td>0</td>\n",
       "      <td>0</td>\n",
       "      <td>0</td>\n",
       "      <td>0</td>\n",
       "    </tr>\n",
       "  </tbody>\n",
       "</table>\n",
       "<p>9292 rows × 222 columns</p>\n",
       "</div>"
      ],
      "text/plain": [
       "       wikipedia    freebase                            title  \\\n",
       "0            843     /m/0k36               A Clockwork Orange   \n",
       "1            986     /m/0ldx                       The Plague   \n",
       "4           2152     /m/0x5g   All Quiet on the Western Front   \n",
       "5           2890    /m/011zx             A Wizard of Earthsea   \n",
       "7           4081    /m/01b4w  Blade Runner 3: Replicant Night   \n",
       "...          ...         ...                              ...   \n",
       "16548   36372465  /m/02vqwsp                   The Third Lynx   \n",
       "16550   36534061   /m/072y44                   Remote Control   \n",
       "16554   37054020  /m/04f1nbs                Transfer of Power   \n",
       "16555   37122323  /m/0n5236t                          Decoded   \n",
       "16557   37159503   /m/073nkd                        Poor Folk   \n",
       "\n",
       "                     author publicationdate  \\\n",
       "0           Anthony Burgess            1962   \n",
       "1              Albert Camus            1947   \n",
       "4      Erich Maria Remarque      1929-01-29   \n",
       "5         Ursula K. Le Guin            1968   \n",
       "7               K. W. Jeter      1996-10-01   \n",
       "...                     ...             ...   \n",
       "16548          Timothy Zahn            2007   \n",
       "16550            Andy McNab            1997   \n",
       "16554           Vince Flynn      2000-06-01   \n",
       "16555                 Jay-Z      2010-11-16   \n",
       "16557    Fyodor Dostoyevsky            1846   \n",
       "\n",
       "                                                  genres  \\\n",
       "0      [Science Fiction, Novella, Speculative fiction...   \n",
       "1      [Existentialism, Fiction, Absurdist fiction, N...   \n",
       "4                              [War novel, Roman à clef]   \n",
       "5      [Children's literature, Fantasy, Speculative f...   \n",
       "7                 [Science Fiction, Speculative fiction]   \n",
       "...                                                  ...   \n",
       "16548                                  [Science Fiction]   \n",
       "16550                      [Thriller, Fiction, Suspense]   \n",
       "16554                                [Thriller, Fiction]   \n",
       "16555                                    [Autobiography]   \n",
       "16557            [Epistolary novel, Speculative fiction]   \n",
       "\n",
       "                                                 summary  \\\n",
       "0       Alex, a teenager living in near-future Englan...   \n",
       "1       The text of The Plague is divided into five p...   \n",
       "4       The book tells the story of Paul Bäumer, a Ge...   \n",
       "5       Ged is a young boy on Gont, one of the larger...   \n",
       "7       Living on Mars, Deckard is acting as a consul...   \n",
       "...                                                  ...   \n",
       "16548   The story starts with former government agent...   \n",
       "16550   The series follows the character of Nick Ston...   \n",
       "16554   The reader first meets Rapp while he is doing...   \n",
       "16555   The book follows very rough chronological ord...   \n",
       "16557   Makar Devushkin and Varvara Dobroselova are s...   \n",
       "\n",
       "       genre_Absurdist fiction  genre_Adventure  genre_Adventure novel  ...  \\\n",
       "0                            0                0                      0  ...   \n",
       "1                            1                0                      0  ...   \n",
       "4                            0                0                      0  ...   \n",
       "5                            0                0                      0  ...   \n",
       "7                            0                0                      0  ...   \n",
       "...                        ...              ...                    ...  ...   \n",
       "16548                        0                0                      0  ...   \n",
       "16550                        0                0                      0  ...   \n",
       "16554                        0                0                      0  ...   \n",
       "16555                        0                0                      0  ...   \n",
       "16557                        0                0                      0  ...   \n",
       "\n",
       "       genre_Utopian fiction  genre_Vampire fiction  genre_War novel  \\\n",
       "0                          0                      0                0   \n",
       "1                          0                      0                0   \n",
       "4                          0                      0                1   \n",
       "5                          0                      0                0   \n",
       "7                          0                      0                0   \n",
       "...                      ...                    ...              ...   \n",
       "16548                      0                      0                0   \n",
       "16550                      0                      0                0   \n",
       "16554                      0                      0                0   \n",
       "16555                      0                      0                0   \n",
       "16557                      0                      0                0   \n",
       "\n",
       "       genre_Western  genre_Western fiction  genre_Whodunit  genre_Wuxia  \\\n",
       "0                  0                      0               0            0   \n",
       "1                  0                      0               0            0   \n",
       "4                  0                      0               0            0   \n",
       "5                  0                      0               0            0   \n",
       "7                  0                      0               0            0   \n",
       "...              ...                    ...             ...          ...   \n",
       "16548              0                      0               0            0   \n",
       "16550              0                      0               0            0   \n",
       "16554              0                      0               0            0   \n",
       "16555              0                      0               0            0   \n",
       "16557              0                      0               0            0   \n",
       "\n",
       "       genre_Young adult literature  genre_Zombie  \\\n",
       "0                                 0             0   \n",
       "1                                 0             0   \n",
       "4                                 0             0   \n",
       "5                                 0             0   \n",
       "7                                 0             0   \n",
       "...                             ...           ...   \n",
       "16548                             0             0   \n",
       "16550                             0             0   \n",
       "16554                             0             0   \n",
       "16555                             0             0   \n",
       "16557                             0             0   \n",
       "\n",
       "       genre_Zombies in popular culture  \n",
       "0                                     0  \n",
       "1                                     0  \n",
       "4                                     0  \n",
       "5                                     0  \n",
       "7                                     0  \n",
       "...                                 ...  \n",
       "16548                                 0  \n",
       "16550                                 0  \n",
       "16554                                 0  \n",
       "16555                                 0  \n",
       "16557                                 0  \n",
       "\n",
       "[9292 rows x 222 columns]"
      ]
     },
     "execution_count": 26,
     "metadata": {},
     "output_type": "execute_result"
    }
   ],
   "source": [
    "books"
   ]
  },
  {
   "attachments": {},
   "cell_type": "markdown",
   "id": "a53c572b-ca0e-4eb9-97d0-1aa15a40e368",
   "metadata": {},
   "source": [
    "Phew!! Now the data is in a form we can use for the labels.\n",
    "\n",
    "Let's look a bit closer at the genres and in particular how many books we have in each category. We'll just sum the dummy columns for genres."
   ]
  },
  {
   "cell_type": "code",
   "execution_count": 27,
   "id": "94b4df79-8c53-4646-8f38-fec22152393c",
   "metadata": {},
   "outputs": [
    {
     "data": {
      "text/plain": [
       "genre_Fiction                3674\n",
       "genre_Speculative fiction    3270\n",
       "genre_Novel                  2088\n",
       "genre_Science Fiction        2001\n",
       "genre_Fantasy                1863\n",
       "                             ... \n",
       "genre_Prose                     1\n",
       "genre_Photography               1\n",
       "genre_Indian chick lit          1\n",
       "genre_Superhero fiction         1\n",
       "genre_Neuroscience              1\n",
       "Length: 215, dtype: int64"
      ]
     },
     "execution_count": 27,
     "metadata": {},
     "output_type": "execute_result"
    }
   ],
   "source": [
    "genreusage = books.drop(['wikipedia', 'freebase', 'author', 'publicationdate', 'genres', 'title', 'summary'], axis=1).sum().sort_values(ascending=False)\n",
    "genreusage"
   ]
  },
  {
   "cell_type": "markdown",
   "id": "98dd75e3-df71-4366-9000-d9d9aac31273",
   "metadata": {},
   "source": [
    "So there are a whole bunch of genres that only have one book in the dataset. As you can imagine, this is not going to work well when training the model. So let's put in a lower limit of say 200. How many genres do we have still?"
   ]
  },
  {
   "cell_type": "code",
   "execution_count": 28,
   "id": "7e2f256e-fa0a-41fd-93c4-20a050fcea8b",
   "metadata": {},
   "outputs": [
    {
     "data": {
      "text/html": [
       "<div>\n",
       "<style scoped>\n",
       "    .dataframe tbody tr th:only-of-type {\n",
       "        vertical-align: middle;\n",
       "    }\n",
       "\n",
       "    .dataframe tbody tr th {\n",
       "        vertical-align: top;\n",
       "    }\n",
       "\n",
       "    .dataframe thead th {\n",
       "        text-align: right;\n",
       "    }\n",
       "</style>\n",
       "<table border=\"1\" class=\"dataframe\">\n",
       "  <thead>\n",
       "    <tr style=\"text-align: right;\">\n",
       "      <th></th>\n",
       "      <th>index</th>\n",
       "      <th>count</th>\n",
       "    </tr>\n",
       "  </thead>\n",
       "  <tbody>\n",
       "    <tr>\n",
       "      <th>0</th>\n",
       "      <td>genre_Fiction</td>\n",
       "      <td>3674</td>\n",
       "    </tr>\n",
       "    <tr>\n",
       "      <th>1</th>\n",
       "      <td>genre_Speculative fiction</td>\n",
       "      <td>3270</td>\n",
       "    </tr>\n",
       "    <tr>\n",
       "      <th>2</th>\n",
       "      <td>genre_Novel</td>\n",
       "      <td>2088</td>\n",
       "    </tr>\n",
       "    <tr>\n",
       "      <th>3</th>\n",
       "      <td>genre_Science Fiction</td>\n",
       "      <td>2001</td>\n",
       "    </tr>\n",
       "    <tr>\n",
       "      <th>4</th>\n",
       "      <td>genre_Fantasy</td>\n",
       "      <td>1863</td>\n",
       "    </tr>\n",
       "    <tr>\n",
       "      <th>5</th>\n",
       "      <td>genre_Children's literature</td>\n",
       "      <td>1627</td>\n",
       "    </tr>\n",
       "    <tr>\n",
       "      <th>6</th>\n",
       "      <td>genre_Mystery</td>\n",
       "      <td>973</td>\n",
       "    </tr>\n",
       "    <tr>\n",
       "      <th>7</th>\n",
       "      <td>genre_Young adult literature</td>\n",
       "      <td>625</td>\n",
       "    </tr>\n",
       "    <tr>\n",
       "      <th>8</th>\n",
       "      <td>genre_Crime Fiction</td>\n",
       "      <td>557</td>\n",
       "    </tr>\n",
       "    <tr>\n",
       "      <th>9</th>\n",
       "      <td>genre_Historical novel</td>\n",
       "      <td>551</td>\n",
       "    </tr>\n",
       "    <tr>\n",
       "      <th>10</th>\n",
       "      <td>genre_Suspense</td>\n",
       "      <td>538</td>\n",
       "    </tr>\n",
       "    <tr>\n",
       "      <th>11</th>\n",
       "      <td>genre_Thriller</td>\n",
       "      <td>429</td>\n",
       "    </tr>\n",
       "    <tr>\n",
       "      <th>12</th>\n",
       "      <td>genre_Horror</td>\n",
       "      <td>383</td>\n",
       "    </tr>\n",
       "    <tr>\n",
       "      <th>13</th>\n",
       "      <td>genre_Romance novel</td>\n",
       "      <td>316</td>\n",
       "    </tr>\n",
       "    <tr>\n",
       "      <th>14</th>\n",
       "      <td>genre_Historical fiction</td>\n",
       "      <td>314</td>\n",
       "    </tr>\n",
       "    <tr>\n",
       "      <th>15</th>\n",
       "      <td>genre_Adventure novel</td>\n",
       "      <td>268</td>\n",
       "    </tr>\n",
       "  </tbody>\n",
       "</table>\n",
       "</div>"
      ],
      "text/plain": [
       "                           index  count\n",
       "0                  genre_Fiction   3674\n",
       "1      genre_Speculative fiction   3270\n",
       "2                    genre_Novel   2088\n",
       "3          genre_Science Fiction   2001\n",
       "4                  genre_Fantasy   1863\n",
       "5    genre_Children's literature   1627\n",
       "6                  genre_Mystery    973\n",
       "7   genre_Young adult literature    625\n",
       "8            genre_Crime Fiction    557\n",
       "9         genre_Historical novel    551\n",
       "10                genre_Suspense    538\n",
       "11                genre_Thriller    429\n",
       "12                  genre_Horror    383\n",
       "13           genre_Romance novel    316\n",
       "14      genre_Historical fiction    314\n",
       "15         genre_Adventure novel    268"
      ]
     },
     "execution_count": 28,
     "metadata": {},
     "output_type": "execute_result"
    }
   ],
   "source": [
    "genreusage = genreusage.reset_index().rename(columns={0: \"count\"})\n",
    "genreusage = genreusage[genreusage[\"count\"] > 200]\n",
    "genreusage"
   ]
  },
  {
   "cell_type": "code",
   "execution_count": 29,
   "id": "249f340e-a673-4394-a222-9d094a578138",
   "metadata": {},
   "outputs": [
    {
     "data": {
      "text/plain": [
       "['genre_Fiction',\n",
       " 'genre_Speculative fiction',\n",
       " 'genre_Novel',\n",
       " 'genre_Science Fiction',\n",
       " 'genre_Fantasy',\n",
       " \"genre_Children's literature\",\n",
       " 'genre_Mystery',\n",
       " 'genre_Young adult literature',\n",
       " 'genre_Crime Fiction',\n",
       " 'genre_Historical novel',\n",
       " 'genre_Suspense',\n",
       " 'genre_Thriller',\n",
       " 'genre_Horror',\n",
       " 'genre_Romance novel',\n",
       " 'genre_Historical fiction',\n",
       " 'genre_Adventure novel']"
      ]
     },
     "execution_count": 29,
     "metadata": {},
     "output_type": "execute_result"
    }
   ],
   "source": [
    "genretrainlist = list(genreusage[\"index\"])\n",
    "genretrainlist"
   ]
  },
  {
   "cell_type": "code",
   "execution_count": 30,
   "id": "68be3478-3cb0-4da2-9e10-1cf30f7d17be",
   "metadata": {},
   "outputs": [],
   "source": [
    "dummies = dummies[genretrainlist]"
   ]
  },
  {
   "cell_type": "markdown",
   "id": "74a3b5e6-dace-454e-8d74-614dba34cc92",
   "metadata": {},
   "source": [
    "### Input\n",
    "Next is the input. These are the summaries for a book which is essentially a collection of words. We can vectorize that by making a vector that has a length ot however many unique words there are in all the summaries combined. Then each book summary can be represented as a vector that counts the number of words.\n",
    "\n",
    "That sounds complicated to do, but fortunately, Scikit can do it for us."
   ]
  },
  {
   "cell_type": "code",
   "execution_count": 31,
   "id": "aa5f156c-31d6-4816-b9d7-f3a4d81ab157",
   "metadata": {},
   "outputs": [],
   "source": [
    "from sklearn.feature_extraction.text import CountVectorizer, TfidfTransformer"
   ]
  },
  {
   "cell_type": "code",
   "execution_count": 32,
   "id": "051748e0-f2eb-4587-8bfc-fbad711f657b",
   "metadata": {},
   "outputs": [],
   "source": [
    "count_vect = CountVectorizer()"
   ]
  },
  {
   "cell_type": "code",
   "execution_count": 33,
   "id": "220dd711-4fa0-4766-b28d-6f21515a67f2",
   "metadata": {},
   "outputs": [],
   "source": [
    "X = count_vect.fit_transform(books.summary)"
   ]
  },
  {
   "cell_type": "code",
   "execution_count": 34,
   "id": "57c5f402-dcea-4c74-96fc-b5aa095dcb81",
   "metadata": {},
   "outputs": [
    {
     "data": {
      "text/plain": [
       "<1x90759 sparse matrix of type '<class 'numpy.int64'>'\n",
       "\twith 486 stored elements in Compressed Sparse Row format>"
      ]
     },
     "execution_count": 34,
     "metadata": {},
     "output_type": "execute_result"
    }
   ],
   "source": [
    "X[0]"
   ]
  },
  {
   "cell_type": "code",
   "execution_count": 35,
   "id": "7374c5ba-2e82-404e-8c5d-c23b778e759d",
   "metadata": {},
   "outputs": [],
   "source": [
    "tfidf_transformer = TfidfTransformer()\n",
    "X = tfidf_transformer.fit_transform(X)"
   ]
  },
  {
   "cell_type": "markdown",
   "id": "f1458832-b269-4356-a184-72667745e62b",
   "metadata": {},
   "source": [
    "### Train"
   ]
  },
  {
   "cell_type": "code",
   "execution_count": 36,
   "id": "60ae3205-f94e-4abe-a783-9f2c3ab2c585",
   "metadata": {},
   "outputs": [
    {
     "data": {
      "text/plain": [
       "Index(['genre_Fiction', 'genre_Speculative fiction', 'genre_Novel',\n",
       "       'genre_Science Fiction', 'genre_Fantasy', 'genre_Children's literature',\n",
       "       'genre_Mystery', 'genre_Young adult literature', 'genre_Crime Fiction',\n",
       "       'genre_Historical novel', 'genre_Suspense', 'genre_Thriller',\n",
       "       'genre_Horror', 'genre_Romance novel', 'genre_Historical fiction',\n",
       "       'genre_Adventure novel'],\n",
       "      dtype='object')"
      ]
     },
     "execution_count": 36,
     "metadata": {},
     "output_type": "execute_result"
    }
   ],
   "source": [
    "dummies.columns"
   ]
  },
  {
   "cell_type": "code",
   "execution_count": 37,
   "id": "01099c3d-13c8-4bad-8bf5-b8e3b87be3ab",
   "metadata": {},
   "outputs": [
    {
     "name": "stdout",
     "output_type": "stream",
     "text": [
      "Accuracy for genre_Fiction: 0.56125\n",
      "Accuracy for genre_Speculative fiction: 0.69\n",
      "Accuracy for genre_Novel: 0.71125\n",
      "Accuracy for genre_Science Fiction: 0.7875\n",
      "Accuracy for genre_Fantasy: 0.87\n",
      "Accuracy for genre_Children's literature: 0.83125\n",
      "Accuracy for genre_Mystery: 0.91875\n",
      "Accuracy for genre_Young adult literature: 0.96625\n",
      "Accuracy for genre_Crime Fiction: 0.96\n",
      "Accuracy for genre_Historical novel: 0.95125\n",
      "Accuracy for genre_Suspense: 0.93375\n",
      "Accuracy for genre_Thriller: 0.96125\n",
      "Accuracy for genre_Horror: 0.94875\n",
      "Accuracy for genre_Romance novel: 0.96875\n",
      "Accuracy for genre_Historical fiction: 0.95625\n",
      "Accuracy for genre_Adventure novel: 0.9775\n"
     ]
    }
   ],
   "source": [
    "for col in dummies.columns:\n",
    "    # Split the data into training and testing sets\n",
    "    y = dummies[col]\n",
    "    X_train, X_test, y_train, y_test = train_test_split(X.toarray(), y, test_size=0.2, random_state=42)\n",
    "    \n",
    "    # X.toarray() is very memory intensive. Limit the amount of data used of you don't have loads of memory\n",
    "    # by using [:4000] for the input data. This will work for 16GB. If you have less, use a lower number\n",
    "    #y = dummies[col][:4000]\n",
    "    #X_train, X_test, y_train, y_test = train_test_split(X.toarray()[:4000], y, test_size=0.2, random_state=42)\n",
    "    \n",
    "    # Train a Gaussian Naive Bayes classifier\n",
    "    gnb = GaussianNB()\n",
    "    gnb.fit(X_train, y_train)\n",
    "    \n",
    "    # Make predictions on the test set\n",
    "    y_pred = gnb.predict(X_test)\n",
    "    \n",
    "    # Evaluate the performance of the classifier\n",
    "    accuracy = accuracy_score(y_test, y_pred)\n",
    "    print(f\"Accuracy for {col}: {accuracy}\")"
   ]
  },
  {
   "cell_type": "markdown",
   "id": "61805869-78d3-4904-b5a7-b7ad91037dc5",
   "metadata": {},
   "source": [
    "Looks like we can predict most genres pretty well! Especially when compared to the KNN we tried using before. It does have a lot of trouble prediction \"Fiction\". This might be because that label is probably too generic. As in lots of different genres can be classified as fiction.\n",
    "\n",
    "The difference between Naive Bayes and KNN is that Naive Bayes works particularly well with loads and loads of input columns whereas that is exactly where KNN breaks down. This is a good example of the consequences of model choice."
   ]
  },
  {
   "cell_type": "markdown",
   "id": "e4e35fd5-daaf-4c49-a62b-98b871a55443",
   "metadata": {},
   "source": [
    "## School grades\n",
    "\n",
    "Ontario produces open data sets with statistics for schools. We can download it from their catalogue. They indicate missing data with \"NA\" but there is also \"SP\" which doesn't seem to be explained.\n",
    "\n",
    "We'll tell pandas to treat \"SP\" and \"NA\" as missing values."
   ]
  },
  {
   "cell_type": "code",
   "execution_count": 114,
   "id": "d04a0a61-8d40-4f34-bf90-f07e6f5c60d9",
   "metadata": {},
   "outputs": [],
   "source": [
    "schools = pd.read_excel('data/new_sif_data_table_2021_22prelim_en_november2023.xlsx', na_values=[\"NA\",\"SP\", \"N/D\", \"N/R\"])"
   ]
  },
  {
   "cell_type": "markdown",
   "id": "0e57ae7b-4fb8-4cb2-a343-6c033d3f8737",
   "metadata": {},
   "source": [
    "Let's see what we have in terms of data quality."
   ]
  },
  {
   "cell_type": "code",
   "execution_count": 115,
   "id": "e5814359-774e-434f-9535-930595597455",
   "metadata": {},
   "outputs": [
    {
     "name": "stdout",
     "output_type": "stream",
     "text": [
      "<class 'pandas.core.frame.DataFrame'>\n",
      "RangeIndex: 4904 entries, 0 to 4903\n",
      "Data columns (total 49 columns):\n",
      " #   Column                                                                            Non-Null Count  Dtype  \n",
      "---  ------                                                                            --------------  -----  \n",
      " 0   Board Number                                                                      4904 non-null   object \n",
      " 1   Board Name                                                                        4904 non-null   object \n",
      " 2   Board Type                                                                        4904 non-null   object \n",
      " 3   School Number                                                                     4904 non-null   object \n",
      " 4   School Name                                                                       4904 non-null   object \n",
      " 5   School Type                                                                       4904 non-null   object \n",
      " 6   School Special Condition Code                                                     4904 non-null   object \n",
      " 7   School Level                                                                      4904 non-null   object \n",
      " 8   School Language                                                                   4904 non-null   object \n",
      " 9   Grade Range                                                                       4904 non-null   object \n",
      " 10  Building Suite                                                                    27 non-null     object \n",
      " 11  P.O. Box                                                                          110 non-null    object \n",
      " 12  Street                                                                            4898 non-null   object \n",
      " 13  Municipality                                                                      4898 non-null   object \n",
      " 14  City                                                                              4898 non-null   object \n",
      " 15  Province                                                                          4898 non-null   object \n",
      " 16  Postal Code                                                                       4898 non-null   object \n",
      " 17  Phone Number                                                                      4697 non-null   object \n",
      " 18  Fax Number                                                                        4479 non-null   object \n",
      " 19  School Website                                                                    4758 non-null   object \n",
      " 20  Board Website                                                                     4904 non-null   object \n",
      " 21  Enrolment                                                                         4677 non-null   float64\n",
      " 22  Latitude                                                                          4898 non-null   float64\n",
      " 23  Longitude                                                                         4898 non-null   float64\n",
      " 24  Percentage of Students Whose First Language Is Not English                        4677 non-null   float64\n",
      " 25  Percentage of Students Whose First Language Is Not French                         4677 non-null   float64\n",
      " 26  Percentage of Students Who Are New to Canada from a Non-English Speaking Country  4677 non-null   float64\n",
      " 27  Percentage of Students Who Are New to Canada from a Non-French Speaking Country   4677 non-null   float64\n",
      " 28  Percentage of Students Receiving Special Education Services                       4677 non-null   float64\n",
      " 29  Percentage of Students Identified as Gifted                                       4677 non-null   float64\n",
      " 30  Percentage of Grade 3 Students Achieving the Provincial Standard in Reading       3507 non-null   object \n",
      " 31  Change in Grade 3 Reading Achievement Over Three Years                            0 non-null      float64\n",
      " 32  Percentage of Grade 3 Students Achieving the Provincial Standard in Writing       3507 non-null   object \n",
      " 33  Change in Grade 3 Writing Achievement Over Three Years                            0 non-null      float64\n",
      " 34  Percentage of Grade 3 Students Achieving the Provincial Standard in Mathematics   3555 non-null   object \n",
      " 35  Change in Grade 3 Mathematics Achievement Over Three Years                        0 non-null      float64\n",
      " 36  Percentage of Grade 6 Students Achieving the Provincial Standard in Reading       3378 non-null   object \n",
      " 37  Change in Grade 6 Reading Achievement Over Three Years                            0 non-null      float64\n",
      " 38  Percentage of Grade 6 Students Achieving the Provincial Standard in Writing       3378 non-null   object \n",
      " 39  Change in Grade 6 Writing Achievement Over Three Years                            0 non-null      float64\n",
      " 40  Percentage of Grade 6 Students Achieving the Provincial Standard in Mathematics   3378 non-null   object \n",
      " 41  Change in Grade 6 Mathematics Achievement Over Three Years                        0 non-null      float64\n",
      " 42  Percentage of Grade 9 Students Achieving the Provincial Standard in Mathematics   689 non-null    object \n",
      " 43  Change in Grade 9 Mathematics Achievement Over Three Years                        0 non-null      float64\n",
      " 44  Percentage of Students That Passed the Grade 10 OSSLT on Their First Attempt      746 non-null    object \n",
      " 45  Change in Grade 10 OSSLT Literacy Achievement Over Three Years                    0 non-null      float64\n",
      " 46  Percentage of School-Aged Children Who Live in Low-Income Households              4677 non-null   float64\n",
      " 47  Percentage of Students Whose Parents Have No Degree, Diploma or Certificate       4677 non-null   float64\n",
      " 48  Extract Date                                                                      4904 non-null   object \n",
      "dtypes: float64(19), object(30)\n",
      "memory usage: 1.8+ MB\n"
     ]
    }
   ],
   "source": [
    "schools.info()"
   ]
  },
  {
   "cell_type": "markdown",
   "id": "258d2d6b-4c04-4b63-84cc-13cec3fe0f3f",
   "metadata": {},
   "source": [
    "Many columns seem to have no data at all. Some are just a bit poor. Some contain address information and websites. We can drop many of those. Let's start with dropping names, addresses and ID numbers."
   ]
  },
  {
   "cell_type": "code",
   "execution_count": 116,
   "id": "957b6609-3663-4d6b-9e6e-55c0e350ad4a",
   "metadata": {},
   "outputs": [],
   "source": [
    "schools = schools.drop([\n",
    "    'Board Number',\n",
    "    'Board Name',\n",
    "    'Board Type',\n",
    "    'School Number',\n",
    "    'School Name',\n",
    "    'School Special Condition Code',\n",
    "    'Building Suite',\n",
    "    'P.O. Box',\n",
    "    'Street',\n",
    "    'Municipality',\n",
    "    'City',\n",
    "    'Province',\n",
    "    'Postal Code',\n",
    "    'Phone Number',\n",
    "    'Fax Number',\n",
    "    'School Website',\n",
    "    'Board Website',\n",
    "    'Longitude',\n",
    "    'Latitude',\n",
    "    'Extract Date'\n",
    "], axis=1)"
   ]
  },
  {
   "cell_type": "code",
   "execution_count": 117,
   "id": "5d765ef6-9cdf-4066-85cc-48460056a5f6",
   "metadata": {},
   "outputs": [
    {
     "name": "stdout",
     "output_type": "stream",
     "text": [
      "<class 'pandas.core.frame.DataFrame'>\n",
      "RangeIndex: 4904 entries, 0 to 4903\n",
      "Data columns (total 29 columns):\n",
      " #   Column                                                                            Non-Null Count  Dtype  \n",
      "---  ------                                                                            --------------  -----  \n",
      " 0   School Type                                                                       4904 non-null   object \n",
      " 1   School Level                                                                      4904 non-null   object \n",
      " 2   School Language                                                                   4904 non-null   object \n",
      " 3   Grade Range                                                                       4904 non-null   object \n",
      " 4   Enrolment                                                                         4677 non-null   float64\n",
      " 5   Percentage of Students Whose First Language Is Not English                        4677 non-null   float64\n",
      " 6   Percentage of Students Whose First Language Is Not French                         4677 non-null   float64\n",
      " 7   Percentage of Students Who Are New to Canada from a Non-English Speaking Country  4677 non-null   float64\n",
      " 8   Percentage of Students Who Are New to Canada from a Non-French Speaking Country   4677 non-null   float64\n",
      " 9   Percentage of Students Receiving Special Education Services                       4677 non-null   float64\n",
      " 10  Percentage of Students Identified as Gifted                                       4677 non-null   float64\n",
      " 11  Percentage of Grade 3 Students Achieving the Provincial Standard in Reading       3507 non-null   object \n",
      " 12  Change in Grade 3 Reading Achievement Over Three Years                            0 non-null      float64\n",
      " 13  Percentage of Grade 3 Students Achieving the Provincial Standard in Writing       3507 non-null   object \n",
      " 14  Change in Grade 3 Writing Achievement Over Three Years                            0 non-null      float64\n",
      " 15  Percentage of Grade 3 Students Achieving the Provincial Standard in Mathematics   3555 non-null   object \n",
      " 16  Change in Grade 3 Mathematics Achievement Over Three Years                        0 non-null      float64\n",
      " 17  Percentage of Grade 6 Students Achieving the Provincial Standard in Reading       3378 non-null   object \n",
      " 18  Change in Grade 6 Reading Achievement Over Three Years                            0 non-null      float64\n",
      " 19  Percentage of Grade 6 Students Achieving the Provincial Standard in Writing       3378 non-null   object \n",
      " 20  Change in Grade 6 Writing Achievement Over Three Years                            0 non-null      float64\n",
      " 21  Percentage of Grade 6 Students Achieving the Provincial Standard in Mathematics   3378 non-null   object \n",
      " 22  Change in Grade 6 Mathematics Achievement Over Three Years                        0 non-null      float64\n",
      " 23  Percentage of Grade 9 Students Achieving the Provincial Standard in Mathematics   689 non-null    object \n",
      " 24  Change in Grade 9 Mathematics Achievement Over Three Years                        0 non-null      float64\n",
      " 25  Percentage of Students That Passed the Grade 10 OSSLT on Their First Attempt      746 non-null    object \n",
      " 26  Change in Grade 10 OSSLT Literacy Achievement Over Three Years                    0 non-null      float64\n",
      " 27  Percentage of School-Aged Children Who Live in Low-Income Households              4677 non-null   float64\n",
      " 28  Percentage of Students Whose Parents Have No Degree, Diploma or Certificate       4677 non-null   float64\n",
      "dtypes: float64(17), object(12)\n",
      "memory usage: 1.1+ MB\n"
     ]
    }
   ],
   "source": [
    "schools.info()"
   ]
  },
  {
   "cell_type": "markdown",
   "id": "631e82ee-b043-4199-ab11-47b3a08ff0e2",
   "metadata": {},
   "source": [
    "We still have rather a lot of columns with no data at all. Let's drop those as well.\n",
    "\n",
    "Actually, let's also get rid of the columns that have fewer than 1000 valid values."
   ]
  },
  {
   "cell_type": "code",
   "execution_count": 118,
   "id": "79b98595-2bce-47de-82f5-21c445d4b877",
   "metadata": {},
   "outputs": [],
   "source": [
    "schools = schools.dropna(thresh=1000, axis=1)"
   ]
  },
  {
   "cell_type": "code",
   "execution_count": 119,
   "id": "bac2f0f0-637d-4863-8f54-91aa29e7a8cb",
   "metadata": {},
   "outputs": [
    {
     "name": "stdout",
     "output_type": "stream",
     "text": [
      "<class 'pandas.core.frame.DataFrame'>\n",
      "RangeIndex: 4904 entries, 0 to 4903\n",
      "Data columns (total 19 columns):\n",
      " #   Column                                                                            Non-Null Count  Dtype  \n",
      "---  ------                                                                            --------------  -----  \n",
      " 0   School Type                                                                       4904 non-null   object \n",
      " 1   School Level                                                                      4904 non-null   object \n",
      " 2   School Language                                                                   4904 non-null   object \n",
      " 3   Grade Range                                                                       4904 non-null   object \n",
      " 4   Enrolment                                                                         4677 non-null   float64\n",
      " 5   Percentage of Students Whose First Language Is Not English                        4677 non-null   float64\n",
      " 6   Percentage of Students Whose First Language Is Not French                         4677 non-null   float64\n",
      " 7   Percentage of Students Who Are New to Canada from a Non-English Speaking Country  4677 non-null   float64\n",
      " 8   Percentage of Students Who Are New to Canada from a Non-French Speaking Country   4677 non-null   float64\n",
      " 9   Percentage of Students Receiving Special Education Services                       4677 non-null   float64\n",
      " 10  Percentage of Students Identified as Gifted                                       4677 non-null   float64\n",
      " 11  Percentage of Grade 3 Students Achieving the Provincial Standard in Reading       3507 non-null   object \n",
      " 12  Percentage of Grade 3 Students Achieving the Provincial Standard in Writing       3507 non-null   object \n",
      " 13  Percentage of Grade 3 Students Achieving the Provincial Standard in Mathematics   3555 non-null   object \n",
      " 14  Percentage of Grade 6 Students Achieving the Provincial Standard in Reading       3378 non-null   object \n",
      " 15  Percentage of Grade 6 Students Achieving the Provincial Standard in Writing       3378 non-null   object \n",
      " 16  Percentage of Grade 6 Students Achieving the Provincial Standard in Mathematics   3378 non-null   object \n",
      " 17  Percentage of School-Aged Children Who Live in Low-Income Households              4677 non-null   float64\n",
      " 18  Percentage of Students Whose Parents Have No Degree, Diploma or Certificate       4677 non-null   float64\n",
      "dtypes: float64(9), object(10)\n",
      "memory usage: 728.1+ KB\n"
     ]
    }
   ],
   "source": [
    "schools.info()"
   ]
  },
  {
   "cell_type": "markdown",
   "id": "60023c62-159e-4d04-829f-bda91f1562f2",
   "metadata": {},
   "source": [
    "There is still another issue. Some of the percentages in the spreadsheet are written as \"89%\" instead of just the number \"89\", so pandas things it's text. Let's fix that!"
   ]
  },
  {
   "cell_type": "code",
   "execution_count": 120,
   "id": "39e94d82-6a83-4e9f-ae0d-f71e66ab83a6",
   "metadata": {},
   "outputs": [],
   "source": [
    "for badcol in [\n",
    "    \"Percentage of Grade 3 Students Achieving the Provincial Standard in Reading\",\n",
    "    \"Percentage of Grade 3 Students Achieving the Provincial Standard in Writing\",\n",
    "    \"Percentage of Grade 3 Students Achieving the Provincial Standard in Mathematics\",\n",
    "    \"Percentage of Grade 6 Students Achieving the Provincial Standard in Reading\",\n",
    "    \"Percentage of Grade 6 Students Achieving the Provincial Standard in Writing\",\n",
    "    \"Percentage of Grade 6 Students Achieving the Provincial Standard in Mathematics\",\n",
    "]:\n",
    "    schools[badcol] = schools[badcol].str.rstrip('%').astype('float64')"
   ]
  },
  {
   "cell_type": "code",
   "execution_count": 123,
   "id": "1bc22983-6280-4569-90b1-6ccd3cbd947f",
   "metadata": {},
   "outputs": [
    {
     "name": "stdout",
     "output_type": "stream",
     "text": [
      "<class 'pandas.core.frame.DataFrame'>\n",
      "RangeIndex: 4904 entries, 0 to 4903\n",
      "Data columns (total 19 columns):\n",
      " #   Column                                                                            Non-Null Count  Dtype  \n",
      "---  ------                                                                            --------------  -----  \n",
      " 0   School Type                                                                       4904 non-null   object \n",
      " 1   School Level                                                                      4904 non-null   object \n",
      " 2   School Language                                                                   4904 non-null   object \n",
      " 3   Grade Range                                                                       4904 non-null   object \n",
      " 4   Enrolment                                                                         4677 non-null   float64\n",
      " 5   Percentage of Students Whose First Language Is Not English                        4677 non-null   float64\n",
      " 6   Percentage of Students Whose First Language Is Not French                         4677 non-null   float64\n",
      " 7   Percentage of Students Who Are New to Canada from a Non-English Speaking Country  4677 non-null   float64\n",
      " 8   Percentage of Students Who Are New to Canada from a Non-French Speaking Country   4677 non-null   float64\n",
      " 9   Percentage of Students Receiving Special Education Services                       4677 non-null   float64\n",
      " 10  Percentage of Students Identified as Gifted                                       4677 non-null   float64\n",
      " 11  Percentage of Grade 3 Students Achieving the Provincial Standard in Reading       3507 non-null   float64\n",
      " 12  Percentage of Grade 3 Students Achieving the Provincial Standard in Writing       3507 non-null   float64\n",
      " 13  Percentage of Grade 3 Students Achieving the Provincial Standard in Mathematics   3555 non-null   float64\n",
      " 14  Percentage of Grade 6 Students Achieving the Provincial Standard in Reading       3378 non-null   float64\n",
      " 15  Percentage of Grade 6 Students Achieving the Provincial Standard in Writing       3378 non-null   float64\n",
      " 16  Percentage of Grade 6 Students Achieving the Provincial Standard in Mathematics   3378 non-null   float64\n",
      " 17  Percentage of School-Aged Children Who Live in Low-Income Households              4677 non-null   float64\n",
      " 18  Percentage of Students Whose Parents Have No Degree, Diploma or Certificate       4677 non-null   float64\n",
      "dtypes: float64(15), object(4)\n",
      "memory usage: 728.1+ KB\n"
     ]
    }
   ],
   "source": [
    "schools.info()"
   ]
  },
  {
   "cell_type": "markdown",
   "id": "71a4c871-5560-4e91-8e13-589034b21a56",
   "metadata": {},
   "source": [
    "Let's see if we can do some imputation on the columns that have only 3300 to 3500 values. To be able to do that, we first need to get a sense of how the data is distributed."
   ]
  },
  {
   "cell_type": "code",
   "execution_count": 127,
   "id": "6abcd88b-4f5f-4f82-bffa-31be6022f65b",
   "metadata": {},
   "outputs": [
    {
     "data": {
      "text/plain": [
       "array([[<Axes: title={'center': 'Percentage of Grade 3 Students Achieving the Provincial Standard in Reading'}>,\n",
       "        <Axes: title={'center': 'Percentage of Grade 3 Students Achieving the Provincial Standard in Writing'}>],\n",
       "       [<Axes: title={'center': 'Percentage of Grade 3 Students Achieving the Provincial Standard in Mathematics'}>,\n",
       "        <Axes: title={'center': 'Percentage of Grade 6 Students Achieving the Provincial Standard in Reading'}>],\n",
       "       [<Axes: title={'center': 'Percentage of Grade 6 Students Achieving the Provincial Standard in Writing'}>,\n",
       "        <Axes: title={'center': 'Percentage of Grade 6 Students Achieving the Provincial Standard in Mathematics'}>]],\n",
       "      dtype=object)"
      ]
     },
     "execution_count": 127,
     "metadata": {},
     "output_type": "execute_result"
    },
    {
     "data": {
      "image/png": "[encoded data removed]",
      "text/plain": [
       "<Figure size 640x480 with 6 Axes>"
      ]
     },
     "metadata": {},
     "output_type": "display_data"
    }
   ],
   "source": [
    "schools[[\n",
    "    \"Percentage of Grade 3 Students Achieving the Provincial Standard in Reading\",\n",
    "    \"Percentage of Grade 3 Students Achieving the Provincial Standard in Writing\",\n",
    "    \"Percentage of Grade 3 Students Achieving the Provincial Standard in Mathematics\",\n",
    "    \"Percentage of Grade 6 Students Achieving the Provincial Standard in Reading\",\n",
    "    \"Percentage of Grade 6 Students Achieving the Provincial Standard in Writing\",\n",
    "    \"Percentage of Grade 6 Students Achieving the Provincial Standard in Mathematics\",\n",
    "]].hist()"
   ]
  },
  {
   "cell_type": "markdown",
   "id": "a0573618-d9d0-41a5-9156-af5a671745c6",
   "metadata": {},
   "source": [
    "That all looks quite close to normal distributions, albeit cut off since a percentage needs to be between 0 and 100."
   ]
  },
  {
   "cell_type": "code",
   "execution_count": 129,
   "id": "52bb5c6a-5167-4248-b932-6bfa9f96a805",
   "metadata": {},
   "outputs": [],
   "source": [
    "import scipy.stats"
   ]
  },
  {
   "cell_type": "code",
   "execution_count": 136,
   "id": "0ab69c4a-3cbf-449c-b10b-c418a49be77e",
   "metadata": {},
   "outputs": [
    {
     "ename": "ValueError",
     "evalue": "The intersection of user-provided bounds for `beta` and the domain of the distribution is not finite. Please provide finite bounds for shape `beta` in `bounds`.",
     "output_type": "error",
     "traceback": [
      "\u001b[0;31m---------------------------------------------------------------------------\u001b[0m",
      "\u001b[0;31mValueError\u001b[0m                                Traceback (most recent call last)",
      "Cell \u001b[0;32mIn[136], line 1\u001b[0m\n\u001b[0;32m----> 1\u001b[0m res \u001b[38;5;241m=\u001b[39m \u001b[43mscipy\u001b[49m\u001b[38;5;241;43m.\u001b[39;49m\u001b[43mstats\u001b[49m\u001b[38;5;241;43m.\u001b[39;49m\u001b[43mfit\u001b[49m\u001b[43m(\u001b[49m\u001b[43mscipy\u001b[49m\u001b[38;5;241;43m.\u001b[39;49m\u001b[43mstats\u001b[49m\u001b[38;5;241;43m.\u001b[39;49m\u001b[43mgennorm\u001b[49m\u001b[43m,\u001b[49m\u001b[43m \u001b[49m\u001b[43mschools\u001b[49m\u001b[43m[\u001b[49m\u001b[38;5;124;43m\"\u001b[39;49m\u001b[38;5;124;43mPercentage of Grade 3 Students Achieving the Provincial Standard in Mathematics\u001b[39;49m\u001b[38;5;124;43m\"\u001b[39;49m\u001b[43m]\u001b[49m\u001b[38;5;241;43m.\u001b[39;49m\u001b[43mdropna\u001b[49m\u001b[43m(\u001b[49m\u001b[43m)\u001b[49m\u001b[43m)\u001b[49m\n",
      "File \u001b[0;32m~/projects/machinelearning/jupyter/lib/python3.10/site-packages/scipy/stats/_fit.py:619\u001b[0m, in \u001b[0;36mfit\u001b[0;34m(dist, data, bounds, guess, method, optimizer)\u001b[0m\n\u001b[1;32m    617\u001b[0m     param_domain \u001b[38;5;241m=\u001b[39m param_info[i]\u001b[38;5;241m.\u001b[39mdomain\n\u001b[1;32m    618\u001b[0m     integral \u001b[38;5;241m=\u001b[39m param_info[i]\u001b[38;5;241m.\u001b[39mintegrality\n\u001b[0;32m--> 619\u001b[0m     combined \u001b[38;5;241m=\u001b[39m \u001b[43m_combine_bounds\u001b[49m\u001b[43m(\u001b[49m\u001b[43mname\u001b[49m\u001b[43m,\u001b[49m\u001b[43m \u001b[49m\u001b[43muser_bound\u001b[49m\u001b[43m,\u001b[49m\u001b[43m \u001b[49m\u001b[43mparam_domain\u001b[49m\u001b[43m,\u001b[49m\u001b[43m \u001b[49m\u001b[43mintegral\u001b[49m\u001b[43m)\u001b[49m\n\u001b[1;32m    620\u001b[0m     validated_bounds\u001b[38;5;241m.\u001b[39mappend(combined)\n\u001b[1;32m    622\u001b[0m bounds \u001b[38;5;241m=\u001b[39m np\u001b[38;5;241m.\u001b[39masarray(validated_bounds)\n",
      "File \u001b[0;32m~/projects/machinelearning/jupyter/lib/python3.10/site-packages/scipy/stats/_fit.py:36\u001b[0m, in \u001b[0;36m_combine_bounds\u001b[0;34m(name, user_bounds, shape_domain, integral)\u001b[0m\n\u001b[1;32m     32\u001b[0m \u001b[38;5;28;01mif\u001b[39;00m \u001b[38;5;129;01mnot\u001b[39;00m np\u001b[38;5;241m.\u001b[39mall(np\u001b[38;5;241m.\u001b[39misfinite(bounds)):\n\u001b[1;32m     33\u001b[0m     message \u001b[38;5;241m=\u001b[39m (\u001b[38;5;124mf\u001b[39m\u001b[38;5;124m\"\u001b[39m\u001b[38;5;124mThe intersection of user-provided bounds for `\u001b[39m\u001b[38;5;132;01m{\u001b[39;00mname\u001b[38;5;132;01m}\u001b[39;00m\u001b[38;5;124m` \u001b[39m\u001b[38;5;124m\"\u001b[39m\n\u001b[1;32m     34\u001b[0m                \u001b[38;5;124mf\u001b[39m\u001b[38;5;124m\"\u001b[39m\u001b[38;5;124mand the domain of the distribution is not finite. Please \u001b[39m\u001b[38;5;124m\"\u001b[39m\n\u001b[1;32m     35\u001b[0m                \u001b[38;5;124mf\u001b[39m\u001b[38;5;124m\"\u001b[39m\u001b[38;5;124mprovide finite bounds for shape `\u001b[39m\u001b[38;5;132;01m{\u001b[39;00mname\u001b[38;5;132;01m}\u001b[39;00m\u001b[38;5;124m` in `bounds`.\u001b[39m\u001b[38;5;124m\"\u001b[39m)\n\u001b[0;32m---> 36\u001b[0m     \u001b[38;5;28;01mraise\u001b[39;00m \u001b[38;5;167;01mValueError\u001b[39;00m(message)\n\u001b[1;32m     38\u001b[0m \u001b[38;5;28;01mreturn\u001b[39;00m bounds\n",
      "\u001b[0;31mValueError\u001b[0m: The intersection of user-provided bounds for `beta` and the domain of the distribution is not finite. Please provide finite bounds for shape `beta` in `bounds`."
     ]
    }
   ],
   "source": [
    "res = scipy.stats.fit(scipy.stats.gennorm, schools[\"Percentage of Grade 3 Students Achieving the Provincial Standard in Mathematics\"].dropna())"
   ]
  },
  {
   "cell_type": "code",
   "execution_count": 134,
   "id": "f981b317-6b18-461e-a1aa-8a1d37672a69",
   "metadata": {},
   "outputs": [
    {
     "data": {
      "text/plain": [
       "FitParams(loc=0.0, scale=1.0)"
      ]
     },
     "execution_count": 134,
     "metadata": {},
     "output_type": "execute_result"
    }
   ],
   "source": [
    "res.params"
   ]
  },
  {
   "cell_type": "code",
   "execution_count": 142,
   "id": "081af490-8231-43b1-99a2-24ff1f77edc9",
   "metadata": {},
   "outputs": [
    {
     "data": {
      "text/plain": [
       "(84.92806394316163, 12.404561885722861)"
      ]
     },
     "execution_count": 142,
     "metadata": {},
     "output_type": "execute_result"
    }
   ],
   "source": [
    "res = scipy.stats.norm.fit(schools[\"Percentage of Grade 6 Students Achieving the Provincial Standard in Reading\"].dropna())\n",
    "res"
   ]
  },
  {
   "cell_type": "code",
   "execution_count": 150,
   "id": "060a7d21-782a-426a-922a-77087bf606b0",
   "metadata": {},
   "outputs": [
    {
     "data": {
      "image/png": "[encoded data removed]",
      "text/plain": [
       "<Figure size 640x480 with 1 Axes>"
      ]
     },
     "metadata": {},
     "output_type": "display_data"
    }
   ],
   "source": [
    "import matplotlib.pyplot as plt\n",
    "x = list(range(0,100))\n",
    "plt.plot(x, 45000*scipy.stats.norm.pdf(x, res[0], res[1]))\n",
    "schools[\"Percentage of Grade 6 Students Achieving the Provincial Standard in Reading\"].hist()\n",
    "plt.show()"
   ]
  },
  {
   "cell_type": "code",
   "execution_count": 45,
   "id": "d874bdc5-ce58-47ab-a164-5508f86494fd",
   "metadata": {},
   "outputs": [],
   "source": [
    "X = subset[['Percentage of School-Aged Children Who Live in Low-Income Households','Percentage of Students Whose Parents Have No Degree, Diploma or Certificate']].astype(\"float\") # features\n",
    "y = subset['Percentage of Grade 9 Students Achieving the Provincial Standard in Mathematics']  # labels"
   ]
  },
  {
   "cell_type": "code",
   "execution_count": 46,
   "id": "b27805ee-ffeb-49e1-9d21-1c4f1f908d43",
   "metadata": {},
   "outputs": [],
   "source": [
    "# Split the data into training and testing sets\n",
    "X_train, X_test, y_train, y_test = train_test_split(X, y, test_size=0.2, random_state=42)"
   ]
  },
  {
   "cell_type": "code",
   "execution_count": 47,
   "id": "63ea7449-3e8e-49ee-94e1-125e576a064c",
   "metadata": {},
   "outputs": [
    {
     "data": {
      "text/html": [
       "<style>#sk-container-id-3 {color: black;}#sk-container-id-3 pre{padding: 0;}#sk-container-id-3 div.sk-toggleable {background-color: white;}#sk-container-id-3 label.sk-toggleable__label {cursor: pointer;display: block;width: 100%;margin-bottom: 0;padding: 0.3em;box-sizing: border-box;text-align: center;}#sk-container-id-3 label.sk-toggleable__label-arrow:before {content: \"▸\";float: left;margin-right: 0.25em;color: #696969;}#sk-container-id-3 label.sk-toggleable__label-arrow:hover:before {color: black;}#sk-container-id-3 div.sk-estimator:hover label.sk-toggleable__label-arrow:before {color: black;}#sk-container-id-3 div.sk-toggleable__content {max-height: 0;max-width: 0;overflow: hidden;text-align: left;background-color: #f0f8ff;}#sk-container-id-3 div.sk-toggleable__content pre {margin: 0.2em;color: black;border-radius: 0.25em;background-color: #f0f8ff;}#sk-container-id-3 input.sk-toggleable__control:checked~div.sk-toggleable__content {max-height: 200px;max-width: 100%;overflow: auto;}#sk-container-id-3 input.sk-toggleable__control:checked~label.sk-toggleable__label-arrow:before {content: \"▾\";}#sk-container-id-3 div.sk-estimator input.sk-toggleable__control:checked~label.sk-toggleable__label {background-color: #d4ebff;}#sk-container-id-3 div.sk-label input.sk-toggleable__control:checked~label.sk-toggleable__label {background-color: #d4ebff;}#sk-container-id-3 input.sk-hidden--visually {border: 0;clip: rect(1px 1px 1px 1px);clip: rect(1px, 1px, 1px, 1px);height: 1px;margin: -1px;overflow: hidden;padding: 0;position: absolute;width: 1px;}#sk-container-id-3 div.sk-estimator {font-family: monospace;background-color: #f0f8ff;border: 1px dotted black;border-radius: 0.25em;box-sizing: border-box;margin-bottom: 0.5em;}#sk-container-id-3 div.sk-estimator:hover {background-color: #d4ebff;}#sk-container-id-3 div.sk-parallel-item::after {content: \"\";width: 100%;border-bottom: 1px solid gray;flex-grow: 1;}#sk-container-id-3 div.sk-label:hover label.sk-toggleable__label {background-color: #d4ebff;}#sk-container-id-3 div.sk-serial::before {content: \"\";position: absolute;border-left: 1px solid gray;box-sizing: border-box;top: 0;bottom: 0;left: 50%;z-index: 0;}#sk-container-id-3 div.sk-serial {display: flex;flex-direction: column;align-items: center;background-color: white;padding-right: 0.2em;padding-left: 0.2em;position: relative;}#sk-container-id-3 div.sk-item {position: relative;z-index: 1;}#sk-container-id-3 div.sk-parallel {display: flex;align-items: stretch;justify-content: center;background-color: white;position: relative;}#sk-container-id-3 div.sk-item::before, #sk-container-id-3 div.sk-parallel-item::before {content: \"\";position: absolute;border-left: 1px solid gray;box-sizing: border-box;top: 0;bottom: 0;left: 50%;z-index: -1;}#sk-container-id-3 div.sk-parallel-item {display: flex;flex-direction: column;z-index: 1;position: relative;background-color: white;}#sk-container-id-3 div.sk-parallel-item:first-child::after {align-self: flex-end;width: 50%;}#sk-container-id-3 div.sk-parallel-item:last-child::after {align-self: flex-start;width: 50%;}#sk-container-id-3 div.sk-parallel-item:only-child::after {width: 0;}#sk-container-id-3 div.sk-dashed-wrapped {border: 1px dashed gray;margin: 0 0.4em 0.5em 0.4em;box-sizing: border-box;padding-bottom: 0.4em;background-color: white;}#sk-container-id-3 div.sk-label label {font-family: monospace;font-weight: bold;display: inline-block;line-height: 1.2em;}#sk-container-id-3 div.sk-label-container {text-align: center;}#sk-container-id-3 div.sk-container {/* jupyter's `normalize.less` sets `[hidden] { display: none; }` but bootstrap.min.css set `[hidden] { display: none !important; }` so we also need the `!important` here to be able to override the default hidden behavior on the sphinx rendered scikit-learn.org. See: https://github.com/scikit-learn/scikit-learn/issues/21755 */display: inline-block !important;position: relative;}#sk-container-id-3 div.sk-text-repr-fallback {display: none;}</style><div id=\"sk-container-id-3\" class=\"sk-top-container\"><div class=\"sk-text-repr-fallback\"><pre>GaussianNB()</pre><b>In a Jupyter environment, please rerun this cell to show the HTML representation or trust the notebook. <br />On GitHub, the HTML representation is unable to render, please try loading this page with nbviewer.org.</b></div><div class=\"sk-container\" hidden><div class=\"sk-item\"><div class=\"sk-estimator sk-toggleable\"><input class=\"sk-toggleable__control sk-hidden--visually\" id=\"sk-estimator-id-3\" type=\"checkbox\" checked><label for=\"sk-estimator-id-3\" class=\"sk-toggleable__label sk-toggleable__label-arrow\">GaussianNB</label><div class=\"sk-toggleable__content\"><pre>GaussianNB()</pre></div></div></div></div></div>"
      ],
      "text/plain": [
       "GaussianNB()"
      ]
     },
     "execution_count": 47,
     "metadata": {},
     "output_type": "execute_result"
    }
   ],
   "source": [
    "# Train a Gaussian Naive Bayes classifier\n",
    "gnb = GaussianNB()\n",
    "gnb.fit(X_train, y_train)"
   ]
  },
  {
   "cell_type": "code",
   "execution_count": 48,
   "id": "b241c39f-0ef6-47c1-a47a-f64631f50d3f",
   "metadata": {},
   "outputs": [],
   "source": [
    "# Make predictions on the test set\n",
    "y_pred = gnb.predict(X_test)"
   ]
  },
  {
   "cell_type": "code",
   "execution_count": 49,
   "id": "47cb6511-d0bc-4ba5-9dfc-e59e3c22743d",
   "metadata": {},
   "outputs": [
    {
     "name": "stdout",
     "output_type": "stream",
     "text": [
      "Accuracy: 0.051094890510948905\n"
     ]
    }
   ],
   "source": [
    "# Evaluate the performance of the classifier\n",
    "accuracy = accuracy_score(y_test, y_pred)\n",
    "print(\"Accuracy:\", accuracy)"
   ]
  },
  {
   "cell_type": "code",
   "execution_count": 50,
   "id": "8873ac70-e658-494a-9239-d38d31bba9d7",
   "metadata": {},
   "outputs": [
    {
     "data": {
      "text/plain": [
       "682"
      ]
     },
     "execution_count": 50,
     "metadata": {},
     "output_type": "execute_result"
    }
   ],
   "source": [
    "len(subset)"
   ]
  },
  {
   "cell_type": "code",
   "execution_count": 51,
   "id": "0a7bb71e-4666-45e7-89ac-4519bd4d46de",
   "metadata": {},
   "outputs": [
    {
     "data": {
      "text/html": [
       "<div>\n",
       "<style scoped>\n",
       "    .dataframe tbody tr th:only-of-type {\n",
       "        vertical-align: middle;\n",
       "    }\n",
       "\n",
       "    .dataframe tbody tr th {\n",
       "        vertical-align: top;\n",
       "    }\n",
       "\n",
       "    .dataframe thead th {\n",
       "        text-align: right;\n",
       "    }\n",
       "</style>\n",
       "<table border=\"1\" class=\"dataframe\">\n",
       "  <thead>\n",
       "    <tr style=\"text-align: right;\">\n",
       "      <th></th>\n",
       "      <th>Percentage of Grade 9 Students Achieving the Provincial Standard in Mathematics</th>\n",
       "      <th>Percentage of School-Aged Children Who Live in Low-Income Households</th>\n",
       "      <th>Percentage of Students Whose Parents Have No Degree, Diploma or Certificate</th>\n",
       "    </tr>\n",
       "  </thead>\n",
       "  <tbody>\n",
       "    <tr>\n",
       "      <th>7</th>\n",
       "      <td>50%</td>\n",
       "      <td>20</td>\n",
       "      <td>10</td>\n",
       "    </tr>\n",
       "    <tr>\n",
       "      <th>14</th>\n",
       "      <td>21%</td>\n",
       "      <td>20</td>\n",
       "      <td>5</td>\n",
       "    </tr>\n",
       "    <tr>\n",
       "      <th>24</th>\n",
       "      <td>36%</td>\n",
       "      <td>13</td>\n",
       "      <td>8</td>\n",
       "    </tr>\n",
       "    <tr>\n",
       "      <th>26</th>\n",
       "      <td>25%</td>\n",
       "      <td>5</td>\n",
       "      <td>0</td>\n",
       "    </tr>\n",
       "    <tr>\n",
       "      <th>37</th>\n",
       "      <td>40%</td>\n",
       "      <td>15</td>\n",
       "      <td>4</td>\n",
       "    </tr>\n",
       "    <tr>\n",
       "      <th>...</th>\n",
       "      <td>...</td>\n",
       "      <td>...</td>\n",
       "      <td>...</td>\n",
       "    </tr>\n",
       "    <tr>\n",
       "      <th>4876</th>\n",
       "      <td>69%</td>\n",
       "      <td>20</td>\n",
       "      <td>2</td>\n",
       "    </tr>\n",
       "    <tr>\n",
       "      <th>4877</th>\n",
       "      <td>72%</td>\n",
       "      <td>11</td>\n",
       "      <td>9</td>\n",
       "    </tr>\n",
       "    <tr>\n",
       "      <th>4879</th>\n",
       "      <td>84%</td>\n",
       "      <td>22</td>\n",
       "      <td>6</td>\n",
       "    </tr>\n",
       "    <tr>\n",
       "      <th>4891</th>\n",
       "      <td>68%</td>\n",
       "      <td>12</td>\n",
       "      <td>1</td>\n",
       "    </tr>\n",
       "    <tr>\n",
       "      <th>4900</th>\n",
       "      <td>56%</td>\n",
       "      <td>10</td>\n",
       "      <td>10</td>\n",
       "    </tr>\n",
       "  </tbody>\n",
       "</table>\n",
       "<p>682 rows × 3 columns</p>\n",
       "</div>"
      ],
      "text/plain": [
       "     Percentage of Grade 9 Students Achieving the Provincial Standard in Mathematics  \\\n",
       "7                                                   50%                                \n",
       "14                                                  21%                                \n",
       "24                                                  36%                                \n",
       "26                                                  25%                                \n",
       "37                                                  40%                                \n",
       "...                                                 ...                                \n",
       "4876                                                69%                                \n",
       "4877                                                72%                                \n",
       "4879                                                84%                                \n",
       "4891                                                68%                                \n",
       "4900                                                56%                                \n",
       "\n",
       "     Percentage of School-Aged Children Who Live in Low-Income Households  \\\n",
       "7                                                    20                     \n",
       "14                                                   20                     \n",
       "24                                                   13                     \n",
       "26                                                    5                     \n",
       "37                                                   15                     \n",
       "...                                                 ...                     \n",
       "4876                                                 20                     \n",
       "4877                                                 11                     \n",
       "4879                                                 22                     \n",
       "4891                                                 12                     \n",
       "4900                                                 10                     \n",
       "\n",
       "     Percentage of Students Whose Parents Have No Degree, Diploma or Certificate  \n",
       "7                                                    10                           \n",
       "14                                                    5                           \n",
       "24                                                    8                           \n",
       "26                                                    0                           \n",
       "37                                                    4                           \n",
       "...                                                 ...                           \n",
       "4876                                                  2                           \n",
       "4877                                                  9                           \n",
       "4879                                                  6                           \n",
       "4891                                                  1                           \n",
       "4900                                                 10                           \n",
       "\n",
       "[682 rows x 3 columns]"
      ]
     },
     "execution_count": 51,
     "metadata": {},
     "output_type": "execute_result"
    }
   ],
   "source": [
    "subset"
   ]
  },
  {
   "cell_type": "code",
   "execution_count": 52,
   "id": "f88e0c66-1697-47bd-b4ad-122023722dd1",
   "metadata": {},
   "outputs": [],
   "source": [
    "def lettergrade(percentage):\n",
    "    percentage = int(percentage.replace('%', ''))\n",
    "    if percentage < 50:\n",
    "        return 'F'\n",
    "    if percentage <= 53:\n",
    "        return 'D-'\n",
    "    if percentage <= 56:\n",
    "        return 'D'\n",
    "    if percentage <= 61:\n",
    "        return 'D+'\n",
    "    if percentage <= 62:\n",
    "        return 'C-'\n",
    "    if percentage <= 66:\n",
    "        return 'C'\n",
    "    if percentage <= 69:\n",
    "        return 'C+'\n",
    "    if percentage <= 71:\n",
    "        return 'B-'\n",
    "    if percentage <= 76:\n",
    "        return 'B'\n",
    "    if percentage <= 79:\n",
    "        return 'B+'\n",
    "    if percentage <= 86:\n",
    "        return 'A-'\n",
    "    if percentage <= 94:\n",
    "        return 'A'\n",
    "    return 'A+'        "
   ]
  },
  {
   "cell_type": "code",
   "execution_count": 53,
   "id": "7ad0846b-4a8f-4c4b-a2eb-2521a2c689c0",
   "metadata": {},
   "outputs": [],
   "source": [
    "def boxes(percentage):\n",
    "    percentage = int(percentage.replace('%', ''))\n",
    "    lowerlimit = percentage // 10 * 10\n",
    "    return str(lowerlimit) + '-' + str(lowerlimit+9)"
   ]
  },
  {
   "cell_type": "code",
   "execution_count": 54,
   "id": "3ffa58d1-2f57-4b25-95b3-a0996e6ca7d4",
   "metadata": {},
   "outputs": [
    {
     "data": {
      "text/plain": [
       "'40-49'"
      ]
     },
     "execution_count": 54,
     "metadata": {},
     "output_type": "execute_result"
    }
   ],
   "source": [
    "boxes('41%')"
   ]
  },
  {
   "cell_type": "code",
   "execution_count": 55,
   "id": "9186d98f-34ce-488f-8174-88cdf22229de",
   "metadata": {},
   "outputs": [],
   "source": [
    "subset['lettergrade'] = subset['Percentage of Grade 9 Students Achieving the Provincial Standard in Mathematics'].transform(boxes)"
   ]
  },
  {
   "cell_type": "code",
   "execution_count": 56,
   "id": "e9faf0b6-c337-494e-ad37-8c1b801165ff",
   "metadata": {},
   "outputs": [
    {
     "data": {
      "text/html": [
       "<div>\n",
       "<style scoped>\n",
       "    .dataframe tbody tr th:only-of-type {\n",
       "        vertical-align: middle;\n",
       "    }\n",
       "\n",
       "    .dataframe tbody tr th {\n",
       "        vertical-align: top;\n",
       "    }\n",
       "\n",
       "    .dataframe thead th {\n",
       "        text-align: right;\n",
       "    }\n",
       "</style>\n",
       "<table border=\"1\" class=\"dataframe\">\n",
       "  <thead>\n",
       "    <tr style=\"text-align: right;\">\n",
       "      <th></th>\n",
       "      <th>Percentage of Grade 9 Students Achieving the Provincial Standard in Mathematics</th>\n",
       "      <th>Percentage of School-Aged Children Who Live in Low-Income Households</th>\n",
       "      <th>Percentage of Students Whose Parents Have No Degree, Diploma or Certificate</th>\n",
       "      <th>lettergrade</th>\n",
       "    </tr>\n",
       "  </thead>\n",
       "  <tbody>\n",
       "    <tr>\n",
       "      <th>7</th>\n",
       "      <td>50%</td>\n",
       "      <td>20</td>\n",
       "      <td>10</td>\n",
       "      <td>50-59</td>\n",
       "    </tr>\n",
       "    <tr>\n",
       "      <th>14</th>\n",
       "      <td>21%</td>\n",
       "      <td>20</td>\n",
       "      <td>5</td>\n",
       "      <td>20-29</td>\n",
       "    </tr>\n",
       "    <tr>\n",
       "      <th>24</th>\n",
       "      <td>36%</td>\n",
       "      <td>13</td>\n",
       "      <td>8</td>\n",
       "      <td>30-39</td>\n",
       "    </tr>\n",
       "    <tr>\n",
       "      <th>26</th>\n",
       "      <td>25%</td>\n",
       "      <td>5</td>\n",
       "      <td>0</td>\n",
       "      <td>20-29</td>\n",
       "    </tr>\n",
       "    <tr>\n",
       "      <th>37</th>\n",
       "      <td>40%</td>\n",
       "      <td>15</td>\n",
       "      <td>4</td>\n",
       "      <td>40-49</td>\n",
       "    </tr>\n",
       "    <tr>\n",
       "      <th>...</th>\n",
       "      <td>...</td>\n",
       "      <td>...</td>\n",
       "      <td>...</td>\n",
       "      <td>...</td>\n",
       "    </tr>\n",
       "    <tr>\n",
       "      <th>4876</th>\n",
       "      <td>69%</td>\n",
       "      <td>20</td>\n",
       "      <td>2</td>\n",
       "      <td>60-69</td>\n",
       "    </tr>\n",
       "    <tr>\n",
       "      <th>4877</th>\n",
       "      <td>72%</td>\n",
       "      <td>11</td>\n",
       "      <td>9</td>\n",
       "      <td>70-79</td>\n",
       "    </tr>\n",
       "    <tr>\n",
       "      <th>4879</th>\n",
       "      <td>84%</td>\n",
       "      <td>22</td>\n",
       "      <td>6</td>\n",
       "      <td>80-89</td>\n",
       "    </tr>\n",
       "    <tr>\n",
       "      <th>4891</th>\n",
       "      <td>68%</td>\n",
       "      <td>12</td>\n",
       "      <td>1</td>\n",
       "      <td>60-69</td>\n",
       "    </tr>\n",
       "    <tr>\n",
       "      <th>4900</th>\n",
       "      <td>56%</td>\n",
       "      <td>10</td>\n",
       "      <td>10</td>\n",
       "      <td>50-59</td>\n",
       "    </tr>\n",
       "  </tbody>\n",
       "</table>\n",
       "<p>682 rows × 4 columns</p>\n",
       "</div>"
      ],
      "text/plain": [
       "     Percentage of Grade 9 Students Achieving the Provincial Standard in Mathematics  \\\n",
       "7                                                   50%                                \n",
       "14                                                  21%                                \n",
       "24                                                  36%                                \n",
       "26                                                  25%                                \n",
       "37                                                  40%                                \n",
       "...                                                 ...                                \n",
       "4876                                                69%                                \n",
       "4877                                                72%                                \n",
       "4879                                                84%                                \n",
       "4891                                                68%                                \n",
       "4900                                                56%                                \n",
       "\n",
       "     Percentage of School-Aged Children Who Live in Low-Income Households  \\\n",
       "7                                                    20                     \n",
       "14                                                   20                     \n",
       "24                                                   13                     \n",
       "26                                                    5                     \n",
       "37                                                   15                     \n",
       "...                                                 ...                     \n",
       "4876                                                 20                     \n",
       "4877                                                 11                     \n",
       "4879                                                 22                     \n",
       "4891                                                 12                     \n",
       "4900                                                 10                     \n",
       "\n",
       "     Percentage of Students Whose Parents Have No Degree, Diploma or Certificate  \\\n",
       "7                                                    10                            \n",
       "14                                                    5                            \n",
       "24                                                    8                            \n",
       "26                                                    0                            \n",
       "37                                                    4                            \n",
       "...                                                 ...                            \n",
       "4876                                                  2                            \n",
       "4877                                                  9                            \n",
       "4879                                                  6                            \n",
       "4891                                                  1                            \n",
       "4900                                                 10                            \n",
       "\n",
       "     lettergrade  \n",
       "7          50-59  \n",
       "14         20-29  \n",
       "24         30-39  \n",
       "26         20-29  \n",
       "37         40-49  \n",
       "...          ...  \n",
       "4876       60-69  \n",
       "4877       70-79  \n",
       "4879       80-89  \n",
       "4891       60-69  \n",
       "4900       50-59  \n",
       "\n",
       "[682 rows x 4 columns]"
      ]
     },
     "execution_count": 56,
     "metadata": {},
     "output_type": "execute_result"
    }
   ],
   "source": [
    "subset"
   ]
  },
  {
   "cell_type": "code",
   "execution_count": 57,
   "id": "6e60c727-7305-44d2-8bd4-97cedae11575",
   "metadata": {},
   "outputs": [],
   "source": [
    "X = subset[['Percentage of School-Aged Children Who Live in Low-Income Households','Percentage of Students Whose Parents Have No Degree, Diploma or Certificate']].astype(\"float\") # features\n",
    "y = subset['lettergrade']  # labels"
   ]
  },
  {
   "cell_type": "code",
   "execution_count": 58,
   "id": "1cb69573-27a6-40bb-81e1-fbb1bacaa497",
   "metadata": {},
   "outputs": [],
   "source": [
    "# Split the data into training and testing sets\n",
    "X_train, X_test, y_train, y_test = train_test_split(X, y, test_size=0.2, random_state=42)"
   ]
  },
  {
   "cell_type": "code",
   "execution_count": 59,
   "id": "88ca02f1-db33-477e-8259-a36f73ee34e3",
   "metadata": {},
   "outputs": [
    {
     "data": {
      "text/html": [
       "<style>#sk-container-id-4 {color: black;}#sk-container-id-4 pre{padding: 0;}#sk-container-id-4 div.sk-toggleable {background-color: white;}#sk-container-id-4 label.sk-toggleable__label {cursor: pointer;display: block;width: 100%;margin-bottom: 0;padding: 0.3em;box-sizing: border-box;text-align: center;}#sk-container-id-4 label.sk-toggleable__label-arrow:before {content: \"▸\";float: left;margin-right: 0.25em;color: #696969;}#sk-container-id-4 label.sk-toggleable__label-arrow:hover:before {color: black;}#sk-container-id-4 div.sk-estimator:hover label.sk-toggleable__label-arrow:before {color: black;}#sk-container-id-4 div.sk-toggleable__content {max-height: 0;max-width: 0;overflow: hidden;text-align: left;background-color: #f0f8ff;}#sk-container-id-4 div.sk-toggleable__content pre {margin: 0.2em;color: black;border-radius: 0.25em;background-color: #f0f8ff;}#sk-container-id-4 input.sk-toggleable__control:checked~div.sk-toggleable__content {max-height: 200px;max-width: 100%;overflow: auto;}#sk-container-id-4 input.sk-toggleable__control:checked~label.sk-toggleable__label-arrow:before {content: \"▾\";}#sk-container-id-4 div.sk-estimator input.sk-toggleable__control:checked~label.sk-toggleable__label {background-color: #d4ebff;}#sk-container-id-4 div.sk-label input.sk-toggleable__control:checked~label.sk-toggleable__label {background-color: #d4ebff;}#sk-container-id-4 input.sk-hidden--visually {border: 0;clip: rect(1px 1px 1px 1px);clip: rect(1px, 1px, 1px, 1px);height: 1px;margin: -1px;overflow: hidden;padding: 0;position: absolute;width: 1px;}#sk-container-id-4 div.sk-estimator {font-family: monospace;background-color: #f0f8ff;border: 1px dotted black;border-radius: 0.25em;box-sizing: border-box;margin-bottom: 0.5em;}#sk-container-id-4 div.sk-estimator:hover {background-color: #d4ebff;}#sk-container-id-4 div.sk-parallel-item::after {content: \"\";width: 100%;border-bottom: 1px solid gray;flex-grow: 1;}#sk-container-id-4 div.sk-label:hover label.sk-toggleable__label {background-color: #d4ebff;}#sk-container-id-4 div.sk-serial::before {content: \"\";position: absolute;border-left: 1px solid gray;box-sizing: border-box;top: 0;bottom: 0;left: 50%;z-index: 0;}#sk-container-id-4 div.sk-serial {display: flex;flex-direction: column;align-items: center;background-color: white;padding-right: 0.2em;padding-left: 0.2em;position: relative;}#sk-container-id-4 div.sk-item {position: relative;z-index: 1;}#sk-container-id-4 div.sk-parallel {display: flex;align-items: stretch;justify-content: center;background-color: white;position: relative;}#sk-container-id-4 div.sk-item::before, #sk-container-id-4 div.sk-parallel-item::before {content: \"\";position: absolute;border-left: 1px solid gray;box-sizing: border-box;top: 0;bottom: 0;left: 50%;z-index: -1;}#sk-container-id-4 div.sk-parallel-item {display: flex;flex-direction: column;z-index: 1;position: relative;background-color: white;}#sk-container-id-4 div.sk-parallel-item:first-child::after {align-self: flex-end;width: 50%;}#sk-container-id-4 div.sk-parallel-item:last-child::after {align-self: flex-start;width: 50%;}#sk-container-id-4 div.sk-parallel-item:only-child::after {width: 0;}#sk-container-id-4 div.sk-dashed-wrapped {border: 1px dashed gray;margin: 0 0.4em 0.5em 0.4em;box-sizing: border-box;padding-bottom: 0.4em;background-color: white;}#sk-container-id-4 div.sk-label label {font-family: monospace;font-weight: bold;display: inline-block;line-height: 1.2em;}#sk-container-id-4 div.sk-label-container {text-align: center;}#sk-container-id-4 div.sk-container {/* jupyter's `normalize.less` sets `[hidden] { display: none; }` but bootstrap.min.css set `[hidden] { display: none !important; }` so we also need the `!important` here to be able to override the default hidden behavior on the sphinx rendered scikit-learn.org. See: https://github.com/scikit-learn/scikit-learn/issues/21755 */display: inline-block !important;position: relative;}#sk-container-id-4 div.sk-text-repr-fallback {display: none;}</style><div id=\"sk-container-id-4\" class=\"sk-top-container\"><div class=\"sk-text-repr-fallback\"><pre>GaussianNB()</pre><b>In a Jupyter environment, please rerun this cell to show the HTML representation or trust the notebook. <br />On GitHub, the HTML representation is unable to render, please try loading this page with nbviewer.org.</b></div><div class=\"sk-container\" hidden><div class=\"sk-item\"><div class=\"sk-estimator sk-toggleable\"><input class=\"sk-toggleable__control sk-hidden--visually\" id=\"sk-estimator-id-4\" type=\"checkbox\" checked><label for=\"sk-estimator-id-4\" class=\"sk-toggleable__label sk-toggleable__label-arrow\">GaussianNB</label><div class=\"sk-toggleable__content\"><pre>GaussianNB()</pre></div></div></div></div></div>"
      ],
      "text/plain": [
       "GaussianNB()"
      ]
     },
     "execution_count": 59,
     "metadata": {},
     "output_type": "execute_result"
    }
   ],
   "source": [
    "# Train a Gaussian Naive Bayes classifier\n",
    "gnb = GaussianNB()\n",
    "gnb.fit(X_train, y_train)"
   ]
  },
  {
   "cell_type": "code",
   "execution_count": 60,
   "id": "eb55210b-e37b-45ac-a011-81d5393b24b1",
   "metadata": {},
   "outputs": [],
   "source": [
    "# Make predictions on the test set\n",
    "y_pred = gnb.predict(X_test)"
   ]
  },
  {
   "cell_type": "code",
   "execution_count": 61,
   "id": "ece4b4b0-d13e-411a-9d99-a1a4bd78a17c",
   "metadata": {},
   "outputs": [
    {
     "name": "stdout",
     "output_type": "stream",
     "text": [
      "Accuracy: 0.19708029197080293\n"
     ]
    }
   ],
   "source": [
    "# Evaluate the performance of the classifier\n",
    "accuracy = accuracy_score(y_test, y_pred)\n",
    "print(\"Accuracy:\", accuracy)"
   ]
  },
  {
   "cell_type": "code",
   "execution_count": null,
   "id": "73effdff-6970-42d2-8c7f-f544fa5b2f59",
   "metadata": {},
   "outputs": [],
   "source": []
  },
  {
   "cell_type": "markdown",
   "id": "f2a8ad22-83a4-419c-86ed-6efab98231a6",
   "metadata": {},
   "source": [
    "Tips to improve the model\n",
    "\n",
    "    Try transforming the variables using transformations like BoxCox or YeoJohnson to make the features near Normal.\n",
    "    Try applying Laplace correction to handle records with zeros values in X variables.\n",
    "    Check for correlated features and try removing the highly correlated ones. Naive Bayes is based on the assumption that the features are independent.\n",
    "    Feature engineering. Combining features (a product) to form new ones that makes intuitive sense might help.\n",
    "    Try providing more realistic prior probabilities to the algorithm based on knowledge from business, instead of letting the algo calculate the priors based on the training sample."
   ]
  },
  {
   "cell_type": "markdown",
   "id": "de4bdbd3-f92c-4fb5-bda9-c25fc345c924",
   "metadata": {},
   "source": [
    "Strength\n",
    "\n",
    "    Even though the naive assumption is rarely true, the algorithm performs surprisingly good in many cases\n",
    "    Handles high dimensional data well. Easy to parallelize and handles big data well\n",
    "    Performs better than more complicated models when the data set is small\n",
    "\n",
    "Weakness\n",
    "\n",
    "    The estimated probability is often inaccurate because of the naive assumption. Not ideal for regression use or probability estimation\n",
    "    When data is abundant, other more complicated models tend to outperform Naive Bayes"
   ]
  },
  {
   "cell_type": "code",
   "execution_count": null,
   "id": "9c828940-f777-4be2-ac44-24dc0b8cac1d",
   "metadata": {},
   "outputs": [],
   "source": []
  }
 ],
 "metadata": {
  "kernelspec": {
   "display_name": "Python 3 (ipykernel)",
   "language": "python",
   "name": "python3"
  },
  "language_info": {
   "codemirror_mode": {
    "name": "ipython",
    "version": 3
   },
   "file_extension": ".py",
   "mimetype": "text/x-python",
   "name": "python",
   "nbconvert_exporter": "python",
   "pygments_lexer": "ipython3",
   "version": "3.10.12"
  }
 },
 "nbformat": 4,
 "nbformat_minor": 5
}
