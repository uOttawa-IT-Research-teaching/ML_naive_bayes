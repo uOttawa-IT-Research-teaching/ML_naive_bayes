{
 "cells": [
  {
   "cell_type": "markdown",
   "id": "40ac1f54",
   "metadata": {},
   "source": [
    "# Naive Bayes Classifier Tutorial\n",
    " \n",
    "In this tutorial we will look at how to detect patterns using Bayes Naive Classifier, which is a machine learning technique that is great at detecting patterns and predicting dependencies in your data set.\n",
    "\n",
    "In the first secction of this training we will revisit the Iris flower data set fromt he previous tutorial to learn the minimum steps to work with the Naive Bayes Classifier. Next, we will apply what you have learned to detect SPAM in SMS messaging (texts) in order to predict which messages you will not want to read. The data set we will use for this is the [SMS Spam collection]  https://doi.org/10.24432/C5CC84, an Open Source data set in the UCI Machine Learning Repository.\n",
    "\n",
    "JvdK: I don't see the value for the last two examples in this tutorial, if they are essentially teaching the same thing as the SMS and are just more complicated, then perhaps we can just delete them? Or there needs to be alot more context so the learner knows why they are doing this. \n",
    "* Book genres? Learning what that is different from the SPAM lesson? \n",
    "* School grades? What is new that is being learned here? What is the value of the lesson seeing as there are failures or low accuracy? What have we learned from this?  \n",
    "\n",
    "Comment: my comment is about the title of this notebook. Try renaming it using the pattern of 1-Bayes-TrainingNotebook\n",
    "\n",
    "comment: please complete and edit the first introductory paragraph explaining what we are going to do in this training.\n",
    "\n",
    "## Learing Objectives\n",
    "\n",
    " Average time to complete \n",
    " \n",
    " By the end of this tutorial you should be able to:\n",
    " * Understand what Naive Classifier is.\n",
    " * Split the data into trainign and testing sets.\n",
    " * Make prediction on the data set.\n",
    " * Evaluate the performance of a classifier.\n",
    " * Use Naive Classifier to detect spams.\n",
    " * Train a Gaussian Naive Bayes classifier\n",
    " * Create a dummy column to predict multiple lables\n",
    " * Get the histogram as regular data?!\n",
    " * ...\n",
    " \n",
    " Comment: please revise and/or complete the objectives above.\n",
    " "
   ]
  },
  {
   "cell_type": "markdown",
   "id": "288c7437",
   "metadata": {},
   "source": [
    " \n",
    "## What you will need for this tutorial\n",
    "\n",
    "* See the [introduction document](https://uottawa-it-research-teaching.github.io/machinelearning/) for general requirements and how Jupyter notebooks work.\n",
    "* We'll need Pandas for convenient data handling. It's a very powerful Python package that can read CSV and Excel files. It also has very good data manipulation capabilities which come in use for data cleaning.\n",
    "* We will use scikit learn, numpy, seaborn, scipy.stats, scipy.optimize, matplotlib.pyplot, and json as our machine learning packages.\n",
    "* The data files that should have come with this notebook.\n",
    "\n",
    "Comment: please review the items above and revise/add what is needed. "
   ]
  },
  {
   "cell_type": "markdown",
   "id": "878dc57f",
   "metadata": {},
   "source": [
    "## RDM best practices\n",
    "\n",
    "Good data handling for machine learning begins with good Research Data Managment (RDM). The quality of your source data will impact the outcome of your results, just like the reproducibility of your results will depend on the quality of your data sources, in addition to how you organize the data so that other people (and machines!) can understand and reuse it.\n",
    "\n",
    "We also need to respect a few research data management best practices along the way, these best practices are recommended by the [Digital Research Alliance of Canada](https://zenodo.org/records/4000989). In the first and second tutorial, we encouraged you to resepct three RDM best practices:\n",
    "\n",
    "* SAVE YOUR RAW DATA IN ORIGINAL FORMAT<br>\n",
    "* BACKUP YOUR DATA (3-2-1 rule)<br>\n",
    "* DESCRIBE YOUR DATA\n",
    "\n",
    "These practices should apply in this tutorial as well, but we will also look at best practices for structuring your data file which will improve the accuracy of your machine learning model and will improve reuse of the data set in future work.\n",
    "\n",
    "PROCESS YOUR DATA\n",
    "* Make each column a variable.\n",
    "* Make each row an observation.\n",
    "* Store units (e.g. kg or cm) as metadata (in their own column).\n",
    "* Document each step processing your data in a README file.\n",
    "\n",
    "These are a few RDM best practices that will help you in your project management, more are highlighted at the beginning of  each tutorial in this series. "
   ]
  },
  {
   "cell_type": "markdown",
   "id": "fc5f9b3a-732d-4af8-a98c-462b51a40177",
   "metadata": {},
   "source": [
    "## What is the Naive Bayes Classifer?\n",
    "Naive Classifier is a family of classifiers based on Bayes' Theorem.\n",
    "$$P(A|B) = \\frac{P(B|A)P(A)}{P(B)}$$\n",
    "\n",
    "What this formula tells us is that we can calculate the probability of event $A$ given that $B$ happened, i.e. $P(A|B)$. In the context of machine learning this means that it can find the probability for a certain label to be attributed to the raw data, given the input data of the data point we are trying to predict. In machine learning, labeling the raw data is a necessary preparatory step to specify the context of the data for the models. The label is like an instruction to the computer on how to understand the context of the data point when processing the dataset. Data labeling is time consuming, so using a prediction model can save you time. \n",
    "\n",
    "$$\\frac{P(B|A)P(A)}{P(B)}$$ is what we can predict through training the model. The numerator (above the line) is effectively the probability of $A$ and $B$ both happening. You can extend this formula to have many more events, so you get the probability of $A$ happening given $B$, $C$, $D$, etc., i.e. $P(A|B,C,D,...)$.\n",
    "\n",
    "In the context of machine learning, this formula helps us predict an attribute of our data set, based on the probabilities of features $x_1, x_2, x_3, ...$  (if the features are all independent). In machine learning and pattern recognition, a feature is an individual measurable property or attribute of a data point. Independent features (ie. not modified by another data point) are recommended for accurate results in pattern recognition models.\n",
    "\n",
    "But what if there are dependecies between the data points? For example, the weather data in the first tutorial (Data Cleaning and Regression). When your data is weather data, then the temperature data points will modify the precipitation data points (rain and snow). The Naive Bayes Classifier works remarkably well even if there is a bit of dependence between the features.  That's why it's call **Naive** Bayes."
   ]
  },
  {
   "cell_type": "code",
   "execution_count": 1,
   "id": "cf9abc96-d62b-4255-8df3-56eeff2d3506",
   "metadata": {},
   "outputs": [],
   "source": [
    "from sklearn import datasets\n",
    "from sklearn.naive_bayes import GaussianNB\n",
    "from sklearn.metrics import accuracy_score, confusion_matrix\n",
    "from sklearn.model_selection import train_test_split\n",
    "from sklearn.preprocessing import MaxAbsScaler\n",
    "import pandas as pd\n",
    "import numpy as np\n",
    "import seaborn as sns\n",
    "import scipy.stats\n",
    "import scipy.optimize"
   ]
  },
  {
   "cell_type": "markdown",
   "id": "bbbc53bc",
   "metadata": {
    "jp-MarkdownHeadingCollapsed": true
   },
   "source": [
    "## Use the Naive Bayes Classifier\n",
    "\n",
    "The classic Iris flower data set that you saw in the previous tutorial works very well with the Naive Bayes Classifier. This data set describes hundreds of species of plants in the family Iridaceae, which would take a long time to manually identify and label for machine learning, so we want to create a model that can help us predict which lable should be attributed to features describing a class of iris flower. This data set has petal length and other physical properties linked to the type of iris. \n",
    "\n",
    "This data set also follows good RDM practices because the variables of each column are clearly named, and each row records a singular observation as a data point. The sepal and the petal are two distinct parts to the Iris flower. In this data set structure, sepal_length, sepal_width, petal_length, petal_width are easily parsed by a computational model as dependent data points (length influences width). But the computational model does not have contextual horticultural knowledge to lable these features of the species; instead, we have to teach it how to predict the species according to the probability of that species having these features.\n",
    "\n",
    "Comment: here needs to explain that \"we are going to read the data set, make a training and a testing set, and evaluate the performance of the naive classifier.\" \n",
    "\n",
    "Now you will learn the minimum amount of steps to use the Naive Bayes Classifier; in the following section we will apply what you have learned to sorting SPAM out of SMS messages (texts) that the model predicts you might actually want to read.\n",
    "\n",
    "JvdK: this whole next section needs more exaplantion around the code - WHAT IS HAPPENING????????????\n",
    "\n",
    "Comment: explain here that  \"you can load the data set by running the code below.\" also name the data set and where to get it from. "
   ]
  },
  {
   "cell_type": "code",
   "execution_count": 2,
   "id": "e4d7e444-c251-469d-b724-679c752b34de",
   "metadata": {},
   "outputs": [
    {
     "data": {
      "text/plain": [
       "array(['setosa', 'versicolor', 'virginica'], dtype='<U10')"
      ]
     },
     "execution_count": 2,
     "metadata": {},
     "output_type": "execute_result"
    }
   ],
   "source": [
    "# Load the iris dataset\n",
    "iris = datasets.load_iris()\n",
    "X = iris['data']  # features\n",
    "y = iris['target']  # labels\n",
    "iris.target_names"
   ]
  },
  {
   "cell_type": "markdown",
   "id": "9d02f179",
   "metadata": {
    "jp-MarkdownHeadingCollapsed": true
   },
   "source": [
    "By running the code below, we are going to split our data set into training and testing set. \n",
    "\n",
    "Comment: explain above why do we need to split our dataset into training and testing. What is the purpose? What are we learning?"
   ]
  },
  {
   "cell_type": "code",
   "execution_count": 3,
   "id": "8a6dbb3e-9754-420d-8d1b-50a8c75b34a6",
   "metadata": {},
   "outputs": [],
   "source": [
    "# Split the data into training and testing sets\n",
    "X_train, X_test, y_train, y_test = train_test_split(X, y, test_size=0.2, random_state=42)"
   ]
  },
  {
   "cell_type": "markdown",
   "id": "68ff3842",
   "metadata": {
    "jp-MarkdownHeadingCollapsed": true
   },
   "source": [
    "Comment: what do you mean by training a Gaussian Naive Bayes classifier? what is the purpose? please explain here and at the end mention that in order to do so, we are going to run the code below. \n",
    "\n",
    "Comment: it needs more elaboration regarding the parts about jupyter environment in the box below and on github. What are those paragrph saying and does the trainee need to go to another environment to run the code below? if yes, please guide them through it step by step. "
   ]
  },
  {
   "cell_type": "code",
   "execution_count": 4,
   "id": "0e2a241c-305c-4a20-8bc6-72755b0c260c",
   "metadata": {},
   "outputs": [
    {
     "data": {
      "text/html": [
       "<style>#sk-container-id-1 {color: black;background-color: white;}#sk-container-id-1 pre{padding: 0;}#sk-container-id-1 div.sk-toggleable {background-color: white;}#sk-container-id-1 label.sk-toggleable__label {cursor: pointer;display: block;width: 100%;margin-bottom: 0;padding: 0.3em;box-sizing: border-box;text-align: center;}#sk-container-id-1 label.sk-toggleable__label-arrow:before {content: \"▸\";float: left;margin-right: 0.25em;color: #696969;}#sk-container-id-1 label.sk-toggleable__label-arrow:hover:before {color: black;}#sk-container-id-1 div.sk-estimator:hover label.sk-toggleable__label-arrow:before {color: black;}#sk-container-id-1 div.sk-toggleable__content {max-height: 0;max-width: 0;overflow: hidden;text-align: left;background-color: #f0f8ff;}#sk-container-id-1 div.sk-toggleable__content pre {margin: 0.2em;color: black;border-radius: 0.25em;background-color: #f0f8ff;}#sk-container-id-1 input.sk-toggleable__control:checked~div.sk-toggleable__content {max-height: 200px;max-width: 100%;overflow: auto;}#sk-container-id-1 input.sk-toggleable__control:checked~label.sk-toggleable__label-arrow:before {content: \"▾\";}#sk-container-id-1 div.sk-estimator input.sk-toggleable__control:checked~label.sk-toggleable__label {background-color: #d4ebff;}#sk-container-id-1 div.sk-label input.sk-toggleable__control:checked~label.sk-toggleable__label {background-color: #d4ebff;}#sk-container-id-1 input.sk-hidden--visually {border: 0;clip: rect(1px 1px 1px 1px);clip: rect(1px, 1px, 1px, 1px);height: 1px;margin: -1px;overflow: hidden;padding: 0;position: absolute;width: 1px;}#sk-container-id-1 div.sk-estimator {font-family: monospace;background-color: #f0f8ff;border: 1px dotted black;border-radius: 0.25em;box-sizing: border-box;margin-bottom: 0.5em;}#sk-container-id-1 div.sk-estimator:hover {background-color: #d4ebff;}#sk-container-id-1 div.sk-parallel-item::after {content: \"\";width: 100%;border-bottom: 1px solid gray;flex-grow: 1;}#sk-container-id-1 div.sk-label:hover label.sk-toggleable__label {background-color: #d4ebff;}#sk-container-id-1 div.sk-serial::before {content: \"\";position: absolute;border-left: 1px solid gray;box-sizing: border-box;top: 0;bottom: 0;left: 50%;z-index: 0;}#sk-container-id-1 div.sk-serial {display: flex;flex-direction: column;align-items: center;background-color: white;padding-right: 0.2em;padding-left: 0.2em;position: relative;}#sk-container-id-1 div.sk-item {position: relative;z-index: 1;}#sk-container-id-1 div.sk-parallel {display: flex;align-items: stretch;justify-content: center;background-color: white;position: relative;}#sk-container-id-1 div.sk-item::before, #sk-container-id-1 div.sk-parallel-item::before {content: \"\";position: absolute;border-left: 1px solid gray;box-sizing: border-box;top: 0;bottom: 0;left: 50%;z-index: -1;}#sk-container-id-1 div.sk-parallel-item {display: flex;flex-direction: column;z-index: 1;position: relative;background-color: white;}#sk-container-id-1 div.sk-parallel-item:first-child::after {align-self: flex-end;width: 50%;}#sk-container-id-1 div.sk-parallel-item:last-child::after {align-self: flex-start;width: 50%;}#sk-container-id-1 div.sk-parallel-item:only-child::after {width: 0;}#sk-container-id-1 div.sk-dashed-wrapped {border: 1px dashed gray;margin: 0 0.4em 0.5em 0.4em;box-sizing: border-box;padding-bottom: 0.4em;background-color: white;}#sk-container-id-1 div.sk-label label {font-family: monospace;font-weight: bold;display: inline-block;line-height: 1.2em;}#sk-container-id-1 div.sk-label-container {text-align: center;}#sk-container-id-1 div.sk-container {/* jupyter's `normalize.less` sets `[hidden] { display: none; }` but bootstrap.min.css set `[hidden] { display: none !important; }` so we also need the `!important` here to be able to override the default hidden behavior on the sphinx rendered scikit-learn.org. See: https://github.com/scikit-learn/scikit-learn/issues/21755 */display: inline-block !important;position: relative;}#sk-container-id-1 div.sk-text-repr-fallback {display: none;}</style><div id=\"sk-container-id-1\" class=\"sk-top-container\"><div class=\"sk-text-repr-fallback\"><pre>GaussianNB()</pre><b>In a Jupyter environment, please rerun this cell to show the HTML representation or trust the notebook. <br />On GitHub, the HTML representation is unable to render, please try loading this page with nbviewer.org.</b></div><div class=\"sk-container\" hidden><div class=\"sk-item\"><div class=\"sk-estimator sk-toggleable\"><input class=\"sk-toggleable__control sk-hidden--visually\" id=\"sk-estimator-id-1\" type=\"checkbox\" checked><label for=\"sk-estimator-id-1\" class=\"sk-toggleable__label sk-toggleable__label-arrow\">GaussianNB</label><div class=\"sk-toggleable__content\"><pre>GaussianNB()</pre></div></div></div></div></div>"
      ],
      "text/plain": [
       "GaussianNB()"
      ]
     },
     "execution_count": 4,
     "metadata": {},
     "output_type": "execute_result"
    }
   ],
   "source": [
    "# Train a Gaussian Naive Bayes classifier\n",
    "gnb = GaussianNB()\n",
    "gnb.fit(X_train, y_train)"
   ]
  },
  {
   "cell_type": "markdown",
   "id": "b517ff9a",
   "metadata": {
    "jp-MarkdownHeadingCollapsed": true
   },
   "source": [
    "Comment: expain here that using the code below we are going to make predictions on the test set. "
   ]
  },
  {
   "cell_type": "code",
   "execution_count": 5,
   "id": "de7ff774-2639-498d-8e2e-eed87842c12c",
   "metadata": {},
   "outputs": [],
   "source": [
    "# Make predictions on the test set\n",
    "y_pred = gnb.predict(X_test)"
   ]
  },
  {
   "cell_type": "markdown",
   "id": "5018c004",
   "metadata": {
    "jp-MarkdownHeadingCollapsed": true
   },
   "source": [
    "Comment: explain that by runnig the code below we are going to evaluate the performance of the classifier. \n"
   ]
  },
  {
   "cell_type": "code",
   "execution_count": 6,
   "id": "144c17a2-8a56-4160-bb05-9eaa26fa9631",
   "metadata": {},
   "outputs": [
    {
     "name": "stdout",
     "output_type": "stream",
     "text": [
      "Accuracy: 1.0\n"
     ]
    }
   ],
   "source": [
    "# Evaluate the performance of the classifier\n",
    "accuracy = accuracy_score(y_test, y_pred)\n",
    "print(\"Accuracy:\", accuracy)"
   ]
  },
  {
   "cell_type": "markdown",
   "id": "5ad45713-0e46-4673-b738-fa17d8b1deea",
   "metadata": {},
   "source": [
    "So, 100% accuracy. Boring!\n",
    "\n",
    "JvdK: Accuracy FOR WHAT????? Labeling the features????? Isn;t this successful hurrah we learned how to do the thing??????\n",
    "\n",
    "Comment: explain what does that mean? why is that boring? \n",
    "\n",
    "Comment: please explain what are we going to do in the following steps and shortly explain how are those related to the naive classifier. "
   ]
  },
  {
   "cell_type": "markdown",
   "id": "b43779c2-b993-4f77-9b1e-8834d5ca1b89",
   "metadata": {
    "jp-MarkdownHeadingCollapsed": true
   },
   "source": [
    "## Naive Bayes Classifier for predicting SMS Spam\n",
    "\n",
    "One of the common applications of Naive Bayes is in detecting spam. It's a very fast method which is good since roughly 50% of all emails sent globally are spam! Text messages cost money to send, so the rate SMS spam messages is lower. Either way, it's really annoying!\n",
    "\n",
    "One way of filtering spam is to train the model to recognize words commonly used by spammers, which are different enough from words commonly used in real messages.The data set we will use for this is the [SMS Spam collection]  https://doi.org/10.24432/C5CC84, an Open Source data set in the UCI Machine Learning Repository. \n",
    "\n",
    "This data set follows RDM best practices for documentation, so we know the data set is a compilation of multiple sources, including a labour-intensive process of mannually extracting SPAM messages posted to a web forum where people make complaints. We can also understand the data structure from this documentation, which uses a pun in the variable name spam_or_ham. This is a pun that can only be understood by an English language speaker that knows the difference between ham (a cut of meat derived from hogs) and SPAM (a processed version of ham, considered to be of lesser quality and dubious origin). \n",
    "\n",
    "Jvdk: Is the data set already downloaded in Github like all the other data sets? Or do the learners have to get it from the Repository? Recommend downloading it for them like all the other data sets.\n",
    "Almeida,Tiago and Hidalgo,Jos. (2012). SMS Spam Collection. UCI Machine Learning Repository. https://doi.org/10.24432/C5CC84.\n",
    "\n",
    "Comment: please explain that by running the code below we are going to ...? predict what using what?"
   ]
  },
  {
   "cell_type": "code",
   "execution_count": 7,
   "id": "e7069659-4afe-4e1e-9cc3-5e9a929fd359",
   "metadata": {},
   "outputs": [
    {
     "data": {
      "text/html": [
       "<div>\n",
       "<style scoped>\n",
       "    .dataframe tbody tr th:only-of-type {\n",
       "        vertical-align: middle;\n",
       "    }\n",
       "\n",
       "    .dataframe tbody tr th {\n",
       "        vertical-align: top;\n",
       "    }\n",
       "\n",
       "    .dataframe thead th {\n",
       "        text-align: right;\n",
       "    }\n",
       "</style>\n",
       "<table border=\"1\" class=\"dataframe\">\n",
       "  <thead>\n",
       "    <tr style=\"text-align: right;\">\n",
       "      <th></th>\n",
       "      <th>spam_or_ham</th>\n",
       "      <th>text</th>\n",
       "    </tr>\n",
       "  </thead>\n",
       "  <tbody>\n",
       "    <tr>\n",
       "      <th>0</th>\n",
       "      <td>ham</td>\n",
       "      <td>Go until jurong point, crazy.. Available only ...</td>\n",
       "    </tr>\n",
       "    <tr>\n",
       "      <th>1</th>\n",
       "      <td>ham</td>\n",
       "      <td>Ok lar... Joking wif u oni...</td>\n",
       "    </tr>\n",
       "    <tr>\n",
       "      <th>2</th>\n",
       "      <td>spam</td>\n",
       "      <td>Free entry in 2 a wkly comp to win FA Cup fina...</td>\n",
       "    </tr>\n",
       "    <tr>\n",
       "      <th>3</th>\n",
       "      <td>ham</td>\n",
       "      <td>U dun say so early hor... U c already then say...</td>\n",
       "    </tr>\n",
       "    <tr>\n",
       "      <th>4</th>\n",
       "      <td>ham</td>\n",
       "      <td>Nah I don't think he goes to usf, he lives aro...</td>\n",
       "    </tr>\n",
       "    <tr>\n",
       "      <th>5</th>\n",
       "      <td>spam</td>\n",
       "      <td>FreeMsg Hey there darling it's been 3 week's n...</td>\n",
       "    </tr>\n",
       "    <tr>\n",
       "      <th>6</th>\n",
       "      <td>ham</td>\n",
       "      <td>Even my brother is not like to speak with me. ...</td>\n",
       "    </tr>\n",
       "    <tr>\n",
       "      <th>7</th>\n",
       "      <td>ham</td>\n",
       "      <td>As per your request 'Melle Melle (Oru Minnamin...</td>\n",
       "    </tr>\n",
       "    <tr>\n",
       "      <th>8</th>\n",
       "      <td>spam</td>\n",
       "      <td>WINNER!! As a valued network customer you have...</td>\n",
       "    </tr>\n",
       "    <tr>\n",
       "      <th>9</th>\n",
       "      <td>spam</td>\n",
       "      <td>Had your mobile 11 months or more? U R entitle...</td>\n",
       "    </tr>\n",
       "  </tbody>\n",
       "</table>\n",
       "</div>"
      ],
      "text/plain": [
       "  spam_or_ham                                               text\n",
       "0         ham  Go until jurong point, crazy.. Available only ...\n",
       "1         ham                      Ok lar... Joking wif u oni...\n",
       "2        spam  Free entry in 2 a wkly comp to win FA Cup fina...\n",
       "3         ham  U dun say so early hor... U c already then say...\n",
       "4         ham  Nah I don't think he goes to usf, he lives aro...\n",
       "5        spam  FreeMsg Hey there darling it's been 3 week's n...\n",
       "6         ham  Even my brother is not like to speak with me. ...\n",
       "7         ham  As per your request 'Melle Melle (Oru Minnamin...\n",
       "8        spam  WINNER!! As a valued network customer you have...\n",
       "9        spam  Had your mobile 11 months or more? U R entitle..."
      ]
     },
     "execution_count": 7,
     "metadata": {},
     "output_type": "execute_result"
    }
   ],
   "source": [
    "textmessages = pd.read_csv('data/SMSSpamCollection', sep='\\t', header=None, names=['spam_or_ham','text'])\n",
    "textmessages.head(10)"
   ]
  },
  {
   "cell_type": "markdown",
   "id": "1e1a48b9-e398-47a5-9137-2af1701c58e5",
   "metadata": {},
   "source": [
    "We would like to look at word frequencies. Messages that have a lot of \"bad\" words will be more likely to be spam, messages with a lot of \"good\" words are probably real messages, or ham. So we need to label these words to train the computer with a judgement value of \"good\" or \"bad\" and, then we ask it to count words and classify as SPAM or ham. Fortunately, Scikit-learn comes with a feature extractor exactly for that.\n",
    "\n",
    "JvdK: is it actually good vs bad labeled for each word? The sorting method is really not clear to me and it would help if it was more clear. I wrote what I thought was happening...\n",
    "\n",
    "Comment: explian what do the three codes below do?"
   ]
  },
  {
   "cell_type": "code",
   "execution_count": 8,
   "id": "4fc16ec7-3a57-4031-9b0c-a7e1be34e9db",
   "metadata": {},
   "outputs": [],
   "source": [
    "from sklearn.feature_extraction.text import CountVectorizer"
   ]
  },
  {
   "cell_type": "code",
   "execution_count": 9,
   "id": "f4be250d-f984-4433-8111-274cbb3c21a0",
   "metadata": {},
   "outputs": [],
   "source": [
    "count_vect = CountVectorizer()\n",
    "X = count_vect.fit_transform(textmessages.text)"
   ]
  },
  {
   "cell_type": "code",
   "execution_count": 10,
   "id": "b03e4239-a7ad-48fb-a04a-8999666e46db",
   "metadata": {},
   "outputs": [
    {
     "data": {
      "text/plain": [
       "<5572x8713 sparse matrix of type '<class 'numpy.int64'>'\n",
       "\twith 74169 stored elements in Compressed Sparse Row format>"
      ]
     },
     "execution_count": 10,
     "metadata": {},
     "output_type": "execute_result"
    }
   ],
   "source": [
    "X"
   ]
  },
  {
   "cell_type": "markdown",
   "id": "2cd45f99-8c1a-4726-96be-8273bbef416e",
   "metadata": {},
   "source": [
    "So there are 74,169 unique words in the complete dataset. Each word has a frequency which is the input for our model. That's a lot of features! Fortunately, that is one of the strong point of Naive Bayes.\n",
    "\n",
    "Then we just need the labels which is 'spam' or 'ham'. Then split the training set and feed the train data to the model to train on.\n",
    "\n",
    "JvdK: wouldn't the words be labeled \"good\" and \"bad\" and then the messages would be classified as spam or ham depending on how many words they have in each lable category???????"
   ]
  },
  {
   "cell_type": "code",
   "execution_count": 11,
   "id": "13b2a2ec-a1fa-4ebc-85e0-a770a2e1ae0f",
   "metadata": {},
   "outputs": [],
   "source": [
    "y = textmessages['spam_or_ham']"
   ]
  },
  {
   "cell_type": "code",
   "execution_count": 12,
   "id": "07deee6d-c398-4d0e-bc6b-ec847217a23a",
   "metadata": {},
   "outputs": [],
   "source": [
    "# Split the data into training and testing sets\n",
    "X_train, X_test, y_train, y_test = train_test_split(X.toarray(), y, test_size=0.2, random_state=42)"
   ]
  },
  {
   "cell_type": "code",
   "execution_count": 13,
   "id": "ef01084c-19d5-4c98-bfeb-5be3c37d8b68",
   "metadata": {},
   "outputs": [
    {
     "data": {
      "text/html": [
       "<style>#sk-container-id-2 {color: black;background-color: white;}#sk-container-id-2 pre{padding: 0;}#sk-container-id-2 div.sk-toggleable {background-color: white;}#sk-container-id-2 label.sk-toggleable__label {cursor: pointer;display: block;width: 100%;margin-bottom: 0;padding: 0.3em;box-sizing: border-box;text-align: center;}#sk-container-id-2 label.sk-toggleable__label-arrow:before {content: \"▸\";float: left;margin-right: 0.25em;color: #696969;}#sk-container-id-2 label.sk-toggleable__label-arrow:hover:before {color: black;}#sk-container-id-2 div.sk-estimator:hover label.sk-toggleable__label-arrow:before {color: black;}#sk-container-id-2 div.sk-toggleable__content {max-height: 0;max-width: 0;overflow: hidden;text-align: left;background-color: #f0f8ff;}#sk-container-id-2 div.sk-toggleable__content pre {margin: 0.2em;color: black;border-radius: 0.25em;background-color: #f0f8ff;}#sk-container-id-2 input.sk-toggleable__control:checked~div.sk-toggleable__content {max-height: 200px;max-width: 100%;overflow: auto;}#sk-container-id-2 input.sk-toggleable__control:checked~label.sk-toggleable__label-arrow:before {content: \"▾\";}#sk-container-id-2 div.sk-estimator input.sk-toggleable__control:checked~label.sk-toggleable__label {background-color: #d4ebff;}#sk-container-id-2 div.sk-label input.sk-toggleable__control:checked~label.sk-toggleable__label {background-color: #d4ebff;}#sk-container-id-2 input.sk-hidden--visually {border: 0;clip: rect(1px 1px 1px 1px);clip: rect(1px, 1px, 1px, 1px);height: 1px;margin: -1px;overflow: hidden;padding: 0;position: absolute;width: 1px;}#sk-container-id-2 div.sk-estimator {font-family: monospace;background-color: #f0f8ff;border: 1px dotted black;border-radius: 0.25em;box-sizing: border-box;margin-bottom: 0.5em;}#sk-container-id-2 div.sk-estimator:hover {background-color: #d4ebff;}#sk-container-id-2 div.sk-parallel-item::after {content: \"\";width: 100%;border-bottom: 1px solid gray;flex-grow: 1;}#sk-container-id-2 div.sk-label:hover label.sk-toggleable__label {background-color: #d4ebff;}#sk-container-id-2 div.sk-serial::before {content: \"\";position: absolute;border-left: 1px solid gray;box-sizing: border-box;top: 0;bottom: 0;left: 50%;z-index: 0;}#sk-container-id-2 div.sk-serial {display: flex;flex-direction: column;align-items: center;background-color: white;padding-right: 0.2em;padding-left: 0.2em;position: relative;}#sk-container-id-2 div.sk-item {position: relative;z-index: 1;}#sk-container-id-2 div.sk-parallel {display: flex;align-items: stretch;justify-content: center;background-color: white;position: relative;}#sk-container-id-2 div.sk-item::before, #sk-container-id-2 div.sk-parallel-item::before {content: \"\";position: absolute;border-left: 1px solid gray;box-sizing: border-box;top: 0;bottom: 0;left: 50%;z-index: -1;}#sk-container-id-2 div.sk-parallel-item {display: flex;flex-direction: column;z-index: 1;position: relative;background-color: white;}#sk-container-id-2 div.sk-parallel-item:first-child::after {align-self: flex-end;width: 50%;}#sk-container-id-2 div.sk-parallel-item:last-child::after {align-self: flex-start;width: 50%;}#sk-container-id-2 div.sk-parallel-item:only-child::after {width: 0;}#sk-container-id-2 div.sk-dashed-wrapped {border: 1px dashed gray;margin: 0 0.4em 0.5em 0.4em;box-sizing: border-box;padding-bottom: 0.4em;background-color: white;}#sk-container-id-2 div.sk-label label {font-family: monospace;font-weight: bold;display: inline-block;line-height: 1.2em;}#sk-container-id-2 div.sk-label-container {text-align: center;}#sk-container-id-2 div.sk-container {/* jupyter's `normalize.less` sets `[hidden] { display: none; }` but bootstrap.min.css set `[hidden] { display: none !important; }` so we also need the `!important` here to be able to override the default hidden behavior on the sphinx rendered scikit-learn.org. See: https://github.com/scikit-learn/scikit-learn/issues/21755 */display: inline-block !important;position: relative;}#sk-container-id-2 div.sk-text-repr-fallback {display: none;}</style><div id=\"sk-container-id-2\" class=\"sk-top-container\"><div class=\"sk-text-repr-fallback\"><pre>GaussianNB()</pre><b>In a Jupyter environment, please rerun this cell to show the HTML representation or trust the notebook. <br />On GitHub, the HTML representation is unable to render, please try loading this page with nbviewer.org.</b></div><div class=\"sk-container\" hidden><div class=\"sk-item\"><div class=\"sk-estimator sk-toggleable\"><input class=\"sk-toggleable__control sk-hidden--visually\" id=\"sk-estimator-id-2\" type=\"checkbox\" checked><label for=\"sk-estimator-id-2\" class=\"sk-toggleable__label sk-toggleable__label-arrow\">GaussianNB</label><div class=\"sk-toggleable__content\"><pre>GaussianNB()</pre></div></div></div></div></div>"
      ],
      "text/plain": [
       "GaussianNB()"
      ]
     },
     "execution_count": 13,
     "metadata": {},
     "output_type": "execute_result"
    }
   ],
   "source": [
    "# Train a Gaussian Naive Bayes classifier\n",
    "gnb = GaussianNB()\n",
    "gnb.fit(X_train, y_train)"
   ]
  },
  {
   "cell_type": "markdown",
   "id": "48cadf4c-a1a3-45ed-810a-711545dac4ef",
   "metadata": {},
   "source": [
    "We now have a trained model. Let's see what the accuracy is.\n",
    "\n",
    "Comment: please elaborate more on the first sentence above. We have a trained model of what to do what?"
   ]
  },
  {
   "cell_type": "code",
   "execution_count": 14,
   "id": "1feb0218-2b67-4aff-8556-498de26c7e5b",
   "metadata": {},
   "outputs": [],
   "source": [
    "# Make predictions on the test set\n",
    "y_pred = gnb.predict(X_test)"
   ]
  },
  {
   "cell_type": "code",
   "execution_count": 15,
   "id": "ee762982-2ac1-4a77-bbf6-54d1b971ee43",
   "metadata": {},
   "outputs": [
    {
     "name": "stdout",
     "output_type": "stream",
     "text": [
      "Accuracy: 0.9067264573991032\n"
     ]
    }
   ],
   "source": [
    "# Evaluate the performance of the classifier\n",
    "accuracy = accuracy_score(y_test, y_pred)\n",
    "print(\"Accuracy:\", accuracy)"
   ]
  },
  {
   "cell_type": "markdown",
   "id": "838019a1-9b8b-4c37-a7b2-6a265e519bdf",
   "metadata": {},
   "source": [
    "Roughly 90% so that's pretty decent.\n",
    "\n",
    "Comment: what does the code below do? what is confusion matrix? please explain."
   ]
  },
  {
   "cell_type": "code",
   "execution_count": 16,
   "id": "3977ddbe-9fe0-4e6c-8e37-0588d39430e0",
   "metadata": {},
   "outputs": [
    {
     "data": {
      "text/plain": [
       "array([[873,  93],\n",
       "       [ 11, 138]], dtype=int64)"
      ]
     },
     "execution_count": 16,
     "metadata": {},
     "output_type": "execute_result"
    }
   ],
   "source": [
    "confusion_matrix(y_test, y_pred)"
   ]
  },
  {
   "cell_type": "code",
   "execution_count": 17,
   "id": "35a7ed9d-9cbf-4d98-abd6-d70a10f12854",
   "metadata": {},
   "outputs": [],
   "source": [
    "from sklearn.metrics import ConfusionMatrixDisplay\n",
    "import matplotlib.pyplot as plt"
   ]
  },
  {
   "cell_type": "code",
   "execution_count": 18,
   "id": "4d277425-fb5e-448e-821e-8084d4050319",
   "metadata": {},
   "outputs": [
    {
     "data": {
      "text/plain": [
       "<sklearn.metrics._plot.confusion_matrix.ConfusionMatrixDisplay at 0x1dfe0af2ce0>"
      ]
     },
     "execution_count": 18,
     "metadata": {},
     "output_type": "execute_result"
    },
    {
     "data": {
      "image/png": "[encoded data removed]",
      "text/plain": [
       "<Figure size 640x480 with 2 Axes>"
      ]
     },
     "metadata": {},
     "output_type": "display_data"
    }
   ],
   "source": [
    "ConfusionMatrixDisplay.from_estimator(\n",
    "        gnb,\n",
    "        X_test,\n",
    "        y_test,\n",
    "        display_labels=[\"spam\",\"ham\"],\n",
    "        cmap=plt.cm.Blues,\n",
    "#        normalize=normalize,\n",
    "    )"
   ]
  },
  {
   "cell_type": "markdown",
   "id": "ce69ef28",
   "metadata": {
    "jp-MarkdownHeadingCollapsed": true
   },
   "source": [
    "Comment: what are we seeing in the plot above? please explain. \n",
    "\n",
    "Comment: Please expalin we are going to the next acitiviry that is going to do x and y."
   ]
  },
  {
   "cell_type": "markdown",
   "id": "f8df2b61",
   "metadata": {
    "jp-MarkdownHeadingCollapsed": true
   },
   "source": [
    "## 4- Book genres\n",
    "\n",
    "Comment: please explain what is going to happen in this activity. An introductory paragraph is missing. \n",
    "\n",
    "JvdK: if this is predicting genre in the same way as the SMS messages perhaps we don't need this example? delete this section? \n",
    "\n",
    "#### Data\n",
    "Use the CMU Book Summary Dataset at https://www.cs.cmu.edu/~dbamman/booksummaries.html\n",
    "\n",
    "Comment: why do we have the dataset source above? is it just for the trainees information? if yes, please state it here. \n",
    "\n",
    "This dataset is tab separated without a header row. Column names comes from the accompying README."
   ]
  },
  {
   "cell_type": "code",
   "execution_count": 19,
   "id": "2e888dc3-5559-4df9-b938-d121e34d4faf",
   "metadata": {},
   "outputs": [],
   "source": [
    "books = pd.read_csv('data/booksummaries.txt', sep=\"\\t\", header=0, names=['wikipedia', 'freebase', 'title', 'author', 'publicationdate', 'genres', 'summary'])"
   ]
  },
  {
   "cell_type": "markdown",
   "id": "505a853c-50d3-4fd9-89c1-0e4daf77e1b0",
   "metadata": {
    "jp-MarkdownHeadingCollapsed": true
   },
   "source": [
    "Comment: what does the comment below mean? what are we goin gto do running the code below?"
   ]
  },
  {
   "cell_type": "code",
   "execution_count": 20,
   "id": "d76b25c9-735f-4153-bb05-72ecbca42e12",
   "metadata": {},
   "outputs": [
    {
     "data": {
      "text/html": [
       "<div>\n",
       "<style scoped>\n",
       "    .dataframe tbody tr th:only-of-type {\n",
       "        vertical-align: middle;\n",
       "    }\n",
       "\n",
       "    .dataframe tbody tr th {\n",
       "        vertical-align: top;\n",
       "    }\n",
       "\n",
       "    .dataframe thead th {\n",
       "        text-align: right;\n",
       "    }\n",
       "</style>\n",
       "<table border=\"1\" class=\"dataframe\">\n",
       "  <thead>\n",
       "    <tr style=\"text-align: right;\">\n",
       "      <th></th>\n",
       "      <th>wikipedia</th>\n",
       "      <th>freebase</th>\n",
       "      <th>title</th>\n",
       "      <th>author</th>\n",
       "      <th>publicationdate</th>\n",
       "      <th>genres</th>\n",
       "      <th>summary</th>\n",
       "    </tr>\n",
       "  </thead>\n",
       "  <tbody>\n",
       "    <tr>\n",
       "      <th>0</th>\n",
       "      <td>843</td>\n",
       "      <td>/m/0k36</td>\n",
       "      <td>A Clockwork Orange</td>\n",
       "      <td>Anthony Burgess</td>\n",
       "      <td>1962</td>\n",
       "      <td>{\"/m/06n90\": \"Science Fiction\", \"/m/0l67h\": \"N...</td>\n",
       "      <td>Alex, a teenager living in near-future Englan...</td>\n",
       "    </tr>\n",
       "    <tr>\n",
       "      <th>1</th>\n",
       "      <td>986</td>\n",
       "      <td>/m/0ldx</td>\n",
       "      <td>The Plague</td>\n",
       "      <td>Albert Camus</td>\n",
       "      <td>1947</td>\n",
       "      <td>{\"/m/02m4t\": \"Existentialism\", \"/m/02xlf\": \"Fi...</td>\n",
       "      <td>The text of The Plague is divided into five p...</td>\n",
       "    </tr>\n",
       "    <tr>\n",
       "      <th>4</th>\n",
       "      <td>2152</td>\n",
       "      <td>/m/0x5g</td>\n",
       "      <td>All Quiet on the Western Front</td>\n",
       "      <td>Erich Maria Remarque</td>\n",
       "      <td>1929-01-29</td>\n",
       "      <td>{\"/m/098tmk\": \"War novel\", \"/m/016lj8\": \"Roman...</td>\n",
       "      <td>The book tells the story of Paul Bäumer, a Ge...</td>\n",
       "    </tr>\n",
       "    <tr>\n",
       "      <th>5</th>\n",
       "      <td>2890</td>\n",
       "      <td>/m/011zx</td>\n",
       "      <td>A Wizard of Earthsea</td>\n",
       "      <td>Ursula K. Le Guin</td>\n",
       "      <td>1968</td>\n",
       "      <td>{\"/m/0dwly\": \"Children's literature\", \"/m/01hm...</td>\n",
       "      <td>Ged is a young boy on Gont, one of the larger...</td>\n",
       "    </tr>\n",
       "    <tr>\n",
       "      <th>7</th>\n",
       "      <td>4081</td>\n",
       "      <td>/m/01b4w</td>\n",
       "      <td>Blade Runner 3: Replicant Night</td>\n",
       "      <td>K. W. Jeter</td>\n",
       "      <td>1996-10-01</td>\n",
       "      <td>{\"/m/06n90\": \"Science Fiction\", \"/m/014dfn\": \"...</td>\n",
       "      <td>Living on Mars, Deckard is acting as a consul...</td>\n",
       "    </tr>\n",
       "  </tbody>\n",
       "</table>\n",
       "</div>"
      ],
      "text/plain": [
       "   wikipedia  freebase                            title                author  \\\n",
       "0        843   /m/0k36               A Clockwork Orange       Anthony Burgess   \n",
       "1        986   /m/0ldx                       The Plague          Albert Camus   \n",
       "4       2152   /m/0x5g   All Quiet on the Western Front  Erich Maria Remarque   \n",
       "5       2890  /m/011zx             A Wizard of Earthsea     Ursula K. Le Guin   \n",
       "7       4081  /m/01b4w  Blade Runner 3: Replicant Night           K. W. Jeter   \n",
       "\n",
       "  publicationdate                                             genres  \\\n",
       "0            1962  {\"/m/06n90\": \"Science Fiction\", \"/m/0l67h\": \"N...   \n",
       "1            1947  {\"/m/02m4t\": \"Existentialism\", \"/m/02xlf\": \"Fi...   \n",
       "4      1929-01-29  {\"/m/098tmk\": \"War novel\", \"/m/016lj8\": \"Roman...   \n",
       "5            1968  {\"/m/0dwly\": \"Children's literature\", \"/m/01hm...   \n",
       "7      1996-10-01  {\"/m/06n90\": \"Science Fiction\", \"/m/014dfn\": \"...   \n",
       "\n",
       "                                             summary  \n",
       "0   Alex, a teenager living in near-future Englan...  \n",
       "1   The text of The Plague is divided into five p...  \n",
       "4   The book tells the story of Paul Bäumer, a Ge...  \n",
       "5   Ged is a young boy on Gont, one of the larger...  \n",
       "7   Living on Mars, Deckard is acting as a consul...  "
      ]
     },
     "execution_count": 20,
     "metadata": {},
     "output_type": "execute_result"
    }
   ],
   "source": [
    "# I don't feel like dealing with NaN\n",
    "books = books.dropna()\n",
    "books.head()"
   ]
  },
  {
   "cell_type": "markdown",
   "id": "66d30a86-3357-416f-bcea-f0dec08b3ed2",
   "metadata": {},
   "source": [
    "Genres are in a JSON format, so we will need the JSON package to extract those."
   ]
  },
  {
   "cell_type": "code",
   "execution_count": 22,
   "id": "571538dd-572d-4203-8763-9a86f3979163",
   "metadata": {},
   "outputs": [],
   "source": [
    "import json"
   ]
  },
  {
   "cell_type": "markdown",
   "id": "4db2432b-e252-4bab-8621-0b26c74151b5",
   "metadata": {},
   "source": [
    "Convert that JSON into a simple list. We don't care about the weird identifiers."
   ]
  },
  {
   "cell_type": "code",
   "execution_count": 23,
   "id": "451b3e9d-d247-4b23-8043-5c27da2001ac",
   "metadata": {},
   "outputs": [],
   "source": [
    "def genre(row):\n",
    "    g = json.loads(row.genres)\n",
    "    return list(g.values())\n",
    "\n",
    "genresperbook = books.apply(genre, axis=1)\n",
    "books = books.assign(genres=genresperbook)"
   ]
  },
  {
   "cell_type": "markdown",
   "id": "82fca664",
   "metadata": {
    "jp-MarkdownHeadingCollapsed": true
   },
   "source": [
    "Comment: what does the  code below do? what are we going to do running the code below?"
   ]
  },
  {
   "cell_type": "code",
   "execution_count": 24,
   "id": "345b4e87-12e1-4673-acca-4b9a117c3f3d",
   "metadata": {},
   "outputs": [
    {
     "data": {
      "text/html": [
       "<div>\n",
       "<style scoped>\n",
       "    .dataframe tbody tr th:only-of-type {\n",
       "        vertical-align: middle;\n",
       "    }\n",
       "\n",
       "    .dataframe tbody tr th {\n",
       "        vertical-align: top;\n",
       "    }\n",
       "\n",
       "    .dataframe thead th {\n",
       "        text-align: right;\n",
       "    }\n",
       "</style>\n",
       "<table border=\"1\" class=\"dataframe\">\n",
       "  <thead>\n",
       "    <tr style=\"text-align: right;\">\n",
       "      <th></th>\n",
       "      <th>wikipedia</th>\n",
       "      <th>freebase</th>\n",
       "      <th>title</th>\n",
       "      <th>author</th>\n",
       "      <th>publicationdate</th>\n",
       "      <th>genres</th>\n",
       "      <th>summary</th>\n",
       "    </tr>\n",
       "  </thead>\n",
       "  <tbody>\n",
       "    <tr>\n",
       "      <th>0</th>\n",
       "      <td>843</td>\n",
       "      <td>/m/0k36</td>\n",
       "      <td>A Clockwork Orange</td>\n",
       "      <td>Anthony Burgess</td>\n",
       "      <td>1962</td>\n",
       "      <td>[Science Fiction, Novella, Speculative fiction...</td>\n",
       "      <td>Alex, a teenager living in near-future Englan...</td>\n",
       "    </tr>\n",
       "    <tr>\n",
       "      <th>1</th>\n",
       "      <td>986</td>\n",
       "      <td>/m/0ldx</td>\n",
       "      <td>The Plague</td>\n",
       "      <td>Albert Camus</td>\n",
       "      <td>1947</td>\n",
       "      <td>[Existentialism, Fiction, Absurdist fiction, N...</td>\n",
       "      <td>The text of The Plague is divided into five p...</td>\n",
       "    </tr>\n",
       "    <tr>\n",
       "      <th>4</th>\n",
       "      <td>2152</td>\n",
       "      <td>/m/0x5g</td>\n",
       "      <td>All Quiet on the Western Front</td>\n",
       "      <td>Erich Maria Remarque</td>\n",
       "      <td>1929-01-29</td>\n",
       "      <td>[War novel, Roman à clef]</td>\n",
       "      <td>The book tells the story of Paul Bäumer, a Ge...</td>\n",
       "    </tr>\n",
       "    <tr>\n",
       "      <th>5</th>\n",
       "      <td>2890</td>\n",
       "      <td>/m/011zx</td>\n",
       "      <td>A Wizard of Earthsea</td>\n",
       "      <td>Ursula K. Le Guin</td>\n",
       "      <td>1968</td>\n",
       "      <td>[Children's literature, Fantasy, Speculative f...</td>\n",
       "      <td>Ged is a young boy on Gont, one of the larger...</td>\n",
       "    </tr>\n",
       "    <tr>\n",
       "      <th>7</th>\n",
       "      <td>4081</td>\n",
       "      <td>/m/01b4w</td>\n",
       "      <td>Blade Runner 3: Replicant Night</td>\n",
       "      <td>K. W. Jeter</td>\n",
       "      <td>1996-10-01</td>\n",
       "      <td>[Science Fiction, Speculative fiction]</td>\n",
       "      <td>Living on Mars, Deckard is acting as a consul...</td>\n",
       "    </tr>\n",
       "  </tbody>\n",
       "</table>\n",
       "</div>"
      ],
      "text/plain": [
       "   wikipedia  freebase                            title                author  \\\n",
       "0        843   /m/0k36               A Clockwork Orange       Anthony Burgess   \n",
       "1        986   /m/0ldx                       The Plague          Albert Camus   \n",
       "4       2152   /m/0x5g   All Quiet on the Western Front  Erich Maria Remarque   \n",
       "5       2890  /m/011zx             A Wizard of Earthsea     Ursula K. Le Guin   \n",
       "7       4081  /m/01b4w  Blade Runner 3: Replicant Night           K. W. Jeter   \n",
       "\n",
       "  publicationdate                                             genres  \\\n",
       "0            1962  [Science Fiction, Novella, Speculative fiction...   \n",
       "1            1947  [Existentialism, Fiction, Absurdist fiction, N...   \n",
       "4      1929-01-29                          [War novel, Roman à clef]   \n",
       "5            1968  [Children's literature, Fantasy, Speculative f...   \n",
       "7      1996-10-01             [Science Fiction, Speculative fiction]   \n",
       "\n",
       "                                             summary  \n",
       "0   Alex, a teenager living in near-future Englan...  \n",
       "1   The text of The Plague is divided into five p...  \n",
       "4   The book tells the story of Paul Bäumer, a Ge...  \n",
       "5   Ged is a young boy on Gont, one of the larger...  \n",
       "7   Living on Mars, Deckard is acting as a consul...  "
      ]
     },
     "execution_count": 24,
     "metadata": {},
     "output_type": "execute_result"
    }
   ],
   "source": [
    "books.head()"
   ]
  },
  {
   "cell_type": "markdown",
   "id": "45ebbd50-c2a7-4731-8502-67b12efdc09a",
   "metadata": {},
   "source": [
    "Comment: before starting the next sextion, please explain what are we looking at in the table above and how we are going to use it, if at all?\n",
    "\n",
    "### 4-1 Feature extraction\n",
    "We now want to predict multiple labels. One way we can do this is by creating a dummy column. A dummy column is a new column for each label that has the value 0 if the book is not part of that genre and a 1 if it is. This way you get independent features that can be predicted.\n",
    "\n",
    "The following code does that. It's fairly dark magic and full transparency, I just copied it mostly from StackOverflow, but what it does is that it takes the lists in the genres column and converts them to a Pandas Series. Then, it stacks them one on the other while keeping the main index but with a sub index for each genre per book. Then, we get the dummies for that. The result of that is still a multi-index DataFrame but now with a column for every genre per book per listed genre for that book.\n",
    "\n",
    "We need to collapse that back into a single-index DataFrame again, so we group all that by the first index of our multi-index DataFrame which is the index for the books. We sum on that which means that per book we now have a single row that has a 1 if that book is part of a certain genre and 0 if not. Then we add a prefix to the column name."
   ]
  },
  {
   "cell_type": "code",
   "execution_count": 25,
   "id": "aa631db4-f6bd-4a13-ac26-a0cc05cc17b0",
   "metadata": {},
   "outputs": [],
   "source": [
    "dummies = books.genres.apply(pd.Series).stack().str.get_dummies().groupby(level=0).sum().add_prefix('genre_')\n",
    "books = books.join(dummies)"
   ]
  },
  {
   "cell_type": "code",
   "execution_count": 26,
   "id": "aa2683cd-be8a-46bc-b7c6-924d2f273a76",
   "metadata": {},
   "outputs": [
    {
     "data": {
      "text/html": [
       "<div>\n",
       "<style scoped>\n",
       "    .dataframe tbody tr th:only-of-type {\n",
       "        vertical-align: middle;\n",
       "    }\n",
       "\n",
       "    .dataframe tbody tr th {\n",
       "        vertical-align: top;\n",
       "    }\n",
       "\n",
       "    .dataframe thead th {\n",
       "        text-align: right;\n",
       "    }\n",
       "</style>\n",
       "<table border=\"1\" class=\"dataframe\">\n",
       "  <thead>\n",
       "    <tr style=\"text-align: right;\">\n",
       "      <th></th>\n",
       "      <th>wikipedia</th>\n",
       "      <th>freebase</th>\n",
       "      <th>title</th>\n",
       "      <th>author</th>\n",
       "      <th>publicationdate</th>\n",
       "      <th>genres</th>\n",
       "      <th>summary</th>\n",
       "      <th>genre_Absurdist fiction</th>\n",
       "      <th>genre_Adventure</th>\n",
       "      <th>genre_Adventure novel</th>\n",
       "      <th>...</th>\n",
       "      <th>genre_Utopian fiction</th>\n",
       "      <th>genre_Vampire fiction</th>\n",
       "      <th>genre_War novel</th>\n",
       "      <th>genre_Western</th>\n",
       "      <th>genre_Western fiction</th>\n",
       "      <th>genre_Whodunit</th>\n",
       "      <th>genre_Wuxia</th>\n",
       "      <th>genre_Young adult literature</th>\n",
       "      <th>genre_Zombie</th>\n",
       "      <th>genre_Zombies in popular culture</th>\n",
       "    </tr>\n",
       "  </thead>\n",
       "  <tbody>\n",
       "    <tr>\n",
       "      <th>0</th>\n",
       "      <td>843</td>\n",
       "      <td>/m/0k36</td>\n",
       "      <td>A Clockwork Orange</td>\n",
       "      <td>Anthony Burgess</td>\n",
       "      <td>1962</td>\n",
       "      <td>[Science Fiction, Novella, Speculative fiction...</td>\n",
       "      <td>Alex, a teenager living in near-future Englan...</td>\n",
       "      <td>0</td>\n",
       "      <td>0</td>\n",
       "      <td>0</td>\n",
       "      <td>...</td>\n",
       "      <td>0</td>\n",
       "      <td>0</td>\n",
       "      <td>0</td>\n",
       "      <td>0</td>\n",
       "      <td>0</td>\n",
       "      <td>0</td>\n",
       "      <td>0</td>\n",
       "      <td>0</td>\n",
       "      <td>0</td>\n",
       "      <td>0</td>\n",
       "    </tr>\n",
       "    <tr>\n",
       "      <th>1</th>\n",
       "      <td>986</td>\n",
       "      <td>/m/0ldx</td>\n",
       "      <td>The Plague</td>\n",
       "      <td>Albert Camus</td>\n",
       "      <td>1947</td>\n",
       "      <td>[Existentialism, Fiction, Absurdist fiction, N...</td>\n",
       "      <td>The text of The Plague is divided into five p...</td>\n",
       "      <td>1</td>\n",
       "      <td>0</td>\n",
       "      <td>0</td>\n",
       "      <td>...</td>\n",
       "      <td>0</td>\n",
       "      <td>0</td>\n",
       "      <td>0</td>\n",
       "      <td>0</td>\n",
       "      <td>0</td>\n",
       "      <td>0</td>\n",
       "      <td>0</td>\n",
       "      <td>0</td>\n",
       "      <td>0</td>\n",
       "      <td>0</td>\n",
       "    </tr>\n",
       "    <tr>\n",
       "      <th>4</th>\n",
       "      <td>2152</td>\n",
       "      <td>/m/0x5g</td>\n",
       "      <td>All Quiet on the Western Front</td>\n",
       "      <td>Erich Maria Remarque</td>\n",
       "      <td>1929-01-29</td>\n",
       "      <td>[War novel, Roman à clef]</td>\n",
       "      <td>The book tells the story of Paul Bäumer, a Ge...</td>\n",
       "      <td>0</td>\n",
       "      <td>0</td>\n",
       "      <td>0</td>\n",
       "      <td>...</td>\n",
       "      <td>0</td>\n",
       "      <td>0</td>\n",
       "      <td>1</td>\n",
       "      <td>0</td>\n",
       "      <td>0</td>\n",
       "      <td>0</td>\n",
       "      <td>0</td>\n",
       "      <td>0</td>\n",
       "      <td>0</td>\n",
       "      <td>0</td>\n",
       "    </tr>\n",
       "    <tr>\n",
       "      <th>5</th>\n",
       "      <td>2890</td>\n",
       "      <td>/m/011zx</td>\n",
       "      <td>A Wizard of Earthsea</td>\n",
       "      <td>Ursula K. Le Guin</td>\n",
       "      <td>1968</td>\n",
       "      <td>[Children's literature, Fantasy, Speculative f...</td>\n",
       "      <td>Ged is a young boy on Gont, one of the larger...</td>\n",
       "      <td>0</td>\n",
       "      <td>0</td>\n",
       "      <td>0</td>\n",
       "      <td>...</td>\n",
       "      <td>0</td>\n",
       "      <td>0</td>\n",
       "      <td>0</td>\n",
       "      <td>0</td>\n",
       "      <td>0</td>\n",
       "      <td>0</td>\n",
       "      <td>0</td>\n",
       "      <td>0</td>\n",
       "      <td>0</td>\n",
       "      <td>0</td>\n",
       "    </tr>\n",
       "    <tr>\n",
       "      <th>7</th>\n",
       "      <td>4081</td>\n",
       "      <td>/m/01b4w</td>\n",
       "      <td>Blade Runner 3: Replicant Night</td>\n",
       "      <td>K. W. Jeter</td>\n",
       "      <td>1996-10-01</td>\n",
       "      <td>[Science Fiction, Speculative fiction]</td>\n",
       "      <td>Living on Mars, Deckard is acting as a consul...</td>\n",
       "      <td>0</td>\n",
       "      <td>0</td>\n",
       "      <td>0</td>\n",
       "      <td>...</td>\n",
       "      <td>0</td>\n",
       "      <td>0</td>\n",
       "      <td>0</td>\n",
       "      <td>0</td>\n",
       "      <td>0</td>\n",
       "      <td>0</td>\n",
       "      <td>0</td>\n",
       "      <td>0</td>\n",
       "      <td>0</td>\n",
       "      <td>0</td>\n",
       "    </tr>\n",
       "    <tr>\n",
       "      <th>...</th>\n",
       "      <td>...</td>\n",
       "      <td>...</td>\n",
       "      <td>...</td>\n",
       "      <td>...</td>\n",
       "      <td>...</td>\n",
       "      <td>...</td>\n",
       "      <td>...</td>\n",
       "      <td>...</td>\n",
       "      <td>...</td>\n",
       "      <td>...</td>\n",
       "      <td>...</td>\n",
       "      <td>...</td>\n",
       "      <td>...</td>\n",
       "      <td>...</td>\n",
       "      <td>...</td>\n",
       "      <td>...</td>\n",
       "      <td>...</td>\n",
       "      <td>...</td>\n",
       "      <td>...</td>\n",
       "      <td>...</td>\n",
       "      <td>...</td>\n",
       "    </tr>\n",
       "    <tr>\n",
       "      <th>16548</th>\n",
       "      <td>36372465</td>\n",
       "      <td>/m/02vqwsp</td>\n",
       "      <td>The Third Lynx</td>\n",
       "      <td>Timothy Zahn</td>\n",
       "      <td>2007</td>\n",
       "      <td>[Science Fiction]</td>\n",
       "      <td>The story starts with former government agent...</td>\n",
       "      <td>0</td>\n",
       "      <td>0</td>\n",
       "      <td>0</td>\n",
       "      <td>...</td>\n",
       "      <td>0</td>\n",
       "      <td>0</td>\n",
       "      <td>0</td>\n",
       "      <td>0</td>\n",
       "      <td>0</td>\n",
       "      <td>0</td>\n",
       "      <td>0</td>\n",
       "      <td>0</td>\n",
       "      <td>0</td>\n",
       "      <td>0</td>\n",
       "    </tr>\n",
       "    <tr>\n",
       "      <th>16550</th>\n",
       "      <td>36534061</td>\n",
       "      <td>/m/072y44</td>\n",
       "      <td>Remote Control</td>\n",
       "      <td>Andy McNab</td>\n",
       "      <td>1997</td>\n",
       "      <td>[Thriller, Fiction, Suspense]</td>\n",
       "      <td>The series follows the character of Nick Ston...</td>\n",
       "      <td>0</td>\n",
       "      <td>0</td>\n",
       "      <td>0</td>\n",
       "      <td>...</td>\n",
       "      <td>0</td>\n",
       "      <td>0</td>\n",
       "      <td>0</td>\n",
       "      <td>0</td>\n",
       "      <td>0</td>\n",
       "      <td>0</td>\n",
       "      <td>0</td>\n",
       "      <td>0</td>\n",
       "      <td>0</td>\n",
       "      <td>0</td>\n",
       "    </tr>\n",
       "    <tr>\n",
       "      <th>16554</th>\n",
       "      <td>37054020</td>\n",
       "      <td>/m/04f1nbs</td>\n",
       "      <td>Transfer of Power</td>\n",
       "      <td>Vince Flynn</td>\n",
       "      <td>2000-06-01</td>\n",
       "      <td>[Thriller, Fiction]</td>\n",
       "      <td>The reader first meets Rapp while he is doing...</td>\n",
       "      <td>0</td>\n",
       "      <td>0</td>\n",
       "      <td>0</td>\n",
       "      <td>...</td>\n",
       "      <td>0</td>\n",
       "      <td>0</td>\n",
       "      <td>0</td>\n",
       "      <td>0</td>\n",
       "      <td>0</td>\n",
       "      <td>0</td>\n",
       "      <td>0</td>\n",
       "      <td>0</td>\n",
       "      <td>0</td>\n",
       "      <td>0</td>\n",
       "    </tr>\n",
       "    <tr>\n",
       "      <th>16555</th>\n",
       "      <td>37122323</td>\n",
       "      <td>/m/0n5236t</td>\n",
       "      <td>Decoded</td>\n",
       "      <td>Jay-Z</td>\n",
       "      <td>2010-11-16</td>\n",
       "      <td>[Autobiography]</td>\n",
       "      <td>The book follows very rough chronological ord...</td>\n",
       "      <td>0</td>\n",
       "      <td>0</td>\n",
       "      <td>0</td>\n",
       "      <td>...</td>\n",
       "      <td>0</td>\n",
       "      <td>0</td>\n",
       "      <td>0</td>\n",
       "      <td>0</td>\n",
       "      <td>0</td>\n",
       "      <td>0</td>\n",
       "      <td>0</td>\n",
       "      <td>0</td>\n",
       "      <td>0</td>\n",
       "      <td>0</td>\n",
       "    </tr>\n",
       "    <tr>\n",
       "      <th>16557</th>\n",
       "      <td>37159503</td>\n",
       "      <td>/m/073nkd</td>\n",
       "      <td>Poor Folk</td>\n",
       "      <td>Fyodor Dostoyevsky</td>\n",
       "      <td>1846</td>\n",
       "      <td>[Epistolary novel, Speculative fiction]</td>\n",
       "      <td>Makar Devushkin and Varvara Dobroselova are s...</td>\n",
       "      <td>0</td>\n",
       "      <td>0</td>\n",
       "      <td>0</td>\n",
       "      <td>...</td>\n",
       "      <td>0</td>\n",
       "      <td>0</td>\n",
       "      <td>0</td>\n",
       "      <td>0</td>\n",
       "      <td>0</td>\n",
       "      <td>0</td>\n",
       "      <td>0</td>\n",
       "      <td>0</td>\n",
       "      <td>0</td>\n",
       "      <td>0</td>\n",
       "    </tr>\n",
       "  </tbody>\n",
       "</table>\n",
       "<p>9292 rows × 222 columns</p>\n",
       "</div>"
      ],
      "text/plain": [
       "       wikipedia    freebase                            title  \\\n",
       "0            843     /m/0k36               A Clockwork Orange   \n",
       "1            986     /m/0ldx                       The Plague   \n",
       "4           2152     /m/0x5g   All Quiet on the Western Front   \n",
       "5           2890    /m/011zx             A Wizard of Earthsea   \n",
       "7           4081    /m/01b4w  Blade Runner 3: Replicant Night   \n",
       "...          ...         ...                              ...   \n",
       "16548   36372465  /m/02vqwsp                   The Third Lynx   \n",
       "16550   36534061   /m/072y44                   Remote Control   \n",
       "16554   37054020  /m/04f1nbs                Transfer of Power   \n",
       "16555   37122323  /m/0n5236t                          Decoded   \n",
       "16557   37159503   /m/073nkd                        Poor Folk   \n",
       "\n",
       "                     author publicationdate  \\\n",
       "0           Anthony Burgess            1962   \n",
       "1              Albert Camus            1947   \n",
       "4      Erich Maria Remarque      1929-01-29   \n",
       "5         Ursula K. Le Guin            1968   \n",
       "7               K. W. Jeter      1996-10-01   \n",
       "...                     ...             ...   \n",
       "16548          Timothy Zahn            2007   \n",
       "16550            Andy McNab            1997   \n",
       "16554           Vince Flynn      2000-06-01   \n",
       "16555                 Jay-Z      2010-11-16   \n",
       "16557    Fyodor Dostoyevsky            1846   \n",
       "\n",
       "                                                  genres  \\\n",
       "0      [Science Fiction, Novella, Speculative fiction...   \n",
       "1      [Existentialism, Fiction, Absurdist fiction, N...   \n",
       "4                              [War novel, Roman à clef]   \n",
       "5      [Children's literature, Fantasy, Speculative f...   \n",
       "7                 [Science Fiction, Speculative fiction]   \n",
       "...                                                  ...   \n",
       "16548                                  [Science Fiction]   \n",
       "16550                      [Thriller, Fiction, Suspense]   \n",
       "16554                                [Thriller, Fiction]   \n",
       "16555                                    [Autobiography]   \n",
       "16557            [Epistolary novel, Speculative fiction]   \n",
       "\n",
       "                                                 summary  \\\n",
       "0       Alex, a teenager living in near-future Englan...   \n",
       "1       The text of The Plague is divided into five p...   \n",
       "4       The book tells the story of Paul Bäumer, a Ge...   \n",
       "5       Ged is a young boy on Gont, one of the larger...   \n",
       "7       Living on Mars, Deckard is acting as a consul...   \n",
       "...                                                  ...   \n",
       "16548   The story starts with former government agent...   \n",
       "16550   The series follows the character of Nick Ston...   \n",
       "16554   The reader first meets Rapp while he is doing...   \n",
       "16555   The book follows very rough chronological ord...   \n",
       "16557   Makar Devushkin and Varvara Dobroselova are s...   \n",
       "\n",
       "       genre_Absurdist fiction  genre_Adventure  genre_Adventure novel  ...  \\\n",
       "0                            0                0                      0  ...   \n",
       "1                            1                0                      0  ...   \n",
       "4                            0                0                      0  ...   \n",
       "5                            0                0                      0  ...   \n",
       "7                            0                0                      0  ...   \n",
       "...                        ...              ...                    ...  ...   \n",
       "16548                        0                0                      0  ...   \n",
       "16550                        0                0                      0  ...   \n",
       "16554                        0                0                      0  ...   \n",
       "16555                        0                0                      0  ...   \n",
       "16557                        0                0                      0  ...   \n",
       "\n",
       "       genre_Utopian fiction  genre_Vampire fiction  genre_War novel  \\\n",
       "0                          0                      0                0   \n",
       "1                          0                      0                0   \n",
       "4                          0                      0                1   \n",
       "5                          0                      0                0   \n",
       "7                          0                      0                0   \n",
       "...                      ...                    ...              ...   \n",
       "16548                      0                      0                0   \n",
       "16550                      0                      0                0   \n",
       "16554                      0                      0                0   \n",
       "16555                      0                      0                0   \n",
       "16557                      0                      0                0   \n",
       "\n",
       "       genre_Western  genre_Western fiction  genre_Whodunit  genre_Wuxia  \\\n",
       "0                  0                      0               0            0   \n",
       "1                  0                      0               0            0   \n",
       "4                  0                      0               0            0   \n",
       "5                  0                      0               0            0   \n",
       "7                  0                      0               0            0   \n",
       "...              ...                    ...             ...          ...   \n",
       "16548              0                      0               0            0   \n",
       "16550              0                      0               0            0   \n",
       "16554              0                      0               0            0   \n",
       "16555              0                      0               0            0   \n",
       "16557              0                      0               0            0   \n",
       "\n",
       "       genre_Young adult literature  genre_Zombie  \\\n",
       "0                                 0             0   \n",
       "1                                 0             0   \n",
       "4                                 0             0   \n",
       "5                                 0             0   \n",
       "7                                 0             0   \n",
       "...                             ...           ...   \n",
       "16548                             0             0   \n",
       "16550                             0             0   \n",
       "16554                             0             0   \n",
       "16555                             0             0   \n",
       "16557                             0             0   \n",
       "\n",
       "       genre_Zombies in popular culture  \n",
       "0                                     0  \n",
       "1                                     0  \n",
       "4                                     0  \n",
       "5                                     0  \n",
       "7                                     0  \n",
       "...                                 ...  \n",
       "16548                                 0  \n",
       "16550                                 0  \n",
       "16554                                 0  \n",
       "16555                                 0  \n",
       "16557                                 0  \n",
       "\n",
       "[9292 rows x 222 columns]"
      ]
     },
     "execution_count": 26,
     "metadata": {},
     "output_type": "execute_result"
    }
   ],
   "source": [
    "books"
   ]
  },
  {
   "cell_type": "markdown",
   "id": "a53c572b-ca0e-4eb9-97d0-1aa15a40e368",
   "metadata": {},
   "source": [
    "Phew!! Now the data is in a form we can use for the labels.\n",
    "\n",
    "Let's look a bit closer at the genres and in particular how many books we have in each category. We'll just sum the dummy columns for genres."
   ]
  },
  {
   "cell_type": "code",
   "execution_count": 27,
   "id": "94b4df79-8c53-4646-8f38-fec22152393c",
   "metadata": {},
   "outputs": [
    {
     "data": {
      "text/plain": [
       "genre_Fiction                3674\n",
       "genre_Speculative fiction    3270\n",
       "genre_Novel                  2088\n",
       "genre_Science Fiction        2001\n",
       "genre_Fantasy                1863\n",
       "                             ... \n",
       "genre_Prose                     1\n",
       "genre_Photography               1\n",
       "genre_Indian chick lit          1\n",
       "genre_Superhero fiction         1\n",
       "genre_Neuroscience              1\n",
       "Length: 215, dtype: int64"
      ]
     },
     "execution_count": 27,
     "metadata": {},
     "output_type": "execute_result"
    }
   ],
   "source": [
    "genreusage = books.drop(['wikipedia', 'freebase', 'author', 'publicationdate', 'genres', 'title', 'summary'], axis=1).sum().sort_values(ascending=False)\n",
    "genreusage"
   ]
  },
  {
   "cell_type": "markdown",
   "id": "98dd75e3-df71-4366-9000-d9d9aac31273",
   "metadata": {},
   "source": [
    "So there are a whole bunch of genres that only have one book in the dataset. As you can imagine, this is not going to work well when training the model. So let's put in a lower limit of say 200. How many genres do we have still?"
   ]
  },
  {
   "cell_type": "code",
   "execution_count": 28,
   "id": "7e2f256e-fa0a-41fd-93c4-20a050fcea8b",
   "metadata": {},
   "outputs": [
    {
     "data": {
      "text/html": [
       "<div>\n",
       "<style scoped>\n",
       "    .dataframe tbody tr th:only-of-type {\n",
       "        vertical-align: middle;\n",
       "    }\n",
       "\n",
       "    .dataframe tbody tr th {\n",
       "        vertical-align: top;\n",
       "    }\n",
       "\n",
       "    .dataframe thead th {\n",
       "        text-align: right;\n",
       "    }\n",
       "</style>\n",
       "<table border=\"1\" class=\"dataframe\">\n",
       "  <thead>\n",
       "    <tr style=\"text-align: right;\">\n",
       "      <th></th>\n",
       "      <th>index</th>\n",
       "      <th>count</th>\n",
       "    </tr>\n",
       "  </thead>\n",
       "  <tbody>\n",
       "    <tr>\n",
       "      <th>0</th>\n",
       "      <td>genre_Fiction</td>\n",
       "      <td>3674</td>\n",
       "    </tr>\n",
       "    <tr>\n",
       "      <th>1</th>\n",
       "      <td>genre_Speculative fiction</td>\n",
       "      <td>3270</td>\n",
       "    </tr>\n",
       "    <tr>\n",
       "      <th>2</th>\n",
       "      <td>genre_Novel</td>\n",
       "      <td>2088</td>\n",
       "    </tr>\n",
       "    <tr>\n",
       "      <th>3</th>\n",
       "      <td>genre_Science Fiction</td>\n",
       "      <td>2001</td>\n",
       "    </tr>\n",
       "    <tr>\n",
       "      <th>4</th>\n",
       "      <td>genre_Fantasy</td>\n",
       "      <td>1863</td>\n",
       "    </tr>\n",
       "    <tr>\n",
       "      <th>5</th>\n",
       "      <td>genre_Children's literature</td>\n",
       "      <td>1627</td>\n",
       "    </tr>\n",
       "    <tr>\n",
       "      <th>6</th>\n",
       "      <td>genre_Mystery</td>\n",
       "      <td>973</td>\n",
       "    </tr>\n",
       "    <tr>\n",
       "      <th>7</th>\n",
       "      <td>genre_Young adult literature</td>\n",
       "      <td>625</td>\n",
       "    </tr>\n",
       "    <tr>\n",
       "      <th>8</th>\n",
       "      <td>genre_Crime Fiction</td>\n",
       "      <td>557</td>\n",
       "    </tr>\n",
       "    <tr>\n",
       "      <th>9</th>\n",
       "      <td>genre_Historical novel</td>\n",
       "      <td>551</td>\n",
       "    </tr>\n",
       "    <tr>\n",
       "      <th>10</th>\n",
       "      <td>genre_Suspense</td>\n",
       "      <td>538</td>\n",
       "    </tr>\n",
       "    <tr>\n",
       "      <th>11</th>\n",
       "      <td>genre_Thriller</td>\n",
       "      <td>429</td>\n",
       "    </tr>\n",
       "    <tr>\n",
       "      <th>12</th>\n",
       "      <td>genre_Horror</td>\n",
       "      <td>383</td>\n",
       "    </tr>\n",
       "    <tr>\n",
       "      <th>13</th>\n",
       "      <td>genre_Romance novel</td>\n",
       "      <td>316</td>\n",
       "    </tr>\n",
       "    <tr>\n",
       "      <th>14</th>\n",
       "      <td>genre_Historical fiction</td>\n",
       "      <td>314</td>\n",
       "    </tr>\n",
       "    <tr>\n",
       "      <th>15</th>\n",
       "      <td>genre_Adventure novel</td>\n",
       "      <td>268</td>\n",
       "    </tr>\n",
       "  </tbody>\n",
       "</table>\n",
       "</div>"
      ],
      "text/plain": [
       "                           index  count\n",
       "0                  genre_Fiction   3674\n",
       "1      genre_Speculative fiction   3270\n",
       "2                    genre_Novel   2088\n",
       "3          genre_Science Fiction   2001\n",
       "4                  genre_Fantasy   1863\n",
       "5    genre_Children's literature   1627\n",
       "6                  genre_Mystery    973\n",
       "7   genre_Young adult literature    625\n",
       "8            genre_Crime Fiction    557\n",
       "9         genre_Historical novel    551\n",
       "10                genre_Suspense    538\n",
       "11                genre_Thriller    429\n",
       "12                  genre_Horror    383\n",
       "13           genre_Romance novel    316\n",
       "14      genre_Historical fiction    314\n",
       "15         genre_Adventure novel    268"
      ]
     },
     "execution_count": 28,
     "metadata": {},
     "output_type": "execute_result"
    }
   ],
   "source": [
    "genreusage = genreusage.reset_index().rename(columns={0: \"count\"})\n",
    "genreusage = genreusage[genreusage[\"count\"] > 200]\n",
    "genreusage"
   ]
  },
  {
   "cell_type": "markdown",
   "id": "d85a2cf4",
   "metadata": {
    "jp-MarkdownHeadingCollapsed": true
   },
   "source": [
    "Comment: what does the code below do? please explain. "
   ]
  },
  {
   "cell_type": "code",
   "execution_count": 29,
   "id": "249f340e-a673-4394-a222-9d094a578138",
   "metadata": {},
   "outputs": [
    {
     "data": {
      "text/plain": [
       "['genre_Fiction',\n",
       " 'genre_Speculative fiction',\n",
       " 'genre_Novel',\n",
       " 'genre_Science Fiction',\n",
       " 'genre_Fantasy',\n",
       " \"genre_Children's literature\",\n",
       " 'genre_Mystery',\n",
       " 'genre_Young adult literature',\n",
       " 'genre_Crime Fiction',\n",
       " 'genre_Historical novel',\n",
       " 'genre_Suspense',\n",
       " 'genre_Thriller',\n",
       " 'genre_Horror',\n",
       " 'genre_Romance novel',\n",
       " 'genre_Historical fiction',\n",
       " 'genre_Adventure novel']"
      ]
     },
     "execution_count": 29,
     "metadata": {},
     "output_type": "execute_result"
    }
   ],
   "source": [
    "genretrainlist = list(genreusage[\"index\"])\n",
    "genretrainlist"
   ]
  },
  {
   "cell_type": "code",
   "execution_count": 30,
   "id": "68be3478-3cb0-4da2-9e10-1cf30f7d17be",
   "metadata": {},
   "outputs": [],
   "source": [
    "dummies = dummies[genretrainlist]"
   ]
  },
  {
   "cell_type": "markdown",
   "id": "74a3b5e6-dace-454e-8d74-614dba34cc92",
   "metadata": {},
   "source": [
    "### 4-2 Input\n",
    "Next is the input. These are the summaries for a book which is essentially a collection of words. We can vectorize that by making a vector that has a length ot however many unique words there are in all the summaries combined. Then each book summary can be represented as a vector that counts the number of words.\n",
    "\n",
    "That sounds complicated to do, but fortunately, Scikit can do it for us."
   ]
  },
  {
   "cell_type": "code",
   "execution_count": 31,
   "id": "aa5f156c-31d6-4816-b9d7-f3a4d81ab157",
   "metadata": {},
   "outputs": [],
   "source": [
    "from sklearn.feature_extraction.text import CountVectorizer, TfidfTransformer"
   ]
  },
  {
   "cell_type": "code",
   "execution_count": 32,
   "id": "051748e0-f2eb-4587-8bfc-fbad711f657b",
   "metadata": {},
   "outputs": [],
   "source": [
    "count_vect = CountVectorizer()"
   ]
  },
  {
   "cell_type": "code",
   "execution_count": 33,
   "id": "220dd711-4fa0-4766-b28d-6f21515a67f2",
   "metadata": {},
   "outputs": [],
   "source": [
    "X = count_vect.fit_transform(books.summary)"
   ]
  },
  {
   "cell_type": "code",
   "execution_count": 34,
   "id": "57c5f402-dcea-4c74-96fc-b5aa095dcb81",
   "metadata": {},
   "outputs": [
    {
     "data": {
      "text/plain": [
       "<1x90759 sparse matrix of type '<class 'numpy.int64'>'\n",
       "\twith 486 stored elements in Compressed Sparse Row format>"
      ]
     },
     "execution_count": 34,
     "metadata": {},
     "output_type": "execute_result"
    }
   ],
   "source": [
    "X[0]"
   ]
  },
  {
   "cell_type": "markdown",
   "id": "1235d7fa-1fcd-4bbb-b148-6cee86fdb912",
   "metadata": {},
   "source": [
    "Change to normalized word frequencies. Machine learning models like it when everything is between 0 and 1.\n",
    "\n",
    "Comment: what is the paragraph above explaining? referringn to what? please elaborate more."
   ]
  },
  {
   "cell_type": "code",
   "execution_count": 35,
   "id": "7374c5ba-2e82-404e-8c5d-c23b778e759d",
   "metadata": {},
   "outputs": [],
   "source": [
    "tfidf_transformer = TfidfTransformer()\n",
    "X = tfidf_transformer.fit_transform(X)"
   ]
  },
  {
   "cell_type": "markdown",
   "id": "f1458832-b269-4356-a184-72667745e62b",
   "metadata": {},
   "source": [
    "### Train\n",
    "\n",
    "Comment: what is going to happen below? needs a bit of explanation and introductory paragraph here. "
   ]
  },
  {
   "cell_type": "code",
   "execution_count": 36,
   "id": "60ae3205-f94e-4abe-a783-9f2c3ab2c585",
   "metadata": {},
   "outputs": [
    {
     "data": {
      "text/plain": [
       "Index(['genre_Fiction', 'genre_Speculative fiction', 'genre_Novel',\n",
       "       'genre_Science Fiction', 'genre_Fantasy', 'genre_Children's literature',\n",
       "       'genre_Mystery', 'genre_Young adult literature', 'genre_Crime Fiction',\n",
       "       'genre_Historical novel', 'genre_Suspense', 'genre_Thriller',\n",
       "       'genre_Horror', 'genre_Romance novel', 'genre_Historical fiction',\n",
       "       'genre_Adventure novel'],\n",
       "      dtype='object')"
      ]
     },
     "execution_count": 36,
     "metadata": {},
     "output_type": "execute_result"
    }
   ],
   "source": [
    "dummies.columns"
   ]
  },
  {
   "cell_type": "markdown",
   "id": "727d132f",
   "metadata": {
    "jp-MarkdownHeadingCollapsed": true
   },
   "source": [
    "Comment: what does the code below do? please explain what you included as comments in the code below. \n",
    "\n",
    "Comment: I run the code up to the next code, they all worked well. but the next one is giving me many errors. Please double check and see if the problem is on my end and not the code. "
   ]
  },
  {
   "cell_type": "code",
   "execution_count": 38,
   "id": "01099c3d-13c8-4bad-8bf5-b8e3b87be3ab",
   "metadata": {},
   "outputs": [
    {
     "name": "stdout",
     "output_type": "stream",
     "text": [
      "Accuracy for genre_Fiction: 0.56125\n"
     ]
    },
    {
     "ename": "MemoryError",
     "evalue": "Unable to allocate 6.28 GiB for an array with shape (9292, 90759) and data type float64",
     "output_type": "error",
     "traceback": [
      "\u001b[1;31m---------------------------------------------------------------------------\u001b[0m",
      "\u001b[1;31mMemoryError\u001b[0m                               Traceback (most recent call last)",
      "Cell \u001b[1;32mIn[38], line 9\u001b[0m\n\u001b[0;32m      1\u001b[0m \u001b[38;5;28;01mfor\u001b[39;00m col \u001b[38;5;129;01min\u001b[39;00m dummies\u001b[38;5;241m.\u001b[39mcolumns:\n\u001b[0;32m      2\u001b[0m     \u001b[38;5;66;03m# Split the data into training and testing sets\u001b[39;00m\n\u001b[0;32m      3\u001b[0m     \u001b[38;5;66;03m#y = dummies[col]\u001b[39;00m\n\u001b[1;32m   (...)\u001b[0m\n\u001b[0;32m      6\u001b[0m     \u001b[38;5;66;03m# X.toarray() is very memory intensive. Limit the amount of data used of you don't have loads of memory\u001b[39;00m\n\u001b[0;32m      7\u001b[0m     \u001b[38;5;66;03m# by using [:4000] for the input data. This will work for 16GB. If you have less, use a lower number\u001b[39;00m\n\u001b[0;32m      8\u001b[0m     y \u001b[38;5;241m=\u001b[39m dummies[col][:\u001b[38;5;241m4000\u001b[39m]\n\u001b[1;32m----> 9\u001b[0m     X_train, X_test, y_train, y_test \u001b[38;5;241m=\u001b[39m train_test_split(\u001b[43mX\u001b[49m\u001b[38;5;241;43m.\u001b[39;49m\u001b[43mtoarray\u001b[49m\u001b[43m(\u001b[49m\u001b[43m)\u001b[49m[:\u001b[38;5;241m4000\u001b[39m], y, test_size\u001b[38;5;241m=\u001b[39m\u001b[38;5;241m0.2\u001b[39m, random_state\u001b[38;5;241m=\u001b[39m\u001b[38;5;241m42\u001b[39m)\n\u001b[0;32m     11\u001b[0m     \u001b[38;5;66;03m# Train a Gaussian Naive Bayes classifier\u001b[39;00m\n\u001b[0;32m     12\u001b[0m     gnb \u001b[38;5;241m=\u001b[39m GaussianNB()\n",
      "File \u001b[1;32m~\\anaconda3\\lib\\site-packages\\scipy\\sparse\\_compressed.py:1051\u001b[0m, in \u001b[0;36m_cs_matrix.toarray\u001b[1;34m(self, order, out)\u001b[0m\n\u001b[0;32m   1049\u001b[0m \u001b[38;5;28;01mif\u001b[39;00m out \u001b[38;5;129;01mis\u001b[39;00m \u001b[38;5;28;01mNone\u001b[39;00m \u001b[38;5;129;01mand\u001b[39;00m order \u001b[38;5;129;01mis\u001b[39;00m \u001b[38;5;28;01mNone\u001b[39;00m:\n\u001b[0;32m   1050\u001b[0m     order \u001b[38;5;241m=\u001b[39m \u001b[38;5;28mself\u001b[39m\u001b[38;5;241m.\u001b[39m_swap(\u001b[38;5;124m'\u001b[39m\u001b[38;5;124mcf\u001b[39m\u001b[38;5;124m'\u001b[39m)[\u001b[38;5;241m0\u001b[39m]\n\u001b[1;32m-> 1051\u001b[0m out \u001b[38;5;241m=\u001b[39m \u001b[38;5;28;43mself\u001b[39;49m\u001b[38;5;241;43m.\u001b[39;49m\u001b[43m_process_toarray_args\u001b[49m\u001b[43m(\u001b[49m\u001b[43morder\u001b[49m\u001b[43m,\u001b[49m\u001b[43m \u001b[49m\u001b[43mout\u001b[49m\u001b[43m)\u001b[49m\n\u001b[0;32m   1052\u001b[0m \u001b[38;5;28;01mif\u001b[39;00m \u001b[38;5;129;01mnot\u001b[39;00m (out\u001b[38;5;241m.\u001b[39mflags\u001b[38;5;241m.\u001b[39mc_contiguous \u001b[38;5;129;01mor\u001b[39;00m out\u001b[38;5;241m.\u001b[39mflags\u001b[38;5;241m.\u001b[39mf_contiguous):\n\u001b[0;32m   1053\u001b[0m     \u001b[38;5;28;01mraise\u001b[39;00m \u001b[38;5;167;01mValueError\u001b[39;00m(\u001b[38;5;124m'\u001b[39m\u001b[38;5;124mOutput array must be C or F contiguous\u001b[39m\u001b[38;5;124m'\u001b[39m)\n",
      "File \u001b[1;32m~\\anaconda3\\lib\\site-packages\\scipy\\sparse\\_base.py:1298\u001b[0m, in \u001b[0;36mspmatrix._process_toarray_args\u001b[1;34m(self, order, out)\u001b[0m\n\u001b[0;32m   1296\u001b[0m     \u001b[38;5;28;01mreturn\u001b[39;00m out\n\u001b[0;32m   1297\u001b[0m \u001b[38;5;28;01melse\u001b[39;00m:\n\u001b[1;32m-> 1298\u001b[0m     \u001b[38;5;28;01mreturn\u001b[39;00m \u001b[43mnp\u001b[49m\u001b[38;5;241;43m.\u001b[39;49m\u001b[43mzeros\u001b[49m\u001b[43m(\u001b[49m\u001b[38;5;28;43mself\u001b[39;49m\u001b[38;5;241;43m.\u001b[39;49m\u001b[43mshape\u001b[49m\u001b[43m,\u001b[49m\u001b[43m \u001b[49m\u001b[43mdtype\u001b[49m\u001b[38;5;241;43m=\u001b[39;49m\u001b[38;5;28;43mself\u001b[39;49m\u001b[38;5;241;43m.\u001b[39;49m\u001b[43mdtype\u001b[49m\u001b[43m,\u001b[49m\u001b[43m \u001b[49m\u001b[43morder\u001b[49m\u001b[38;5;241;43m=\u001b[39;49m\u001b[43morder\u001b[49m\u001b[43m)\u001b[49m\n",
      "\u001b[1;31mMemoryError\u001b[0m: Unable to allocate 6.28 GiB for an array with shape (9292, 90759) and data type float64"
     ]
    }
   ],
   "source": [
    "for col in dummies.columns:\n",
    "    # Split the data into training and testing sets\n",
    "    #y = dummies[col]\n",
    "    #X_train, X_test, y_train, y_test = train_test_split(X.toarray(), y, test_size=0.2, random_state=42)\n",
    "    \n",
    "    # X.toarray() is very memory intensive. Limit the amount of data used of you don't have loads of memory\n",
    "    # by using [:4000] for the input data. This will work for 16GB. If you have less, use a lower number\n",
    "    y = dummies[col][:4000]\n",
    "    X_train, X_test, y_train, y_test = train_test_split(X.toarray()[:4000], y, test_size=0.2, random_state=42)\n",
    "    \n",
    "    # Train a Gaussian Naive Bayes classifier\n",
    "    gnb = GaussianNB()\n",
    "    gnb.fit(X_train, y_train)\n",
    "    \n",
    "    # Make predictions on the test set\n",
    "    y_pred = gnb.predict(X_test)\n",
    "    \n",
    "    # Evaluate the performance of the classifier\n",
    "    accuracy = accuracy_score(y_test, y_pred)\n",
    "    print(f\"Accuracy for {col}: {accuracy}\")"
   ]
  },
  {
   "cell_type": "markdown",
   "id": "61805869-78d3-4904-b5a7-b7ad91037dc5",
   "metadata": {},
   "source": [
    "Looks like we can predict most genres pretty well! Especially when compared to the KNN we tried using before. It does have a lot of trouble prediction \"Fiction\". This might be because that label is probably too generic. As in lots of different genres can be classified as fiction.\n",
    "\n",
    "The difference between Naive Bayes and KNN is that Naive Bayes works particularly well with loads and loads of input columns whereas that is exactly where KNN breaks down. This is a good example of the consequences of model choice."
   ]
  },
  {
   "cell_type": "markdown",
   "id": "542fd1e3-6040-4280-9eb4-fcdcd7c677da",
   "metadata": {
    "jp-MarkdownHeadingCollapsed": true
   },
   "source": [
    "## 5- School grades\n",
    "\n",
    "Ontario produces open data sets with statistics for schools. We can download it from their catalogue. **FAILURE**\n",
    "\n",
    "Comment: what do you mean from failure above? please explain in a form of sentence."
   ]
  },
  {
   "cell_type": "markdown",
   "id": "c4ddf4fa-9165-48bd-89c9-e057a974a979",
   "metadata": {},
   "source": [
    "### 5-1 Why it probably failed\n",
    "Even though Naive Bayes works remarkably well when features are not actually independent, there is a limit in how far you can take this. The data below has grade results over a range of grades and subjects. It is likely that they are all heavily correlated with each other. That is, a school that has grade 6 students doing really well in reading likely also has grades do well in writing and math and for the grade 9 students as well."
   ]
  },
  {
   "cell_type": "markdown",
   "id": "80e9a559-885e-4d76-bd1d-c2e4d8c7c971",
   "metadata": {},
   "source": [
    "### 5-2 Data cleaning\n",
    "\n",
    "They indicate missing data with \"NA\" but there is also \"SP\" which means the enrollment was too low to report data on student performance without privacy concerns. We'll tell pandas to treat both \"SP\" and \"NA\" as missing values. They also have \"N/D\" and \"N/R\" which are just special cases of \"NA\" so we can treat those as missing data as well."
   ]
  },
  {
   "cell_type": "code",
   "execution_count": 39,
   "id": "d04a0a61-8d40-4f34-bf90-f07e6f5c60d9",
   "metadata": {},
   "outputs": [],
   "source": [
    "schools = pd.read_excel('data/new_sif_data_table_2021_22prelim_en_november2023.xlsx', na_values=[\"NA\",\"SP\", \"N/D\", \"N/R\"])"
   ]
  },
  {
   "cell_type": "markdown",
   "id": "0e57ae7b-4fb8-4cb2-a343-6c033d3f8737",
   "metadata": {},
   "source": [
    "Let's see what we have in terms of data quality."
   ]
  },
  {
   "cell_type": "code",
   "execution_count": 40,
   "id": "e5814359-774e-434f-9535-930595597455",
   "metadata": {},
   "outputs": [
    {
     "name": "stdout",
     "output_type": "stream",
     "text": [
      "<class 'pandas.core.frame.DataFrame'>\n",
      "RangeIndex: 4904 entries, 0 to 4903\n",
      "Data columns (total 49 columns):\n",
      " #   Column                                                                            Non-Null Count  Dtype  \n",
      "---  ------                                                                            --------------  -----  \n",
      " 0   Board Number                                                                      4904 non-null   object \n",
      " 1   Board Name                                                                        4904 non-null   object \n",
      " 2   Board Type                                                                        4904 non-null   object \n",
      " 3   School Number                                                                     4904 non-null   object \n",
      " 4   School Name                                                                       4904 non-null   object \n",
      " 5   School Type                                                                       4904 non-null   object \n",
      " 6   School Special Condition Code                                                     4904 non-null   object \n",
      " 7   School Level                                                                      4904 non-null   object \n",
      " 8   School Language                                                                   4904 non-null   object \n",
      " 9   Grade Range                                                                       4904 non-null   object \n",
      " 10  Building Suite                                                                    27 non-null     object \n",
      " 11  P.O. Box                                                                          110 non-null    object \n",
      " 12  Street                                                                            4898 non-null   object \n",
      " 13  Municipality                                                                      4898 non-null   object \n",
      " 14  City                                                                              4898 non-null   object \n",
      " 15  Province                                                                          4898 non-null   object \n",
      " 16  Postal Code                                                                       4898 non-null   object \n",
      " 17  Phone Number                                                                      4697 non-null   object \n",
      " 18  Fax Number                                                                        4479 non-null   object \n",
      " 19  School Website                                                                    4758 non-null   object \n",
      " 20  Board Website                                                                     4904 non-null   object \n",
      " 21  Enrolment                                                                         4677 non-null   float64\n",
      " 22  Latitude                                                                          4898 non-null   float64\n",
      " 23  Longitude                                                                         4898 non-null   float64\n",
      " 24  Percentage of Students Whose First Language Is Not English                        4677 non-null   float64\n",
      " 25  Percentage of Students Whose First Language Is Not French                         4677 non-null   float64\n",
      " 26  Percentage of Students Who Are New to Canada from a Non-English Speaking Country  4677 non-null   float64\n",
      " 27  Percentage of Students Who Are New to Canada from a Non-French Speaking Country   4677 non-null   float64\n",
      " 28  Percentage of Students Receiving Special Education Services                       4677 non-null   float64\n",
      " 29  Percentage of Students Identified as Gifted                                       4677 non-null   float64\n",
      " 30  Percentage of Grade 3 Students Achieving the Provincial Standard in Reading       3507 non-null   object \n",
      " 31  Change in Grade 3 Reading Achievement Over Three Years                            0 non-null      float64\n",
      " 32  Percentage of Grade 3 Students Achieving the Provincial Standard in Writing       3507 non-null   object \n",
      " 33  Change in Grade 3 Writing Achievement Over Three Years                            0 non-null      float64\n",
      " 34  Percentage of Grade 3 Students Achieving the Provincial Standard in Mathematics   3555 non-null   object \n",
      " 35  Change in Grade 3 Mathematics Achievement Over Three Years                        0 non-null      float64\n",
      " 36  Percentage of Grade 6 Students Achieving the Provincial Standard in Reading       3378 non-null   object \n",
      " 37  Change in Grade 6 Reading Achievement Over Three Years                            0 non-null      float64\n",
      " 38  Percentage of Grade 6 Students Achieving the Provincial Standard in Writing       3378 non-null   object \n",
      " 39  Change in Grade 6 Writing Achievement Over Three Years                            0 non-null      float64\n",
      " 40  Percentage of Grade 6 Students Achieving the Provincial Standard in Mathematics   3378 non-null   object \n",
      " 41  Change in Grade 6 Mathematics Achievement Over Three Years                        0 non-null      float64\n",
      " 42  Percentage of Grade 9 Students Achieving the Provincial Standard in Mathematics   689 non-null    object \n",
      " 43  Change in Grade 9 Mathematics Achievement Over Three Years                        0 non-null      float64\n",
      " 44  Percentage of Students That Passed the Grade 10 OSSLT on Their First Attempt      746 non-null    object \n",
      " 45  Change in Grade 10 OSSLT Literacy Achievement Over Three Years                    0 non-null      float64\n",
      " 46  Percentage of School-Aged Children Who Live in Low-Income Households              4677 non-null   float64\n",
      " 47  Percentage of Students Whose Parents Have No Degree, Diploma or Certificate       4677 non-null   float64\n",
      " 48  Extract Date                                                                      4904 non-null   object \n",
      "dtypes: float64(19), object(30)\n",
      "memory usage: 1.8+ MB\n"
     ]
    }
   ],
   "source": [
    "schools.info()"
   ]
  },
  {
   "cell_type": "markdown",
   "id": "258d2d6b-4c04-4b63-84cc-13cec3fe0f3f",
   "metadata": {},
   "source": [
    "Many columns seem to have no data at all. Some are just a bit poor. Some contain address information and websites. We can drop many of those. Let's start with dropping names, addresses and ID numbers."
   ]
  },
  {
   "cell_type": "code",
   "execution_count": 41,
   "id": "957b6609-3663-4d6b-9e6e-55c0e350ad4a",
   "metadata": {},
   "outputs": [],
   "source": [
    "schools = schools.drop([\n",
    "    'Board Number',\n",
    "    'Board Name',\n",
    "    'Board Type',\n",
    "    'School Number',\n",
    "    'School Name',\n",
    "    'School Special Condition Code',\n",
    "    'Building Suite',\n",
    "    'P.O. Box',\n",
    "    'Street',\n",
    "    'Municipality',\n",
    "    'City',\n",
    "    'Province',\n",
    "    'Postal Code',\n",
    "    'Phone Number',\n",
    "    'Fax Number',\n",
    "    'School Website',\n",
    "    'Board Website',\n",
    "    'Longitude',\n",
    "    'Latitude',\n",
    "    'Extract Date'\n",
    "], axis=1)"
   ]
  },
  {
   "cell_type": "code",
   "execution_count": 40,
   "id": "5d765ef6-9cdf-4066-85cc-48460056a5f6",
   "metadata": {},
   "outputs": [
    {
     "name": "stdout",
     "output_type": "stream",
     "text": [
      "<class 'pandas.core.frame.DataFrame'>\n",
      "RangeIndex: 4904 entries, 0 to 4903\n",
      "Data columns (total 29 columns):\n",
      " #   Column                                                                            Non-Null Count  Dtype  \n",
      "---  ------                                                                            --------------  -----  \n",
      " 0   School Type                                                                       4904 non-null   object \n",
      " 1   School Level                                                                      4904 non-null   object \n",
      " 2   School Language                                                                   4904 non-null   object \n",
      " 3   Grade Range                                                                       4904 non-null   object \n",
      " 4   Enrolment                                                                         4677 non-null   float64\n",
      " 5   Percentage of Students Whose First Language Is Not English                        4677 non-null   float64\n",
      " 6   Percentage of Students Whose First Language Is Not French                         4677 non-null   float64\n",
      " 7   Percentage of Students Who Are New to Canada from a Non-English Speaking Country  4677 non-null   float64\n",
      " 8   Percentage of Students Who Are New to Canada from a Non-French Speaking Country   4677 non-null   float64\n",
      " 9   Percentage of Students Receiving Special Education Services                       4677 non-null   float64\n",
      " 10  Percentage of Students Identified as Gifted                                       4677 non-null   float64\n",
      " 11  Percentage of Grade 3 Students Achieving the Provincial Standard in Reading       3507 non-null   object \n",
      " 12  Change in Grade 3 Reading Achievement Over Three Years                            0 non-null      float64\n",
      " 13  Percentage of Grade 3 Students Achieving the Provincial Standard in Writing       3507 non-null   object \n",
      " 14  Change in Grade 3 Writing Achievement Over Three Years                            0 non-null      float64\n",
      " 15  Percentage of Grade 3 Students Achieving the Provincial Standard in Mathematics   3555 non-null   object \n",
      " 16  Change in Grade 3 Mathematics Achievement Over Three Years                        0 non-null      float64\n",
      " 17  Percentage of Grade 6 Students Achieving the Provincial Standard in Reading       3378 non-null   object \n",
      " 18  Change in Grade 6 Reading Achievement Over Three Years                            0 non-null      float64\n",
      " 19  Percentage of Grade 6 Students Achieving the Provincial Standard in Writing       3378 non-null   object \n",
      " 20  Change in Grade 6 Writing Achievement Over Three Years                            0 non-null      float64\n",
      " 21  Percentage of Grade 6 Students Achieving the Provincial Standard in Mathematics   3378 non-null   object \n",
      " 22  Change in Grade 6 Mathematics Achievement Over Three Years                        0 non-null      float64\n",
      " 23  Percentage of Grade 9 Students Achieving the Provincial Standard in Mathematics   689 non-null    object \n",
      " 24  Change in Grade 9 Mathematics Achievement Over Three Years                        0 non-null      float64\n",
      " 25  Percentage of Students That Passed the Grade 10 OSSLT on Their First Attempt      746 non-null    object \n",
      " 26  Change in Grade 10 OSSLT Literacy Achievement Over Three Years                    0 non-null      float64\n",
      " 27  Percentage of School-Aged Children Who Live in Low-Income Households              4677 non-null   float64\n",
      " 28  Percentage of Students Whose Parents Have No Degree, Diploma or Certificate       4677 non-null   float64\n",
      "dtypes: float64(17), object(12)\n",
      "memory usage: 1.1+ MB\n"
     ]
    }
   ],
   "source": [
    "schools.info()"
   ]
  },
  {
   "cell_type": "markdown",
   "id": "631e82ee-b043-4199-ab11-47b3a08ff0e2",
   "metadata": {},
   "source": [
    "We still have rather a lot of columns with no data at all. Let's drop those as well.\n",
    "\n",
    "Actually, let's also get rid of the columns that have fewer than 1000 valid values."
   ]
  },
  {
   "cell_type": "code",
   "execution_count": 42,
   "id": "79b98595-2bce-47de-82f5-21c445d4b877",
   "metadata": {},
   "outputs": [],
   "source": [
    "schools = schools.dropna(thresh=1000, axis=1)"
   ]
  },
  {
   "cell_type": "code",
   "execution_count": 42,
   "id": "bac2f0f0-637d-4863-8f54-91aa29e7a8cb",
   "metadata": {},
   "outputs": [
    {
     "name": "stdout",
     "output_type": "stream",
     "text": [
      "<class 'pandas.core.frame.DataFrame'>\n",
      "RangeIndex: 4904 entries, 0 to 4903\n",
      "Data columns (total 19 columns):\n",
      " #   Column                                                                            Non-Null Count  Dtype  \n",
      "---  ------                                                                            --------------  -----  \n",
      " 0   School Type                                                                       4904 non-null   object \n",
      " 1   School Level                                                                      4904 non-null   object \n",
      " 2   School Language                                                                   4904 non-null   object \n",
      " 3   Grade Range                                                                       4904 non-null   object \n",
      " 4   Enrolment                                                                         4677 non-null   float64\n",
      " 5   Percentage of Students Whose First Language Is Not English                        4677 non-null   float64\n",
      " 6   Percentage of Students Whose First Language Is Not French                         4677 non-null   float64\n",
      " 7   Percentage of Students Who Are New to Canada from a Non-English Speaking Country  4677 non-null   float64\n",
      " 8   Percentage of Students Who Are New to Canada from a Non-French Speaking Country   4677 non-null   float64\n",
      " 9   Percentage of Students Receiving Special Education Services                       4677 non-null   float64\n",
      " 10  Percentage of Students Identified as Gifted                                       4677 non-null   float64\n",
      " 11  Percentage of Grade 3 Students Achieving the Provincial Standard in Reading       3507 non-null   object \n",
      " 12  Percentage of Grade 3 Students Achieving the Provincial Standard in Writing       3507 non-null   object \n",
      " 13  Percentage of Grade 3 Students Achieving the Provincial Standard in Mathematics   3555 non-null   object \n",
      " 14  Percentage of Grade 6 Students Achieving the Provincial Standard in Reading       3378 non-null   object \n",
      " 15  Percentage of Grade 6 Students Achieving the Provincial Standard in Writing       3378 non-null   object \n",
      " 16  Percentage of Grade 6 Students Achieving the Provincial Standard in Mathematics   3378 non-null   object \n",
      " 17  Percentage of School-Aged Children Who Live in Low-Income Households              4677 non-null   float64\n",
      " 18  Percentage of Students Whose Parents Have No Degree, Diploma or Certificate       4677 non-null   float64\n",
      "dtypes: float64(9), object(10)\n",
      "memory usage: 728.1+ KB\n"
     ]
    }
   ],
   "source": [
    "schools.info()"
   ]
  },
  {
   "cell_type": "markdown",
   "id": "60023c62-159e-4d04-829f-bda91f1562f2",
   "metadata": {},
   "source": [
    "There is still another issue. Some of the percentages in the spreadsheet are written as \"89%\" instead of just the number \"89\", so pandas thinks it's text. Let's fix that!"
   ]
  },
  {
   "cell_type": "code",
   "execution_count": 43,
   "id": "39e94d82-6a83-4e9f-ae0d-f71e66ab83a6",
   "metadata": {},
   "outputs": [],
   "source": [
    "for badcol in [\n",
    "    \"Percentage of Grade 3 Students Achieving the Provincial Standard in Reading\",\n",
    "    \"Percentage of Grade 3 Students Achieving the Provincial Standard in Writing\",\n",
    "    \"Percentage of Grade 3 Students Achieving the Provincial Standard in Mathematics\",\n",
    "    \"Percentage of Grade 6 Students Achieving the Provincial Standard in Reading\",\n",
    "    \"Percentage of Grade 6 Students Achieving the Provincial Standard in Writing\",\n",
    "    \"Percentage of Grade 6 Students Achieving the Provincial Standard in Mathematics\",\n",
    "]:\n",
    "    schools[badcol] = schools[badcol].str.rstrip('%').astype('float64')"
   ]
  },
  {
   "cell_type": "code",
   "execution_count": 44,
   "id": "1bc22983-6280-4569-90b1-6ccd3cbd947f",
   "metadata": {},
   "outputs": [
    {
     "name": "stdout",
     "output_type": "stream",
     "text": [
      "<class 'pandas.core.frame.DataFrame'>\n",
      "RangeIndex: 4904 entries, 0 to 4903\n",
      "Data columns (total 19 columns):\n",
      " #   Column                                                                            Non-Null Count  Dtype  \n",
      "---  ------                                                                            --------------  -----  \n",
      " 0   School Type                                                                       4904 non-null   object \n",
      " 1   School Level                                                                      4904 non-null   object \n",
      " 2   School Language                                                                   4904 non-null   object \n",
      " 3   Grade Range                                                                       4904 non-null   object \n",
      " 4   Enrolment                                                                         4677 non-null   float64\n",
      " 5   Percentage of Students Whose First Language Is Not English                        4677 non-null   float64\n",
      " 6   Percentage of Students Whose First Language Is Not French                         4677 non-null   float64\n",
      " 7   Percentage of Students Who Are New to Canada from a Non-English Speaking Country  4677 non-null   float64\n",
      " 8   Percentage of Students Who Are New to Canada from a Non-French Speaking Country   4677 non-null   float64\n",
      " 9   Percentage of Students Receiving Special Education Services                       4677 non-null   float64\n",
      " 10  Percentage of Students Identified as Gifted                                       4677 non-null   float64\n",
      " 11  Percentage of Grade 3 Students Achieving the Provincial Standard in Reading       3507 non-null   float64\n",
      " 12  Percentage of Grade 3 Students Achieving the Provincial Standard in Writing       3507 non-null   float64\n",
      " 13  Percentage of Grade 3 Students Achieving the Provincial Standard in Mathematics   3555 non-null   float64\n",
      " 14  Percentage of Grade 6 Students Achieving the Provincial Standard in Reading       3378 non-null   float64\n",
      " 15  Percentage of Grade 6 Students Achieving the Provincial Standard in Writing       3378 non-null   float64\n",
      " 16  Percentage of Grade 6 Students Achieving the Provincial Standard in Mathematics   3378 non-null   float64\n",
      " 17  Percentage of School-Aged Children Who Live in Low-Income Households              4677 non-null   float64\n",
      " 18  Percentage of Students Whose Parents Have No Degree, Diploma or Certificate       4677 non-null   float64\n",
      "dtypes: float64(15), object(4)\n",
      "memory usage: 728.1+ KB\n"
     ]
    }
   ],
   "source": [
    "schools.info()"
   ]
  },
  {
   "cell_type": "markdown",
   "id": "71a4c871-5560-4e91-8e13-589034b21a56",
   "metadata": {},
   "source": [
    "Let's see if we can do some imputation on the columns that have only 3300 to 3500 values. To be able to do that, we first need to get a sense of how the data is distributed."
   ]
  },
  {
   "cell_type": "code",
   "execution_count": 45,
   "id": "6abcd88b-4f5f-4f82-bffa-31be6022f65b",
   "metadata": {},
   "outputs": [
    {
     "data": {
      "text/plain": [
       "array([[<Axes: title={'center': 'Percentage of Grade 3 Students Achieving the Provincial Standard in Reading'}>,\n",
       "        <Axes: title={'center': 'Percentage of Grade 3 Students Achieving the Provincial Standard in Writing'}>],\n",
       "       [<Axes: title={'center': 'Percentage of Grade 3 Students Achieving the Provincial Standard in Mathematics'}>,\n",
       "        <Axes: title={'center': 'Percentage of Grade 6 Students Achieving the Provincial Standard in Reading'}>],\n",
       "       [<Axes: title={'center': 'Percentage of Grade 6 Students Achieving the Provincial Standard in Writing'}>,\n",
       "        <Axes: title={'center': 'Percentage of Grade 6 Students Achieving the Provincial Standard in Mathematics'}>]],\n",
       "      dtype=object)"
      ]
     },
     "execution_count": 45,
     "metadata": {},
     "output_type": "execute_result"
    },
    {
     "data": {
      "image/png": "[encoded data removed]",
      "text/plain": [
       "<Figure size 640x480 with 6 Axes>"
      ]
     },
     "metadata": {},
     "output_type": "display_data"
    }
   ],
   "source": [
    "schools[[\n",
    "    \"Percentage of Grade 3 Students Achieving the Provincial Standard in Reading\",\n",
    "    \"Percentage of Grade 3 Students Achieving the Provincial Standard in Writing\",\n",
    "    \"Percentage of Grade 3 Students Achieving the Provincial Standard in Mathematics\",\n",
    "    \"Percentage of Grade 6 Students Achieving the Provincial Standard in Reading\",\n",
    "    \"Percentage of Grade 6 Students Achieving the Provincial Standard in Writing\",\n",
    "    \"Percentage of Grade 6 Students Achieving the Provincial Standard in Mathematics\",\n",
    "]].hist()"
   ]
  },
  {
   "cell_type": "markdown",
   "id": "a0573618-d9d0-41a5-9156-af5a671745c6",
   "metadata": {},
   "source": [
    "Comment: the graphs above are not easily readable as they all got mixed up. please rearrange them to make them visible. \n",
    "\n",
    "That all looks quite close to normal distributions, albeit cut off since a percentage needs to be between 0 and 100."
   ]
  },
  {
   "cell_type": "markdown",
   "id": "b246de4e-75d6-43b6-9c44-bbf34c363af5",
   "metadata": {},
   "source": [
    "Get the histograms as regular data that we can fit a curve to.\n",
    "\n",
    "The `np.histogram` produces the bounds rather than the actual x coordinate, so we need to drop the last entry and move everything to the right by half an interval. That way, we get the array of x and y to be the same size which we need for fitting and plotting.\n",
    "\n",
    "Comment: If possible, try to explain the paragrpah above pointing t the histogram to makes it easier for the trainees to follow. "
   ]
  },
  {
   "cell_type": "code",
   "execution_count": 46,
   "id": "875ce8b1-5a3a-4e65-a968-7790797622bf",
   "metadata": {},
   "outputs": [],
   "source": [
    "yhist, xhist = np.histogram(schools[\"Percentage of Grade 6 Students Achieving the Provincial Standard in Reading\"].dropna(), bins=20)\n",
    "xhist=xhist.copy()\n",
    "xhist.resize(len(xhist)-1)\n",
    "xhist = xhist + (xhist[1] - xhist[0]) / 2"
   ]
  },
  {
   "cell_type": "markdown",
   "id": "a4012f3c-b40c-4211-a2d5-afb2206e2fa8",
   "metadata": {},
   "source": [
    "Now we can fit a normal distribution to this. It has three parameters, the amplitude, the mean (mu) and the standard deviation (sigma). The last argument for `p0` sets some starting conditions."
   ]
  },
  {
   "cell_type": "code",
   "execution_count": 47,
   "id": "440d6356-3f86-4bc8-a412-f80176b9f226",
   "metadata": {},
   "outputs": [
    {
     "data": {
      "text/plain": [
       "array([4.37026715e+04, 1.06125916e+02, 2.08856249e+01])"
      ]
     },
     "execution_count": 47,
     "metadata": {},
     "output_type": "execute_result"
    }
   ],
   "source": [
    "res = scipy.optimize.curve_fit(lambda x, A, mu, sigma: A*scipy.stats.norm.pdf(x, loc=mu, scale=sigma), xhist, yhist, p0 = [1000, 60, 20])\n",
    "amplitude, mu, sigma = res[0]\n",
    "res[0]"
   ]
  },
  {
   "cell_type": "markdown",
   "id": "8199801e-5717-45da-9bab-7b1e71f4714c",
   "metadata": {},
   "source": [
    "Let's see how that looks"
   ]
  },
  {
   "cell_type": "code",
   "execution_count": 48,
   "id": "1518783a-13e8-4049-9249-3296c507e55e",
   "metadata": {},
   "outputs": [
    {
     "data": {
      "image/png": "[encoded data removed]",
      "text/plain": [
       "<Figure size 640x480 with 1 Axes>"
      ]
     },
     "metadata": {},
     "output_type": "display_data"
    }
   ],
   "source": [
    "fig, ax = plt.subplots(1, 1)\n",
    "ax.plot(xhist, amplitude*scipy.stats.norm.pdf(xhist, loc=mu, scale=sigma))\n",
    "schools[\"Percentage of Grade 6 Students Achieving the Provincial Standard in Reading\"].hist(bins=20)\n",
    "plt.show()"
   ]
  },
  {
   "cell_type": "markdown",
   "id": "450dc4a2-b9d2-4fd4-9f14-4da8b8f6a73a",
   "metadata": {},
   "source": [
    "That's pretty good. Now let's use that distribution to generate random values to fill in for our missing values. We'll use `trucnnorm` which is a truncated version so that we can guarentee that the numbers fall between 0 and 100. The bounds input it takes is in terms of standard deviations though so we need to do some math!"
   ]
  },
  {
   "cell_type": "code",
   "execution_count": 49,
   "id": "060a7d21-782a-426a-922a-77087bf606b0",
   "metadata": {},
   "outputs": [],
   "source": [
    "missingdatafiller = pd.DataFrame(scipy.stats.truncnorm((0 - mu) / sigma, (100 - mu) / sigma, loc = res[0][1], scale=res[0][2]).rvs(len(schools)), columns=[\"Percentage of Grade 6 Students Achieving the Provincial Standard in Reading\"])\n",
    "schools = schools.fillna(missingdatafiller)"
   ]
  },
  {
   "cell_type": "code",
   "execution_count": 50,
   "id": "004952f0-8826-455d-8600-d0844714f434",
   "metadata": {},
   "outputs": [
    {
     "name": "stdout",
     "output_type": "stream",
     "text": [
      "<class 'pandas.core.frame.DataFrame'>\n",
      "RangeIndex: 4904 entries, 0 to 4903\n",
      "Data columns (total 19 columns):\n",
      " #   Column                                                                            Non-Null Count  Dtype  \n",
      "---  ------                                                                            --------------  -----  \n",
      " 0   School Type                                                                       4904 non-null   object \n",
      " 1   School Level                                                                      4904 non-null   object \n",
      " 2   School Language                                                                   4904 non-null   object \n",
      " 3   Grade Range                                                                       4904 non-null   object \n",
      " 4   Enrolment                                                                         4677 non-null   float64\n",
      " 5   Percentage of Students Whose First Language Is Not English                        4677 non-null   float64\n",
      " 6   Percentage of Students Whose First Language Is Not French                         4677 non-null   float64\n",
      " 7   Percentage of Students Who Are New to Canada from a Non-English Speaking Country  4677 non-null   float64\n",
      " 8   Percentage of Students Who Are New to Canada from a Non-French Speaking Country   4677 non-null   float64\n",
      " 9   Percentage of Students Receiving Special Education Services                       4677 non-null   float64\n",
      " 10  Percentage of Students Identified as Gifted                                       4677 non-null   float64\n",
      " 11  Percentage of Grade 3 Students Achieving the Provincial Standard in Reading       3507 non-null   float64\n",
      " 12  Percentage of Grade 3 Students Achieving the Provincial Standard in Writing       3507 non-null   float64\n",
      " 13  Percentage of Grade 3 Students Achieving the Provincial Standard in Mathematics   3555 non-null   float64\n",
      " 14  Percentage of Grade 6 Students Achieving the Provincial Standard in Reading       4904 non-null   float64\n",
      " 15  Percentage of Grade 6 Students Achieving the Provincial Standard in Writing       3378 non-null   float64\n",
      " 16  Percentage of Grade 6 Students Achieving the Provincial Standard in Mathematics   3378 non-null   float64\n",
      " 17  Percentage of School-Aged Children Who Live in Low-Income Households              4677 non-null   float64\n",
      " 18  Percentage of Students Whose Parents Have No Degree, Diploma or Certificate       4677 non-null   float64\n",
      "dtypes: float64(15), object(4)\n",
      "memory usage: 728.1+ KB\n"
     ]
    }
   ],
   "source": [
    "schools.info()"
   ]
  },
  {
   "cell_type": "markdown",
   "id": "3ddda3e7-fcc4-4e17-9b2f-3d28e1d1e3dc",
   "metadata": {},
   "source": [
    "Excellent, that column is now completely filled. Let's do the other ones too.\n",
    "\n",
    "Comment: Please explain more clearly your last sentence. let's do what to the other ones?"
   ]
  },
  {
   "cell_type": "code",
   "execution_count": 51,
   "id": "c551232a-e12f-4a26-83fb-f726c9890282",
   "metadata": {},
   "outputs": [],
   "source": [
    "for badcol in [\n",
    "    \"Percentage of Grade 3 Students Achieving the Provincial Standard in Reading\",\n",
    "    \"Percentage of Grade 3 Students Achieving the Provincial Standard in Writing\",\n",
    "    \"Percentage of Grade 3 Students Achieving the Provincial Standard in Mathematics\",\n",
    "    \"Percentage of Grade 6 Students Achieving the Provincial Standard in Writing\",\n",
    "    \"Percentage of Grade 6 Students Achieving the Provincial Standard in Mathematics\",\n",
    "]:\n",
    "    yhist, xhist = np.histogram(schools[badcol].dropna(), bins=20)\n",
    "    xhist=xhist.copy()\n",
    "    xhist.resize(len(xhist)-1)\n",
    "    xhist = xhist + (xhist[1] - xhist[0]) / 2\n",
    "\n",
    "    res = scipy.optimize.curve_fit(lambda x, A, mu, sigma: A*scipy.stats.norm.pdf(x, loc=mu, scale=sigma), xhist, yhist, p0 = [1000, 60, 20])\n",
    "    amplitude, mu, sigma = res[0]\n",
    "\n",
    "    missingdatafiller[badcol] = scipy.stats.truncnorm((0 - mu) / sigma, (100 - mu) / sigma, loc = res[0][1], scale=res[0][2]).rvs(len(schools))\n",
    "schools = schools.fillna(missingdatafiller)"
   ]
  },
  {
   "cell_type": "code",
   "execution_count": 52,
   "id": "60813cae-3d4d-480f-8283-2e801fb1e0c4",
   "metadata": {},
   "outputs": [
    {
     "name": "stdout",
     "output_type": "stream",
     "text": [
      "<class 'pandas.core.frame.DataFrame'>\n",
      "RangeIndex: 4904 entries, 0 to 4903\n",
      "Data columns (total 19 columns):\n",
      " #   Column                                                                            Non-Null Count  Dtype  \n",
      "---  ------                                                                            --------------  -----  \n",
      " 0   School Type                                                                       4904 non-null   object \n",
      " 1   School Level                                                                      4904 non-null   object \n",
      " 2   School Language                                                                   4904 non-null   object \n",
      " 3   Grade Range                                                                       4904 non-null   object \n",
      " 4   Enrolment                                                                         4677 non-null   float64\n",
      " 5   Percentage of Students Whose First Language Is Not English                        4677 non-null   float64\n",
      " 6   Percentage of Students Whose First Language Is Not French                         4677 non-null   float64\n",
      " 7   Percentage of Students Who Are New to Canada from a Non-English Speaking Country  4677 non-null   float64\n",
      " 8   Percentage of Students Who Are New to Canada from a Non-French Speaking Country   4677 non-null   float64\n",
      " 9   Percentage of Students Receiving Special Education Services                       4677 non-null   float64\n",
      " 10  Percentage of Students Identified as Gifted                                       4677 non-null   float64\n",
      " 11  Percentage of Grade 3 Students Achieving the Provincial Standard in Reading       4904 non-null   float64\n",
      " 12  Percentage of Grade 3 Students Achieving the Provincial Standard in Writing       4904 non-null   float64\n",
      " 13  Percentage of Grade 3 Students Achieving the Provincial Standard in Mathematics   4904 non-null   float64\n",
      " 14  Percentage of Grade 6 Students Achieving the Provincial Standard in Reading       4904 non-null   float64\n",
      " 15  Percentage of Grade 6 Students Achieving the Provincial Standard in Writing       4904 non-null   float64\n",
      " 16  Percentage of Grade 6 Students Achieving the Provincial Standard in Mathematics   4904 non-null   float64\n",
      " 17  Percentage of School-Aged Children Who Live in Low-Income Households              4677 non-null   float64\n",
      " 18  Percentage of Students Whose Parents Have No Degree, Diploma or Certificate       4677 non-null   float64\n",
      "dtypes: float64(15), object(4)\n",
      "memory usage: 728.1+ KB\n"
     ]
    }
   ],
   "source": [
    "schools.info()"
   ]
  },
  {
   "cell_type": "markdown",
   "id": "7a465c3d-2cb6-46d5-a52b-0f17b9115d82",
   "metadata": {},
   "source": [
    "Cool, that is a nice chunk of data. For the other columns, there isn't too much data missing, so lets just drop the missing values for those."
   ]
  },
  {
   "cell_type": "code",
   "execution_count": 53,
   "id": "330fbc8a-6bc3-46df-805e-27d73d0cc0d8",
   "metadata": {},
   "outputs": [
    {
     "data": {
      "text/html": [
       "<div>\n",
       "<style scoped>\n",
       "    .dataframe tbody tr th:only-of-type {\n",
       "        vertical-align: middle;\n",
       "    }\n",
       "\n",
       "    .dataframe tbody tr th {\n",
       "        vertical-align: top;\n",
       "    }\n",
       "\n",
       "    .dataframe thead th {\n",
       "        text-align: right;\n",
       "    }\n",
       "</style>\n",
       "<table border=\"1\" class=\"dataframe\">\n",
       "  <thead>\n",
       "    <tr style=\"text-align: right;\">\n",
       "      <th></th>\n",
       "      <th>School Type</th>\n",
       "      <th>School Level</th>\n",
       "      <th>School Language</th>\n",
       "      <th>Grade Range</th>\n",
       "      <th>Enrolment</th>\n",
       "      <th>Percentage of Students Whose First Language Is Not English</th>\n",
       "      <th>Percentage of Students Whose First Language Is Not French</th>\n",
       "      <th>Percentage of Students Who Are New to Canada from a Non-English Speaking Country</th>\n",
       "      <th>Percentage of Students Who Are New to Canada from a Non-French Speaking Country</th>\n",
       "      <th>Percentage of Students Receiving Special Education Services</th>\n",
       "      <th>Percentage of Students Identified as Gifted</th>\n",
       "      <th>Percentage of Grade 3 Students Achieving the Provincial Standard in Reading</th>\n",
       "      <th>Percentage of Grade 3 Students Achieving the Provincial Standard in Writing</th>\n",
       "      <th>Percentage of Grade 3 Students Achieving the Provincial Standard in Mathematics</th>\n",
       "      <th>Percentage of Grade 6 Students Achieving the Provincial Standard in Reading</th>\n",
       "      <th>Percentage of Grade 6 Students Achieving the Provincial Standard in Writing</th>\n",
       "      <th>Percentage of Grade 6 Students Achieving the Provincial Standard in Mathematics</th>\n",
       "      <th>Percentage of School-Aged Children Who Live in Low-Income Households</th>\n",
       "      <th>Percentage of Students Whose Parents Have No Degree, Diploma or Certificate</th>\n",
       "    </tr>\n",
       "  </thead>\n",
       "  <tbody>\n",
       "    <tr>\n",
       "      <th>0</th>\n",
       "      <td>Public</td>\n",
       "      <td>Secondary</td>\n",
       "      <td>English</td>\n",
       "      <td>9-12</td>\n",
       "      <td>190.0</td>\n",
       "      <td>0.0</td>\n",
       "      <td>100.0</td>\n",
       "      <td>0.0</td>\n",
       "      <td>0.0</td>\n",
       "      <td>30.0</td>\n",
       "      <td>0.0</td>\n",
       "      <td>82.354269</td>\n",
       "      <td>44.586377</td>\n",
       "      <td>50.073405</td>\n",
       "      <td>79.01278</td>\n",
       "      <td>58.359324</td>\n",
       "      <td>65.963431</td>\n",
       "      <td>20.0</td>\n",
       "      <td>5.0</td>\n",
       "    </tr>\n",
       "    <tr>\n",
       "      <th>1</th>\n",
       "      <td>Public</td>\n",
       "      <td>Elementary</td>\n",
       "      <td>English</td>\n",
       "      <td>JK-8</td>\n",
       "      <td>260.0</td>\n",
       "      <td>0.0</td>\n",
       "      <td>100.0</td>\n",
       "      <td>5.0</td>\n",
       "      <td>0.0</td>\n",
       "      <td>15.0</td>\n",
       "      <td>0.0</td>\n",
       "      <td>89.000000</td>\n",
       "      <td>85.000000</td>\n",
       "      <td>85.000000</td>\n",
       "      <td>73.00000</td>\n",
       "      <td>77.000000</td>\n",
       "      <td>50.000000</td>\n",
       "      <td>10.0</td>\n",
       "      <td>0.0</td>\n",
       "    </tr>\n",
       "    <tr>\n",
       "      <th>2</th>\n",
       "      <td>Public</td>\n",
       "      <td>Elementary</td>\n",
       "      <td>English</td>\n",
       "      <td>JK-8</td>\n",
       "      <td>185.0</td>\n",
       "      <td>10.0</td>\n",
       "      <td>100.0</td>\n",
       "      <td>10.0</td>\n",
       "      <td>5.0</td>\n",
       "      <td>30.0</td>\n",
       "      <td>0.0</td>\n",
       "      <td>42.000000</td>\n",
       "      <td>21.000000</td>\n",
       "      <td>26.000000</td>\n",
       "      <td>63.00000</td>\n",
       "      <td>58.000000</td>\n",
       "      <td>32.000000</td>\n",
       "      <td>30.0</td>\n",
       "      <td>5.0</td>\n",
       "    </tr>\n",
       "    <tr>\n",
       "      <th>3</th>\n",
       "      <td>Public</td>\n",
       "      <td>Elementary</td>\n",
       "      <td>English</td>\n",
       "      <td>JK-8</td>\n",
       "      <td>170.0</td>\n",
       "      <td>0.0</td>\n",
       "      <td>100.0</td>\n",
       "      <td>0.0</td>\n",
       "      <td>0.0</td>\n",
       "      <td>20.0</td>\n",
       "      <td>0.0</td>\n",
       "      <td>68.000000</td>\n",
       "      <td>47.000000</td>\n",
       "      <td>53.000000</td>\n",
       "      <td>75.00000</td>\n",
       "      <td>75.000000</td>\n",
       "      <td>45.000000</td>\n",
       "      <td>20.0</td>\n",
       "      <td>5.0</td>\n",
       "    </tr>\n",
       "    <tr>\n",
       "      <th>4</th>\n",
       "      <td>Public</td>\n",
       "      <td>Elementary</td>\n",
       "      <td>English</td>\n",
       "      <td>JK-8</td>\n",
       "      <td>465.0</td>\n",
       "      <td>10.0</td>\n",
       "      <td>95.0</td>\n",
       "      <td>0.0</td>\n",
       "      <td>0.0</td>\n",
       "      <td>5.0</td>\n",
       "      <td>0.0</td>\n",
       "      <td>63.947466</td>\n",
       "      <td>92.029546</td>\n",
       "      <td>23.000000</td>\n",
       "      <td>85.00000</td>\n",
       "      <td>88.000000</td>\n",
       "      <td>59.000000</td>\n",
       "      <td>20.0</td>\n",
       "      <td>0.0</td>\n",
       "    </tr>\n",
       "    <tr>\n",
       "      <th>...</th>\n",
       "      <td>...</td>\n",
       "      <td>...</td>\n",
       "      <td>...</td>\n",
       "      <td>...</td>\n",
       "      <td>...</td>\n",
       "      <td>...</td>\n",
       "      <td>...</td>\n",
       "      <td>...</td>\n",
       "      <td>...</td>\n",
       "      <td>...</td>\n",
       "      <td>...</td>\n",
       "      <td>...</td>\n",
       "      <td>...</td>\n",
       "      <td>...</td>\n",
       "      <td>...</td>\n",
       "      <td>...</td>\n",
       "      <td>...</td>\n",
       "      <td>...</td>\n",
       "      <td>...</td>\n",
       "    </tr>\n",
       "    <tr>\n",
       "      <th>4899</th>\n",
       "      <td>Public</td>\n",
       "      <td>Elementary</td>\n",
       "      <td>English</td>\n",
       "      <td>JK-8</td>\n",
       "      <td>645.0</td>\n",
       "      <td>72.0</td>\n",
       "      <td>99.0</td>\n",
       "      <td>14.0</td>\n",
       "      <td>15.0</td>\n",
       "      <td>6.0</td>\n",
       "      <td>0.0</td>\n",
       "      <td>77.000000</td>\n",
       "      <td>77.000000</td>\n",
       "      <td>76.000000</td>\n",
       "      <td>89.00000</td>\n",
       "      <td>94.000000</td>\n",
       "      <td>74.000000</td>\n",
       "      <td>17.0</td>\n",
       "      <td>4.0</td>\n",
       "    </tr>\n",
       "    <tr>\n",
       "      <th>4900</th>\n",
       "      <td>Public</td>\n",
       "      <td>Secondary</td>\n",
       "      <td>English</td>\n",
       "      <td>9-12</td>\n",
       "      <td>495.0</td>\n",
       "      <td>50.0</td>\n",
       "      <td>100.0</td>\n",
       "      <td>10.0</td>\n",
       "      <td>10.0</td>\n",
       "      <td>20.0</td>\n",
       "      <td>0.0</td>\n",
       "      <td>48.925811</td>\n",
       "      <td>97.601158</td>\n",
       "      <td>93.622067</td>\n",
       "      <td>81.28936</td>\n",
       "      <td>39.627791</td>\n",
       "      <td>31.117065</td>\n",
       "      <td>10.0</td>\n",
       "      <td>10.0</td>\n",
       "    </tr>\n",
       "    <tr>\n",
       "      <th>4901</th>\n",
       "      <td>Public</td>\n",
       "      <td>Elementary</td>\n",
       "      <td>English</td>\n",
       "      <td>JK-8</td>\n",
       "      <td>515.0</td>\n",
       "      <td>52.0</td>\n",
       "      <td>100.0</td>\n",
       "      <td>8.0</td>\n",
       "      <td>8.0</td>\n",
       "      <td>7.0</td>\n",
       "      <td>0.0</td>\n",
       "      <td>61.000000</td>\n",
       "      <td>65.000000</td>\n",
       "      <td>50.000000</td>\n",
       "      <td>74.00000</td>\n",
       "      <td>70.000000</td>\n",
       "      <td>35.000000</td>\n",
       "      <td>14.0</td>\n",
       "      <td>7.0</td>\n",
       "    </tr>\n",
       "    <tr>\n",
       "      <th>4902</th>\n",
       "      <td>Public</td>\n",
       "      <td>Elementary</td>\n",
       "      <td>English</td>\n",
       "      <td>1-8</td>\n",
       "      <td>245.0</td>\n",
       "      <td>50.0</td>\n",
       "      <td>100.0</td>\n",
       "      <td>0.0</td>\n",
       "      <td>0.0</td>\n",
       "      <td>0.0</td>\n",
       "      <td>0.0</td>\n",
       "      <td>91.486317</td>\n",
       "      <td>53.148410</td>\n",
       "      <td>66.274318</td>\n",
       "      <td>93.00000</td>\n",
       "      <td>96.000000</td>\n",
       "      <td>80.000000</td>\n",
       "      <td>20.0</td>\n",
       "      <td>0.0</td>\n",
       "    </tr>\n",
       "    <tr>\n",
       "      <th>4903</th>\n",
       "      <td>Public</td>\n",
       "      <td>Elementary</td>\n",
       "      <td>English</td>\n",
       "      <td>JK-8</td>\n",
       "      <td>350.0</td>\n",
       "      <td>45.0</td>\n",
       "      <td>100.0</td>\n",
       "      <td>0.0</td>\n",
       "      <td>0.0</td>\n",
       "      <td>10.0</td>\n",
       "      <td>0.0</td>\n",
       "      <td>95.000000</td>\n",
       "      <td>75.000000</td>\n",
       "      <td>82.000000</td>\n",
       "      <td>88.00000</td>\n",
       "      <td>75.000000</td>\n",
       "      <td>62.000000</td>\n",
       "      <td>10.0</td>\n",
       "      <td>0.0</td>\n",
       "    </tr>\n",
       "  </tbody>\n",
       "</table>\n",
       "<p>4677 rows × 19 columns</p>\n",
       "</div>"
      ],
      "text/plain": [
       "     School Type School Level School Language Grade Range  Enrolment  \\\n",
       "0         Public    Secondary         English        9-12      190.0   \n",
       "1         Public   Elementary         English        JK-8      260.0   \n",
       "2         Public   Elementary         English        JK-8      185.0   \n",
       "3         Public   Elementary         English        JK-8      170.0   \n",
       "4         Public   Elementary         English        JK-8      465.0   \n",
       "...          ...          ...             ...         ...        ...   \n",
       "4899      Public   Elementary         English        JK-8      645.0   \n",
       "4900      Public    Secondary         English        9-12      495.0   \n",
       "4901      Public   Elementary         English        JK-8      515.0   \n",
       "4902      Public   Elementary         English         1-8      245.0   \n",
       "4903      Public   Elementary         English        JK-8      350.0   \n",
       "\n",
       "      Percentage of Students Whose First Language Is Not English  \\\n",
       "0                                                   0.0            \n",
       "1                                                   0.0            \n",
       "2                                                  10.0            \n",
       "3                                                   0.0            \n",
       "4                                                  10.0            \n",
       "...                                                 ...            \n",
       "4899                                               72.0            \n",
       "4900                                               50.0            \n",
       "4901                                               52.0            \n",
       "4902                                               50.0            \n",
       "4903                                               45.0            \n",
       "\n",
       "      Percentage of Students Whose First Language Is Not French  \\\n",
       "0                                                 100.0           \n",
       "1                                                 100.0           \n",
       "2                                                 100.0           \n",
       "3                                                 100.0           \n",
       "4                                                  95.0           \n",
       "...                                                 ...           \n",
       "4899                                               99.0           \n",
       "4900                                              100.0           \n",
       "4901                                              100.0           \n",
       "4902                                              100.0           \n",
       "4903                                              100.0           \n",
       "\n",
       "      Percentage of Students Who Are New to Canada from a Non-English Speaking Country  \\\n",
       "0                                                   0.0                                  \n",
       "1                                                   5.0                                  \n",
       "2                                                  10.0                                  \n",
       "3                                                   0.0                                  \n",
       "4                                                   0.0                                  \n",
       "...                                                 ...                                  \n",
       "4899                                               14.0                                  \n",
       "4900                                               10.0                                  \n",
       "4901                                                8.0                                  \n",
       "4902                                                0.0                                  \n",
       "4903                                                0.0                                  \n",
       "\n",
       "      Percentage of Students Who Are New to Canada from a Non-French Speaking Country  \\\n",
       "0                                                   0.0                                 \n",
       "1                                                   0.0                                 \n",
       "2                                                   5.0                                 \n",
       "3                                                   0.0                                 \n",
       "4                                                   0.0                                 \n",
       "...                                                 ...                                 \n",
       "4899                                               15.0                                 \n",
       "4900                                               10.0                                 \n",
       "4901                                                8.0                                 \n",
       "4902                                                0.0                                 \n",
       "4903                                                0.0                                 \n",
       "\n",
       "      Percentage of Students Receiving Special Education Services  \\\n",
       "0                                                  30.0             \n",
       "1                                                  15.0             \n",
       "2                                                  30.0             \n",
       "3                                                  20.0             \n",
       "4                                                   5.0             \n",
       "...                                                 ...             \n",
       "4899                                                6.0             \n",
       "4900                                               20.0             \n",
       "4901                                                7.0             \n",
       "4902                                                0.0             \n",
       "4903                                               10.0             \n",
       "\n",
       "      Percentage of Students Identified as Gifted  \\\n",
       "0                                             0.0   \n",
       "1                                             0.0   \n",
       "2                                             0.0   \n",
       "3                                             0.0   \n",
       "4                                             0.0   \n",
       "...                                           ...   \n",
       "4899                                          0.0   \n",
       "4900                                          0.0   \n",
       "4901                                          0.0   \n",
       "4902                                          0.0   \n",
       "4903                                          0.0   \n",
       "\n",
       "      Percentage of Grade 3 Students Achieving the Provincial Standard in Reading  \\\n",
       "0                                             82.354269                             \n",
       "1                                             89.000000                             \n",
       "2                                             42.000000                             \n",
       "3                                             68.000000                             \n",
       "4                                             63.947466                             \n",
       "...                                                 ...                             \n",
       "4899                                          77.000000                             \n",
       "4900                                          48.925811                             \n",
       "4901                                          61.000000                             \n",
       "4902                                          91.486317                             \n",
       "4903                                          95.000000                             \n",
       "\n",
       "      Percentage of Grade 3 Students Achieving the Provincial Standard in Writing  \\\n",
       "0                                             44.586377                             \n",
       "1                                             85.000000                             \n",
       "2                                             21.000000                             \n",
       "3                                             47.000000                             \n",
       "4                                             92.029546                             \n",
       "...                                                 ...                             \n",
       "4899                                          77.000000                             \n",
       "4900                                          97.601158                             \n",
       "4901                                          65.000000                             \n",
       "4902                                          53.148410                             \n",
       "4903                                          75.000000                             \n",
       "\n",
       "      Percentage of Grade 3 Students Achieving the Provincial Standard in Mathematics  \\\n",
       "0                                             50.073405                                 \n",
       "1                                             85.000000                                 \n",
       "2                                             26.000000                                 \n",
       "3                                             53.000000                                 \n",
       "4                                             23.000000                                 \n",
       "...                                                 ...                                 \n",
       "4899                                          76.000000                                 \n",
       "4900                                          93.622067                                 \n",
       "4901                                          50.000000                                 \n",
       "4902                                          66.274318                                 \n",
       "4903                                          82.000000                                 \n",
       "\n",
       "      Percentage of Grade 6 Students Achieving the Provincial Standard in Reading  \\\n",
       "0                                              79.01278                             \n",
       "1                                              73.00000                             \n",
       "2                                              63.00000                             \n",
       "3                                              75.00000                             \n",
       "4                                              85.00000                             \n",
       "...                                                 ...                             \n",
       "4899                                           89.00000                             \n",
       "4900                                           81.28936                             \n",
       "4901                                           74.00000                             \n",
       "4902                                           93.00000                             \n",
       "4903                                           88.00000                             \n",
       "\n",
       "      Percentage of Grade 6 Students Achieving the Provincial Standard in Writing  \\\n",
       "0                                             58.359324                             \n",
       "1                                             77.000000                             \n",
       "2                                             58.000000                             \n",
       "3                                             75.000000                             \n",
       "4                                             88.000000                             \n",
       "...                                                 ...                             \n",
       "4899                                          94.000000                             \n",
       "4900                                          39.627791                             \n",
       "4901                                          70.000000                             \n",
       "4902                                          96.000000                             \n",
       "4903                                          75.000000                             \n",
       "\n",
       "      Percentage of Grade 6 Students Achieving the Provincial Standard in Mathematics  \\\n",
       "0                                             65.963431                                 \n",
       "1                                             50.000000                                 \n",
       "2                                             32.000000                                 \n",
       "3                                             45.000000                                 \n",
       "4                                             59.000000                                 \n",
       "...                                                 ...                                 \n",
       "4899                                          74.000000                                 \n",
       "4900                                          31.117065                                 \n",
       "4901                                          35.000000                                 \n",
       "4902                                          80.000000                                 \n",
       "4903                                          62.000000                                 \n",
       "\n",
       "      Percentage of School-Aged Children Who Live in Low-Income Households  \\\n",
       "0                                                  20.0                      \n",
       "1                                                  10.0                      \n",
       "2                                                  30.0                      \n",
       "3                                                  20.0                      \n",
       "4                                                  20.0                      \n",
       "...                                                 ...                      \n",
       "4899                                               17.0                      \n",
       "4900                                               10.0                      \n",
       "4901                                               14.0                      \n",
       "4902                                               20.0                      \n",
       "4903                                               10.0                      \n",
       "\n",
       "      Percentage of Students Whose Parents Have No Degree, Diploma or Certificate  \n",
       "0                                                   5.0                            \n",
       "1                                                   0.0                            \n",
       "2                                                   5.0                            \n",
       "3                                                   5.0                            \n",
       "4                                                   0.0                            \n",
       "...                                                 ...                            \n",
       "4899                                                4.0                            \n",
       "4900                                               10.0                            \n",
       "4901                                                7.0                            \n",
       "4902                                                0.0                            \n",
       "4903                                                0.0                            \n",
       "\n",
       "[4677 rows x 19 columns]"
      ]
     },
     "execution_count": 53,
     "metadata": {},
     "output_type": "execute_result"
    }
   ],
   "source": [
    "schools = schools.dropna()\n",
    "schools"
   ]
  },
  {
   "cell_type": "markdown",
   "id": "12fa6056-c75f-480d-97a1-80e36492d2b6",
   "metadata": {},
   "source": [
    "We still have a few columns that are text values. We can do the same thing as before with the dummies."
   ]
  },
  {
   "cell_type": "code",
   "execution_count": 54,
   "id": "1f80899c-0fd9-4512-99f6-85a5c299438c",
   "metadata": {},
   "outputs": [],
   "source": [
    "dummies = schools[\"School Type\"].apply(pd.Series).stack().str.get_dummies().groupby(level=0).sum().add_prefix('schooltype_')\n",
    "schools = schools.join(dummies)\n",
    "dummies = schools[\"School Level\"].apply(pd.Series).stack().str.get_dummies().groupby(level=0).sum().add_prefix('schoollevel_')\n",
    "schools = schools.join(dummies)\n",
    "dummies = schools[\"School Language\"].apply(pd.Series).stack().str.get_dummies().groupby(level=0).sum().add_prefix('schoollanguage_')\n",
    "schools = schools.join(dummies)\n",
    "dummies = schools[\"Grade Range\"].apply(pd.Series).stack().str.get_dummies().groupby(level=0).sum().add_prefix('graderange_')\n",
    "schools = schools.join(dummies)"
   ]
  },
  {
   "cell_type": "markdown",
   "id": "142328bb-dc95-45db-b100-04d42645d52f",
   "metadata": {},
   "source": [
    "We don't need the columns that we created the dummies from anymore, so lets drop those."
   ]
  },
  {
   "cell_type": "code",
   "execution_count": 55,
   "id": "e8603336-f942-4219-816c-b7f354c4fd42",
   "metadata": {},
   "outputs": [],
   "source": [
    "schools = schools.drop([\"School Type\", \"School Level\", \"School Language\", \"Grade Range\"], axis=1)"
   ]
  },
  {
   "cell_type": "markdown",
   "id": "18b3b527-f194-405e-935d-3da268be73e6",
   "metadata": {},
   "source": [
    "Now our data is in good shape. Well, we hope anyway!\n",
    "\n",
    "Let's try the training to predict the percentage of parents that have no formal education which might be related to the scores of their children."
   ]
  },
  {
   "cell_type": "code",
   "execution_count": 56,
   "id": "69db0c92-60ff-4e27-91a1-7a5137600ee7",
   "metadata": {},
   "outputs": [
    {
     "name": "stdout",
     "output_type": "stream",
     "text": [
      "Accuracy: 0.03205128205128205\n"
     ]
    }
   ],
   "source": [
    "X = schools.drop(\"Percentage of Students Whose Parents Have No Degree, Diploma or Certificate\", axis=1)\n",
    "y = schools[\"Percentage of Students Whose Parents Have No Degree, Diploma or Certificate\"]\n",
    "\n",
    "# Split the data into training and testing sets\n",
    "X_train, X_test, y_train, y_test = train_test_split(X, y, test_size=0.2, random_state=42)\n",
    "\n",
    "# Train a Gaussian Naive Bayes classifier\n",
    "gnb = GaussianNB()\n",
    "gnb.fit(X_train, y_train)\n",
    "\n",
    "# Make predictions on the test set\n",
    "y_pred = gnb.predict(X_test)\n",
    "\n",
    "# Evaluate the performance of the classifier\n",
    "accuracy = accuracy_score(y_test, y_pred)\n",
    "print(\"Accuracy:\", accuracy)"
   ]
  },
  {
   "cell_type": "markdown",
   "id": "c3a66a8f-b805-41b6-a4a3-f99d3309603b",
   "metadata": {},
   "source": [
    "That is an extremely low accuracy. The trouble here is that we are trying to predict the accuracy too precisely. It sees getting 20% as wrong if the actual value was 21% for example. That seems rather harsh, so let's make it predict intervals instead.\n",
    "\n",
    "Comment: what is interval prediction? please explain. "
   ]
  },
  {
   "cell_type": "code",
   "execution_count": 57,
   "id": "89157c67-7289-454f-bab9-dd493b0f49fc",
   "metadata": {},
   "outputs": [
    {
     "name": "stdout",
     "output_type": "stream",
     "text": [
      "Accuracy: 0.22435897435897437\n"
     ]
    }
   ],
   "source": [
    "X = schools.drop(\"Percentage of Students Whose Parents Have No Degree, Diploma or Certificate\", axis=1)\n",
    "# y now has np.floor / 20 which makes 20 bins.\n",
    "y = np.floor(schools[\"Percentage of Students Whose Parents Have No Degree, Diploma or Certificate\"] / 20)\n",
    "\n",
    "# Split the data into training and testing sets\n",
    "X_train, X_test, y_train, y_test = train_test_split(X, y, test_size=0.2, random_state=42)\n",
    "\n",
    "# Train a Gaussian Naive Bayes classifier\n",
    "gnb = GaussianNB()\n",
    "gnb.fit(X_train, y_train)\n",
    "\n",
    "# Make predictions on the test set\n",
    "y_pred = gnb.predict(X_test)\n",
    "\n",
    "# Evaluate the performance of the classifier\n",
    "accuracy = accuracy_score(y_test, y_pred)\n",
    "print(\"Accuracy:\", accuracy)"
   ]
  },
  {
   "cell_type": "markdown",
   "id": "b1ac7ace-a10d-464a-9642-91138d1067ec",
   "metadata": {},
   "source": [
    "The accuracy is now 22%. That's not very good. It's better than random (20 bins means 5% if randomly guessing), but it's pretty bad.\n",
    "\n",
    "Comment: Consider rephrasing the paragraph above.It is confusing now. \n",
    "\n",
    "So what went wrong. Either the education level of the parent doesn't have that much impact or the model we were trying to apply wasn't the best choice. Remember that Naive Bayes is naive because it expects the input columns to be independent. If we look at the correlation, we can see that is definitely not always true.\n",
    "\n",
    "Comment: what are we looking at in the plot below? X? Y? the correlation is being visible? \n",
    "\n"
   ]
  },
  {
   "cell_type": "code",
   "execution_count": 58,
   "id": "3a0eab62-ed74-442a-8797-0aa46fe005fe",
   "metadata": {},
   "outputs": [
    {
     "data": {
      "text/plain": [
       "<Axes: >"
      ]
     },
     "execution_count": 58,
     "metadata": {},
     "output_type": "execute_result"
    },
    {
     "data": {
      "image/png": "[encoded data removed]",
      "text/plain": [
       "<Figure size 640x480 with 2 Axes>"
      ]
     },
     "metadata": {},
     "output_type": "display_data"
    }
   ],
   "source": [
    "sns.heatmap(schools.corr(), cmap=\"coolwarm\")"
   ]
  },
  {
   "cell_type": "markdown",
   "id": "b99fd747",
   "metadata": {
    "jp-MarkdownHeadingCollapsed": true
   },
   "source": [
    "Comment: write a concluding paragraph for the school grade section. and end it with what should we do next since it did not work well. "
   ]
  },
  {
   "cell_type": "markdown",
   "id": "b35ce985",
   "metadata": {
    "jp-MarkdownHeadingCollapsed": true
   },
   "source": [
    "# Conclusion\n",
    "\n",
    "In this training you learned ...\n",
    "\n",
    "Now it is time to move to \"name of next training\" to learn how to do \"x.\"\n",
    "\n",
    "Comment: Please write the concluding paragraphs above. "
   ]
  },
  {
   "cell_type": "code",
   "execution_count": null,
   "id": "8973482d",
   "metadata": {},
   "outputs": [],
   "source": []
  }
 ],
 "metadata": {
  "kernelspec": {
   "display_name": "Python 3 (ipykernel)",
   "language": "python",
   "name": "python3"
  },
  "language_info": {
   "codemirror_mode": {
    "name": "ipython",
    "version": 3
   },
   "file_extension": ".py",
   "mimetype": "text/x-python",
   "name": "python",
   "nbconvert_exporter": "python",
   "pygments_lexer": "ipython3",
   "version": "3.11.5"
  }
 },
 "nbformat": 4,
 "nbformat_minor": 5
}
